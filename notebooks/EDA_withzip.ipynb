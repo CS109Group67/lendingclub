{
 "cells": [
  {
   "cell_type": "markdown",
   "metadata": {
    "tags": [
     "hidden"
    ]
   },
   "source": [
    "# EDA & Cleaning"
   ]
  },
  {
   "cell_type": "code",
   "execution_count": 1,
   "metadata": {
    "hide": true
   },
   "outputs": [],
   "source": [
    "#IMPORTS\n",
    "import warnings; warnings.filterwarnings('ignore')\n",
    "import numpy as np\n",
    "import pandas as pd\n",
    "import matplotlib.pyplot as plt\n",
    "from IPython.display import Markdown, display\n",
    "pd.options.display.float_format = '{:.3f}'.format\n",
    "plt.rcParams['figure.figsize'] = (10, 2)"
   ]
  },
  {
   "cell_type": "code",
   "execution_count": 2,
   "metadata": {
    "hide": true
   },
   "outputs": [],
   "source": [
    "#LOAD LOANSTATS\n",
    "directory = '../../data/'\n",
    "ls = pd.read_hdf(directory + 'Ls_MERGED.h5', 'ls_MERGED') # HDF5\n",
    "ls.sort_index(axis=1, inplace=True)"
   ]
  },
  {
   "cell_type": "code",
   "execution_count": 3,
   "metadata": {
    "hide": true
   },
   "outputs": [],
   "source": [
    "#LOAD DATA DICTIONARY\n",
    "sheet_dict = pd.read_excel(directory + 'LCDataDictionary.xlsx', sheet_name=None)\n",
    "data_dict = {}\n",
    "for key in sheet_dict:\n",
    "    for index, row in sheet_dict[key].iterrows():\n",
    "        if type(row[0]) != float:\n",
    "            data_dict[row[0].strip()] = row[1]"
   ]
  },
  {
   "cell_type": "markdown",
   "metadata": {},
   "source": [
    "## 1. Term-Complete Representative Subset"
   ]
  },
  {
   "cell_type": "markdown",
   "metadata": {},
   "source": [
    "'Term-complete' loans have completed their full term whereas 'in-force' loans have not completed their term.  To get the most representative outcome information we first remove the loan instances that are not term-complete. Also, LC no longer offers loans of the lowest grades F or G, so we removed these loans from the dataset."
   ]
  },
  {
   "cell_type": "code",
   "execution_count": 4,
   "metadata": {},
   "outputs": [],
   "source": [
    "#TERM-COMPLETE GRADES A-E\n",
    "completed_36 = (ls['issue_d'] < '2015-04-01') & (ls['term']  == ' 36 months')\n",
    "completed_60 = (ls['issue_d'] < '2013-04-01') & (ls['term']  == ' 60 months')\n",
    "ls = ls[completed_36 | completed_60]\n",
    "ls = ls[(ls['grade'] != 'F') & (ls['grade'] != 'G')]"
   ]
  },
  {
   "cell_type": "markdown",
   "metadata": {},
   "source": [
    "## 2. Inconsequential Variable Removal"
   ]
  },
  {
   "cell_type": "markdown",
   "metadata": {},
   "source": [
    "We removed variables from the `loanstats` dataset that would not be meaningful in the modeling for the following reasons:\n",
    "1. LC recently began reporting some new variables which are not reported in the term-complete subset. \n",
    "2. LC recently began accepting joint loans and variables related to coborrowers are empty in the term-complete subset. \n",
    "3. We designed three outcome features based on the set of dependent variables (see [Outcome Feature Design](https://cs109group67.github.io/lendingclub/EDA.html#3-outcome-feature-design))\n",
    "4. Some variables are non-standard text descriptions or otherwise inconsequential"
   ]
  },
  {
   "cell_type": "code",
   "execution_count": 5,
   "metadata": {},
   "outputs": [],
   "source": [
    "#1 NEW\n",
    "empty = ['all_util', 'il_util', 'inq_fi', 'inq_last_12m', 'max_bal_bc', \n",
    "         'mths_since_rcnt_il', 'open_acc_6m', 'open_act_il', 'open_il_12m', \n",
    "         'open_il_24m', 'open_rv_12m', 'open_rv_24m','total_bal_il', 'total_cu_tl']\n",
    "\n",
    "#2 CO-BORROWER\n",
    "joint = ['application_type', 'annual_inc_joint', 'dti_joint', 'revol_bal_joint', \n",
    "         'sec_app_chargeoff_within_12_mths', 'sec_app_collections_12_mths_ex_med', \n",
    "         'sec_app_earliest_cr_line', 'sec_app_inq_last_6mths', 'sec_app_mort_acc', \n",
    "         'sec_app_mths_since_last_major_derog', 'sec_app_num_rev_accts', 'sec_app_open_acc', \n",
    "         'sec_app_open_act_il', 'sec_app_revol_util', 'verification_status_joint']\n",
    "\n",
    "#3 DEPENDENT\n",
    "dependent = [# Payment Variables (11): \n",
    "              'issue_d', 'last_pymnt_amnt', 'last_pymnt_d', 'loan_status', \n",
    "              'next_pymnt_d', 'out_prncp', 'out_prncp_inv', 'total_pymnt', \n",
    "              'total_pymnt_inv', 'total_rec_int', 'total_rec_prncp', \n",
    "             # Hardship/Collections/Settlements (27)\n",
    "              'collection_recovery_fee', 'debt_settlement_flag', 'debt_settlement_flag_date', \n",
    "              'deferral_term', 'hardship_amount', 'hardship_dpd', 'hardship_end_date', \n",
    "              'hardship_flag', 'hardship_last_payment_amount','hardship_length', 'hardship_loan_status', \n",
    "              'hardship_payoff_balance_amount', 'hardship_reason', 'hardship_start_date', \n",
    "              'hardship_status', 'hardship_type', 'last_credit_pull_d', \n",
    "              'orig_projected_additional_accrued_interest', 'payment_plan_start_date', 'pymnt_plan', \n",
    "              'recoveries', 'settlement_amount', 'settlement_date', 'settlement_percentage', \n",
    "              'settlement_status', 'settlement_term', 'total_rec_late_fee']\n",
    "\n",
    "#4 OTHER INCONSEQUENTIAL\n",
    "inconsequential = ['addr_state', # not useful as dummy variable\n",
    "                   'dataset', # just indicates the dataset\n",
    "                   'desc', # non-standard text description\n",
    "                   'disbursement_method', # just indicates cash or direct_pay\n",
    "                   'emp_title', # non-standard text description\n",
    "                   'funded_amnt', # redundant with loan_amount\n",
    "                   'funded_amnt_inv', # redundant with loan_amount\n",
    "                   'grade', # redundant when using sub_grade\n",
    "                   'initial_list_status', # possible values are w or f\n",
    "                   'title'] # non-standard text description\n",
    "#                   'zip_code'] # we could make into dummies, but there are 954 of them"
   ]
  },
  {
   "cell_type": "code",
   "execution_count": 6,
   "metadata": {
    "hide": true
   },
   "outputs": [],
   "source": [
    "ls.drop(empty, axis=1, inplace=True)\n",
    "ls.drop(joint, axis=1, inplace=True)\n",
    "ls.drop(inconsequential, axis=1, inplace=True)"
   ]
  },
  {
   "cell_type": "markdown",
   "metadata": {},
   "source": [
    "## 3. Outcome Feature Design\n",
    "\n",
    "We designed 3 outcome features to represent how well or poorly the loan performed: `OUT_Class`, `OUT_Principle_Repaid_Percentage` and `OUT_Monthly_Rate_of_Return`."
   ]
  },
  {
   "cell_type": "markdown",
   "metadata": {},
   "source": [
    "### 3A. `OUT_Class`\n",
    "\n",
    "This outcome variable is a binary classification of whether the loan has been Fully Repaid (1) or Not Fully Repaid (0). The percentage of loans that have been fully repaid is 85.9%."
   ]
  },
  {
   "cell_type": "code",
   "execution_count": 7,
   "metadata": {},
   "outputs": [],
   "source": [
    "ls['OUT_Class'] = 0\n",
    "ls.loc[ls['loan_status'].str.contains('Fully Paid'), 'OUT_Class'] = 1"
   ]
  },
  {
   "cell_type": "code",
   "execution_count": 8,
   "metadata": {
    "hide": true
   },
   "outputs": [],
   "source": [
    "ls.loc[ls['loan_status'].str.contains('Current'), 'OUT_Class'] = 1"
   ]
  },
  {
   "cell_type": "markdown",
   "metadata": {},
   "source": [
    "### 3B. `OUT_Principle_Repaid_Percentage`\n",
    "\n",
    "This outcome variable represents the percentage of loan principle that has been repaid. The average principal repaid percentage is 91.5%."
   ]
  },
  {
   "cell_type": "code",
   "execution_count": 9,
   "metadata": {},
   "outputs": [],
   "source": [
    "ls['OUT_Principle_Repaid_Percentage'] = ls['total_rec_prncp'] / ls['loan_amnt']"
   ]
  },
  {
   "cell_type": "markdown",
   "metadata": {},
   "source": [
    "### 3C. `OUT_Monthly_Rate_Of_Return`\n",
    "\n",
    "This outcome variable represents the simple monthly rate of return that investors recieved by holding the loan. This is the most comprehensive of the three outcome features because it takes into account the total amount repaid (including interest) for the effective term of the loan. The median monthly rate of return is 0.6%."
   ]
  },
  {
   "cell_type": "code",
   "execution_count": 10,
   "metadata": {},
   "outputs": [],
   "source": [
    "#NET_REPAYMENT: amount repaid on the loan net of the loan amount\n",
    "Net_Repayment = ls['total_pymnt'] - ls['loan_amnt']\n",
    "\n",
    "#REPAYMENT_PERIOD: amount of time it took to repay the loan or charge off\n",
    "Repayment_Period = (ls['last_pymnt_d'].dt.to_period('M') - \n",
    "                    ls['issue_d'].dt.to_period('M')).replace([pd.NaT,0], 1)\n",
    "\n",
    "#MONTHLY_RATE_OF_RETURN: simple monthly return accrued over the term of the loan\n",
    "ls['OUT_Monthly_Rate_Of_Return'] = (Net_Repayment / Repayment_Period) / ls['loan_amnt']"
   ]
  },
  {
   "cell_type": "markdown",
   "metadata": {},
   "source": [
    "## 4. Independent Feature Cleaning\n",
    "\n",
    "We cleaned the independent variables with type conversions, dummy creation and outlier identification. Loans that had missing values in more than half of the independent variables were dropped while the remaining missing values were imputed with mean imputation or zero imputation. This section presents the custom functions that we used and the following section [EDA](https://cs109group67.github.io/lendingclub/EDA.html#5-eda) summarizes the cleaned features."
   ]
  },
  {
   "cell_type": "markdown",
   "metadata": {},
   "source": [
    "### 4A. Type Conversions"
   ]
  },
  {
   "cell_type": "code",
   "execution_count": 11,
   "metadata": {},
   "outputs": [],
   "source": [
    "#EARLIEST_CR_LINE\n",
    "ls['earliest_cr_line'] =  np.array((ls['issue_d'] - \n",
    "                                    ls['earliest_cr_line']).dt.days).reshape(-1,1)\n",
    "\n",
    "#EMP_LENGTH\n",
    "mapping = {'1 year': 1, '10+ years': 10, '2 years': 2, '3 years': 3, \n",
    "           '4 years': 4, '5 years': 5, '6 years': 6, '7 years': 7, \n",
    "           '8 years': 8, '9 years': 9, '< 1 year': 0}\n",
    "ls['emp_length'] = ls['emp_length'].map(mapping)\n",
    "\n",
    "#HOME_OWNERSHIP\n",
    "ls['home_ownership'].replace({'ANY':'OTHER', 'NONE':'OTHER'}, inplace=True)\n",
    "\n",
    "#INT_RATE\n",
    "ls['int_rate'] = ls['int_rate'].str[:-1].astype(np.float)\n",
    "\n",
    "#REVOL_UTIL\n",
    "ls['revol_util'] = ls['revol_util'].str[:-1].astype(np.float)\n",
    "\n",
    "#SUB_GRADE\n",
    "mapping = {'A':0, 'B':1, 'C':2, 'D':3, 'E':4}\n",
    "ls['sub_grade'] = (ls['sub_grade'].apply(lambda x: x[0]).map(mapping).astype(int)*5 +\n",
    "                         ls['sub_grade'].apply(lambda x: x[1]).astype(int)).astype(float)\n",
    "\n",
    "#'MTHS_SINCE...' reciprocals\n",
    "#use reciprocal so that 0='never occured' and 1/n+1='n month since'\n",
    "mnths_since = ls.columns[ls.columns.str.contains('mo_sin|mths_since')]\n",
    "for var in mnths_since:\n",
    "    ls[var+'_R'] = 1 / (ls[var] + 1)\n",
    "ls.drop(mnths_since, axis=1, inplace=True)"
   ]
  },
  {
   "cell_type": "markdown",
   "metadata": {},
   "source": [
    "### 4B. Dummy Creation"
   ]
  },
  {
   "cell_type": "code",
   "execution_count": 12,
   "metadata": {},
   "outputs": [],
   "source": [
    "#FUNCTION FOR DUMMY CREATION\n",
    "def dummy_attr(attr):\n",
    "    \"\"\" Create dummmies and drop original attribute\"\"\"\n",
    "    global ls\n",
    "    if attr not in list(ls): return\n",
    "    prefix = 'D_' + attr\n",
    "    dummies = pd.get_dummies(ls[attr], prefix=prefix)\n",
    "    ls.drop([attr], axis=1, inplace=True)\n",
    "    ls = pd.concat([ls, dummies], axis=1)"
   ]
  },
  {
   "cell_type": "markdown",
   "metadata": {},
   "source": [
    "### 4C. Outlier Identification"
   ]
  },
  {
   "cell_type": "code",
   "execution_count": 13,
   "metadata": {},
   "outputs": [],
   "source": [
    "#FUNCTION FOR OUTLIER DETECTION\n",
    "ls['outlier'] = 0 # this column is incremented for identified outlier instances\n",
    "def outlier_attr(attr, threshold):\n",
    "    \"\"\" Identify outliers above threshold\"\"\" \n",
    "    outliers = ls[attr] > threshold\n",
    "    ls['outlier'] = ls['outlier'] + outliers\n",
    "    return outliers"
   ]
  },
  {
   "cell_type": "markdown",
   "metadata": {},
   "source": [
    "### 4D. Missing Value Imputation"
   ]
  },
  {
   "cell_type": "code",
   "execution_count": 14,
   "metadata": {},
   "outputs": [],
   "source": [
    "#REMOVE LOANS WITH MANY MISSING FEATURES\n",
    "ls = ls[ls.isnull().sum(axis=1) < 30]\n",
    "\n",
    "#FUNCTION FOR MISSING VALUE IMPUTATION\n",
    "from sklearn.impute import SimpleImputer\n",
    "def impute_attr(attr, strategy='median'):\n",
    "    \"\"\" Impute missing values (via mean imputation or constant imputation)\"\"\"\n",
    "    mnths_since = ls.columns[ls.columns.str.contains('mo_sin|mths_since')]\n",
    "    if attr in mnths_since:\n",
    "        imp = SimpleImputer(strategy='constant', fill_value=0)\n",
    "    elif ls[attr].min() == 0:                                \n",
    "        imp = SimpleImputer(strategy='constant', fill_value=0)\n",
    "    else:\n",
    "        imp = SimpleImputer(strategy='mean')\n",
    "    ls[attr] = imp.fit_transform(ls[[attr]])"
   ]
  },
  {
   "cell_type": "code",
   "execution_count": 15,
   "metadata": {
    "hide": true
   },
   "outputs": [],
   "source": [
    "ls.drop(dependent, axis=1, inplace=True)\n",
    "ls.drop('outlier', axis=1, inplace=True)"
   ]
  },
  {
   "cell_type": "code",
   "execution_count": 16,
   "metadata": {
    "hide": true
   },
   "outputs": [],
   "source": [
    "############ EXPORTING ##############\n",
    "ls.to_hdf(directory + 'ls_CLEAN_withzip.h5', 'ls_CLEAN_withzip')"
   ]
  }
 ],
 "metadata": {
  "celltoolbar": "Edit Metadata",
  "kernelspec": {
   "display_name": "Python 3",
   "language": "python",
   "name": "python3"
  },
  "language_info": {
   "codemirror_mode": {
    "name": "ipython",
    "version": 3
   },
   "file_extension": ".py",
   "mimetype": "text/x-python",
   "name": "python",
   "nbconvert_exporter": "python",
   "pygments_lexer": "ipython3",
   "version": "3.6.5"
  }
 },
 "nbformat": 4,
 "nbformat_minor": 2
}
