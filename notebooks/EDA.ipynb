{
 "cells": [
  {
   "cell_type": "markdown",
   "metadata": {
    "tags": [
     "hidden"
    ]
   },
   "source": [
    "#  EDA & Preprocessing\n",
    "\n",
    "0. **Imports and Functions**\n",
    "1. **Inconsequential Variable Removal**: removal of non-existant, empty, constant or otherwise unmeaningful variables\n",
    "2. **Independent Variable Preprocessing**: type conversions, outlier identification, dummy creation\n",
    "    - 2A. *Loan Characteristics* (6)\n",
    "    - 2B. *Borrower Demographics* (4)\n",
    "    - 2C. *Borrower Credit History* (68)\n",
    "    - 2D. *Co-Borrower Information* (15)\n",
    "  \n",
    "  \n",
    "3. **Dependent Variable Feature Design**: feature design of outcome variable\n",
    "4. **Final Processing**: final cleaning and export"
   ]
  },
  {
   "cell_type": "markdown",
   "metadata": {},
   "source": [
    "Note: **`ls`** is DataFrame used for EDA and never modified. **`ls_clean`** is DataFrame updated progressively to create final processed dataset"
   ]
  },
  {
   "cell_type": "markdown",
   "metadata": {
    "tags": [
     "hidden"
    ]
   },
   "source": [
    "<hr style=\"height:5pt\">\n",
    "\n",
    "## 0. Imports and Functions"
   ]
  },
  {
   "cell_type": "code",
   "execution_count": 4,
   "metadata": {
    "tags": [
     "hidden"
    ]
   },
   "outputs": [],
   "source": [
    "# IMPORTS\n",
    "import warnings; warnings.filterwarnings('ignore')\n",
    "import numpy as np\n",
    "import pandas as pd\n",
    "import matplotlib.pyplot as plt\n",
    "from sklearn.preprocessing import StandardScaler, MinMaxScaler\n",
    "from IPython.display import Markdown, display\n",
    "pd.options.display.max_rows = 150\n",
    "pd.options.display.max_columns = 200\n",
    "pd.options.display.float_format = '{:.3f}'.format\n",
    "plt.rcParams['figure.figsize'] = (10, 2)"
   ]
  },
  {
   "cell_type": "code",
   "execution_count": 5,
   "metadata": {
    "tags": [
     "hidden"
    ]
   },
   "outputs": [],
   "source": [
    "# LOAD LOANSTATS\n",
    "directory = '../../../data/'\n",
    "ls = pd.read_hdf(directory + 'LoanStats_clean.h5', 'full_loanstats') # HDF5"
   ]
  },
  {
   "cell_type": "code",
   "execution_count": 6,
   "metadata": {},
   "outputs": [],
   "source": [
    "# LOAD DATA DICTIONARY\n",
    "sheet_dict = pd.read_excel(directory + 'LCDataDictionary.xlsx', sheet_name=None)\n",
    "data_dict = {}\n",
    "for key in sheet_dict:\n",
    "    for index, row in sheet_dict[key].iterrows():\n",
    "        if type(row[0]) != float:\n",
    "            data_dict[row[0].strip()] = row[1]"
   ]
  },
  {
   "cell_type": "code",
   "execution_count": 7,
   "metadata": {
    "tags": [
     "hidden"
    ]
   },
   "outputs": [],
   "source": [
    "# CREATE 'ls_clean'\n",
    "ls.sort_index(axis=1, inplace=True)\n",
    "ls_clean = ls.copy()"
   ]
  },
  {
   "cell_type": "code",
   "execution_count": 8,
   "metadata": {
    "tags": [
     "hidden"
    ]
   },
   "outputs": [],
   "source": [
    "# FUNCTION FOR EDA\n",
    "def EDA_attr(attr):\n",
    "    \"\"\" Prints basic EDA for given attribute (muted by commenting)\"\"\"\n",
    "    num_observations = len(ls_clean)\n",
    "    attr_type = ls_clean[attr].dtype\n",
    "    missing_values = ls_clean[attr].isnull().sum()\n",
    "    display(Markdown('**{}**: {}'.format(attr, data_dict.get(attr, \"NULL\"))))\n",
    "    print('\\tType: \\t\\t\\t{}'.format(attr_type))\n",
    "    print('\\tMissing Values: \\t{} ({:.1%})'.format(\n",
    "                    missing_values, missing_values/num_observations))    \n",
    "    \n",
    "    if attr_type == 'float64':  # numerical variables\n",
    "        print('\\tMean: \\t\\t\\t{:.2f}'.format(ls_clean[attr].mean()))\n",
    "        print('\\tRange: \\t\\t\\t({:.2f}, {:.2f})'.format(ls_clean[attr].min(), ls_clean[attr].max()))\n",
    "        plt.hist(ls_clean[attr]); plt.show()\n",
    "    \n",
    "    if attr_type == 'object':   # categorical variables\n",
    "        print('\\tNumber of Categories: \\t{}'.format(len(ls_clean.groupby(attr))))\n",
    "        print(ls_clean.groupby(attr)['loan_amnt'].agg(['count', 'sum']).sort_values(\n",
    "                        by='sum', ascending=False).nlargest(3,columns='count'))"
   ]
  },
  {
   "cell_type": "code",
   "execution_count": 9,
   "metadata": {
    "tags": [
     "hidden"
    ]
   },
   "outputs": [],
   "source": [
    "# FUNCTION FOR SCALING\n",
    "scaler_dict = {} # dictionary to store scalers, to be used for inverse transforms\n",
    "scaler_list = [] # list to store variables to be scaled\n",
    "def scale_attr(attr, fit_data=None, scaler=None):\n",
    "    \"\"\" Scales attribute with StandardScaler (default) or MinMaxScaler\"\"\"\n",
    "    scaler_list.append(attr)\n",
    "#     if fit_data is None:\n",
    "#         fit_data = ls_clean[[attr]]\n",
    "#     if scaler is None:\n",
    "#         scaler = StandardScaler()\n",
    "#     scaler = scaler.fit(fit_data)\n",
    "#     ls_clean[attr] = scaler.transform(ls_clean[[attr]])\n",
    "#     scaler_dict[attr] = scaler"
   ]
  },
  {
   "cell_type": "code",
   "execution_count": 10,
   "metadata": {
    "tags": [
     "hidden"
    ]
   },
   "outputs": [],
   "source": [
    "# FUNCTION FOR DUMMY CREATION\n",
    "def dummy_attr(attr):\n",
    "    \"\"\" Creates dummy variables and drops original attribute\"\"\"\n",
    "    global ls_clean\n",
    "    if attr not in list(ls_clean): return\n",
    "    prefix = 'D_' + attr\n",
    "    dummies = pd.get_dummies(ls_clean[attr], prefix=prefix)\n",
    "    ls_clean.drop([attr], axis=1, inplace=True)\n",
    "    ls_clean = pd.concat([ls_clean, dummies], axis=1)"
   ]
  },
  {
   "cell_type": "code",
   "execution_count": 11,
   "metadata": {
    "tags": [
     "hidden"
    ]
   },
   "outputs": [],
   "source": [
    "# FUNCTION FOR OUTLIER DETECTION\n",
    "ls_clean['outlier'] = 0 # this column is incremented for identified outlier instances\n",
    "def outlier_attr(attr, threshold):\n",
    "    \"\"\" Identifies outliers above threshold and updates outlier indictor\"\"\" \n",
    "    outliers = ls[attr] > threshold\n",
    "    ls_clean['outlier'] = ls_clean['outlier'] + outliers\n",
    "    return outliers"
   ]
  },
  {
   "cell_type": "markdown",
   "metadata": {},
   "source": [
    "<hr style=\"height:5pt\">\n",
    "\n",
    "## 1. Inconsequential Variable Removal"
   ]
  },
  {
   "cell_type": "markdown",
   "metadata": {},
   "source": [
    "Removal of non-existant, empty, constant or otherwise unmeaningful variables"
   ]
  },
  {
   "cell_type": "markdown",
   "metadata": {},
   "source": [
    "**Do Not Exist** (6): \n",
    "- `fico_range_high`, `fico_range_low`, `last_fico_range_high`, `last_fico_range_low`, `sec_app_fico_range_high`, `sec_app_fico_range_low`\n",
    "\n",
    "**Empty/Constant** (already dropped) (4): \n",
    "- `id`, `member_id`, `url`, `policy_code`\n",
    "\n",
    "**Not Meaningful**:\n",
    "- `dataset`: just indicates the dataset\n",
    "- `desc`: non-standard text description\n",
    "- `disbursement_method`: just indicates cash or direct_pay\n",
    "- `emp_title`: non-standard text description\n",
    "- `funded_amnt`: redundant with loan_amount (?)\n",
    "- `funded_amnt_inv` redundany with loan_amount (?)\n",
    "- `grade`: redundant when using sub_grade\n",
    "- `initial_list_status`: possible values are w or f (?)\n",
    "- `title`: non-standard text description\n",
    "- `zip_code`: we could make it a dummy, but there would be 954 of them"
   ]
  },
  {
   "cell_type": "code",
   "execution_count": 12,
   "metadata": {},
   "outputs": [],
   "source": [
    "# Drop Variables\n",
    "drop_columns = ['dataset', 'desc', 'disbursement_method', 'emp_title','funded_amnt', \n",
    "                'funded_amnt_inv', 'grade','initial_list_status', 'title', 'zip_code']\n",
    "ls_clean.drop(drop_columns, axis=1, inplace=True)"
   ]
  },
  {
   "cell_type": "markdown",
   "metadata": {},
   "source": [
    "<hr style=\"height:5pt\">\n",
    "\n",
    "## 2. Preprocessing of Independent Variables (93 Variables)"
   ]
  },
  {
   "cell_type": "markdown",
   "metadata": {},
   "source": [
    "**2A. Loan Characteristics (6)**:\n",
    "- `installment`: scaling\n",
    "- `int_rate`: mapping, scaling\n",
    "- `loan_amnt`: scaling\n",
    "- `purpose`: dummy(14)\n",
    "- `sub_grade`: mapping, scaling\n",
    "- `term`: dummy(2)\n",
    "- `verification_status`: dummy(3)\n",
    "\n",
    "**2B. Borrower Demographics (4)**:\n",
    "- `addr_state`: dummy(51)\n",
    "- `annual_inc`: outliers, scaling\n",
    "- `emp_length`: mapping, scaling\n",
    "- `home_ownership`: mapping, dummy(4)\n",
    "\n",
    "**2C. Borrower Credit History (68)**\n",
    "- `acc_now_delinq`: outliers,  scaling\n",
    "- `acc_open_past_24mths`: scaling\n",
    "- `all_util`: scaling\n",
    "- `avg_cur_bal`: scaling\n",
    "- `bc_open_to_buy`: scaling\n",
    "- `bc_util`: scaling\n",
    "- `chargeoff_within_12_mths`: scaling\n",
    "- `collections_12_mths_ex_med`: outliers, scaling\n",
    "- `delinq_2yrs`: scaling\n",
    "- `delinq_amnt`: standard scaling\n",
    "- `dti`: mapping, scaling\n",
    "- `earliest_cr_line`: mapping, scaling\n",
    "- `il_util`: scaling\n",
    "- `inq_fi`: scaling\n",
    "- `inq_last_12m`: scaling\n",
    "- `inq_last_6mths`: scaling\n",
    "- `max_bal_bc`: scaling\n",
    "- `mo_sin_old_il_acct`: scaling\n",
    "- `mo_sin_old_rev_tl_op`: scaling\n",
    "- `mo_sin_rcnt_rev_tl_op`: scaling\n",
    "- `mo_sin_rcnt_tl`: scaling\n",
    "- `mort_acc`: scaling\n",
    "- `mths_since_last_delinq`: scaling\n",
    "- `mths_since_last_major_derog`: scaling\n",
    "- `mths_since_last_record`: scaling\n",
    "- `mths_since_rcnt_il`: scaling\n",
    "- `mths_since_recent_bc`: scaling\n",
    "- `mths_since_recent_bc_dlq`: scaling\n",
    "- `mths_since_recent_inq`: scaling\n",
    "- `mths_since_recent_revol_delinq`: scaling\n",
    "- `num_accts_ever_120_pd`: scaling\n",
    "- `num_actv_bc_tl`: scaling\n",
    "- `num_actv_rev_tl`: scaling\n",
    "- `num_bc_sats`: scaling\n",
    "- `num_bc_tl`: scaling\n",
    "- `num_il_tl`: scaling\n",
    "- `num_op_rev_tl`: scaling\n",
    "- `num_rev_accts`: scaling\n",
    "- `num_rev_tl_bal_gt_0`: scaling\n",
    "- `num_sats`: scaling\n",
    "- `num_tl_120dpd_2m`: scaling\n",
    "- `num_tl_30dpd`: scaling\n",
    "- `num_tl_90g_dpd_24m`: scaling\n",
    "- `num_tl_op_past_12m`: scaling\n",
    "- `open_acc`: scaling\n",
    "- `open_acc_6m`: scaling\n",
    "- `open_act_il`: scaling\n",
    "- `open_il_12m`: scaling\n",
    "- `open_il_24m`: scaling\n",
    "- `open_rv_12m`: scaling\n",
    "- `open_rv_24m`: scaling\n",
    "- `pct_tl_nvr_dlq`: scaling\n",
    "- `percent_bc_gt_75`: scaling\n",
    "- `pub_rec`: scaling\n",
    "- `pub_rec_bankruptcies`: scaling\n",
    "- `revol_bal`: scaling\n",
    "- `revol_util`: mapping, scaling\n",
    "- `tax_liens`: scaling\n",
    "- `tot_coll_amt`: scaling\n",
    "- `tot_cur_bal`: scaling\n",
    "- `tot_hi_cred_lim`: scaling\n",
    "- `total_acc`: scaling\n",
    "- `total_bal_ex_mort`: scaling\n",
    "- `total_bal_il`: scaling\n",
    "- `total_bc_limit`: scaling\n",
    "- `total_cu_tl`: scaling\n",
    "- `total_il_high_credit_limit`: scaling\n",
    "- `total_rev_hi_lim`: scaling\n",
    "\n",
    "**2D. Co-Borrower Information (15)**\n",
    "- `application_type`: dummy(2)\n",
    "- `annual_inc_joint`: outliers, scaling\n",
    "- `dti_joint`: scaling\n",
    "- `revol_bal_joint`: scaling\n",
    "- `sec_app_chargeoff_within_12_mths`: scaling\n",
    "- `sec_app_collections_12_mths_ex_med`: outliers, scaling\n",
    "- `sec_app_earliest_cr_line`: mapping, scaling\n",
    "- `sec_app_inq_last_6mths`: scaling\n",
    "- `sec_app_mort_acc`: outliers, scaling\n",
    "- `sec_app_mths_since_last_major_derog`: scaling\n",
    "- `sec_app_num_rev_accts`: scaling\n",
    "- `sec_app_open_acc`: scaling\n",
    "- `sec_app_open_act_il`: scaling\n",
    "- `sec_app_revol_util`: scaling\n",
    "- `verification_status_joint`: dummy(3)"
   ]
  },
  {
   "cell_type": "markdown",
   "metadata": {},
   "source": [
    "<hr style=\"height:1pt\">\n",
    "\n",
    "### 2A. Loan Characteristics"
   ]
  },
  {
   "cell_type": "code",
   "execution_count": 13,
   "metadata": {},
   "outputs": [
    {
     "data": {
      "text/markdown": [
       "**installment**: The monthly payment owed by the borrower if the loan originates."
      ],
      "text/plain": [
       "<IPython.core.display.Markdown object>"
      ]
     },
     "metadata": {},
     "output_type": "display_data"
    },
    {
     "name": "stdout",
     "output_type": "stream",
     "text": [
      "\tType: \t\t\tfloat64\n",
      "\tMissing Values: \t0 (0.0%)\n",
      "\tMean: \t\t\t443.08\n",
      "\tRange: \t\t\t(4.93, 1719.83)\n"
     ]
    },
    {
     "data": {
      "image/png": "[encoded data removed]",
      "text/plain": [
       "<Figure size 720x144 with 1 Axes>"
      ]
     },
     "metadata": {},
     "output_type": "display_data"
    }
   ],
   "source": [
    "# INSTALLMENT\n",
    "X = 'installment'\n",
    "EDA_attr(X)\n",
    "scale_attr(X)"
   ]
  },
  {
   "cell_type": "code",
   "execution_count": 14,
   "metadata": {},
   "outputs": [
    {
     "data": {
      "text/markdown": [
       "**int_rate**: Interest Rate on the loan"
      ],
      "text/plain": [
       "<IPython.core.display.Markdown object>"
      ]
     },
     "metadata": {},
     "output_type": "display_data"
    },
    {
     "name": "stdout",
     "output_type": "stream",
     "text": [
      "\tType: \t\t\tobject\n",
      "\tMissing Values: \t0 (0.0%)\n",
      "\tNumber of Categories: \t650\n",
      "          count           sum\n",
      "int_rate                     \n",
      " 11.99%   53872 769423225.000\n",
      "  5.32%   47171 690038950.000\n",
      " 10.99%   44164 613296525.000\n"
     ]
    }
   ],
   "source": [
    "# INT_RATE\n",
    "X = 'int_rate'\n",
    "EDA_attr(X)\n",
    "ls_clean[X] = ls[X].str[:-1].astype(np.float)\n",
    "scale_attr(X)"
   ]
  },
  {
   "cell_type": "code",
   "execution_count": 15,
   "metadata": {
    "scrolled": true
   },
   "outputs": [
    {
     "data": {
      "text/markdown": [
       "**loan_amnt**: The listed amount of the loan applied for by the borrower. If at some point in time, the credit department reduces the loan amount, then it will be reflected in this value."
      ],
      "text/plain": [
       "<IPython.core.display.Markdown object>"
      ]
     },
     "metadata": {},
     "output_type": "display_data"
    },
    {
     "name": "stdout",
     "output_type": "stream",
     "text": [
      "\tType: \t\t\tfloat64\n",
      "\tMissing Values: \t0 (0.0%)\n",
      "\tMean: \t\t\t14920.73\n",
      "\tRange: \t\t\t(500.00, 40000.00)\n"
     ]
    },
    {
     "data": {
      "image/png": "[encoded data removed]",
      "text/plain": [
       "<Figure size 720x144 with 1 Axes>"
      ]
     },
     "metadata": {},
     "output_type": "display_data"
    }
   ],
   "source": [
    "# LOAN_AMNT\n",
    "X = 'loan_amnt'\n",
    "EDA_attr(X)\n",
    "scale_attr(X)"
   ]
  },
  {
   "cell_type": "code",
   "execution_count": 16,
   "metadata": {
    "scrolled": false
   },
   "outputs": [
    {
     "data": {
      "text/markdown": [
       "**purpose**: A category provided by the borrower for the loan request. "
      ],
      "text/plain": [
       "<IPython.core.display.Markdown object>"
      ]
     },
     "metadata": {},
     "output_type": "display_data"
    },
    {
     "name": "stdout",
     "output_type": "stream",
     "text": [
      "\tType: \t\t\tobject\n",
      "\tMissing Values: \t0 (0.0%)\n",
      "\tNumber of Categories: \t14\n",
      "                      count             sum\n",
      "purpose                                    \n",
      "debt_consolidation  1137459 17981579625.000\n",
      "credit_card          446668  6814273200.000\n",
      "home_improvement     135001  1973988925.000\n"
     ]
    }
   ],
   "source": [
    "# PURPOSE\n",
    "X = 'purpose'\n",
    "EDA_attr(X)\n",
    "dummy_attr(X)"
   ]
  },
  {
   "cell_type": "code",
   "execution_count": 17,
   "metadata": {},
   "outputs": [
    {
     "data": {
      "text/markdown": [
       "**sub_grade**: LC assigned loan subgrade"
      ],
      "text/plain": [
       "<IPython.core.display.Markdown object>"
      ]
     },
     "metadata": {},
     "output_type": "display_data"
    },
    {
     "name": "stdout",
     "output_type": "stream",
     "text": [
      "\tType: \t\t\tobject\n",
      "\tMissing Values: \t0 (0.0%)\n",
      "\tNumber of Categories: \t35\n",
      "            count            sum\n",
      "sub_grade                       \n",
      "C1         131882 1884162800.000\n",
      "B5         126570 1723099175.000\n",
      "B4         122532 1692566700.000\n"
     ]
    }
   ],
   "source": [
    "# SUB_GRADE\n",
    "X = 'sub_grade'\n",
    "EDA_attr(X)\n",
    "mapping = {'A':0, 'B':1, 'C':2, 'D':3, 'E':4, 'F':5, 'G':6}\n",
    "ls_clean[X] = (ls[X].apply(lambda x: x[0]).map(mapping).astype(int)*5 +\n",
    "               ls[X].apply(lambda x: x[1]).astype(int)).astype(int)\n",
    "scale_attr(X)"
   ]
  },
  {
   "cell_type": "code",
   "execution_count": 18,
   "metadata": {},
   "outputs": [
    {
     "data": {
      "text/markdown": [
       "**term**: The number of payments on the loan. Values are in months and can be either 36 or 60."
      ],
      "text/plain": [
       "<IPython.core.display.Markdown object>"
      ]
     },
     "metadata": {},
     "output_type": "display_data"
    },
    {
     "name": "stdout",
     "output_type": "stream",
     "text": [
      "\tType: \t\t\tobject\n",
      "\tMissing Values: \t0 (0.0%)\n",
      "\tNumber of Categories: \t2\n",
      "              count             sum\n",
      "term                               \n",
      " 36 months  1432001 18128083000.000\n",
      " 60 months   572061 11773980675.000\n"
     ]
    }
   ],
   "source": [
    "# TERM\n",
    "X = 'term'\n",
    "EDA_attr(X)\n",
    "dummy_attr(X)"
   ]
  },
  {
   "cell_type": "code",
   "execution_count": 19,
   "metadata": {},
   "outputs": [
    {
     "data": {
      "text/markdown": [
       "**verification_status**: Indicates if income was verified by LC, not verified, or if the income source was verified"
      ],
      "text/plain": [
       "<IPython.core.display.Markdown object>"
      ]
     },
     "metadata": {},
     "output_type": "display_data"
    },
    {
     "name": "stdout",
     "output_type": "stream",
     "text": [
      "\tType: \t\t\tobject\n",
      "\tMissing Values: \t0 (0.0%)\n",
      "\tNumber of Categories: \t3\n",
      "                      count             sum\n",
      "verification_status                        \n",
      "Source Verified      784628 11914964500.000\n",
      "Not Verified         636247  7955207100.000\n",
      "Verified             583187 10031892075.000\n"
     ]
    }
   ],
   "source": [
    "# VERIFICATION_STATUS\n",
    "X = 'verification_status'\n",
    "EDA_attr(X)\n",
    "dummy_attr(X)"
   ]
  },
  {
   "cell_type": "markdown",
   "metadata": {},
   "source": [
    "<hr style=\"height:1pt\">\n",
    "\n",
    "### 2B. Borrower Demographics"
   ]
  },
  {
   "cell_type": "code",
   "execution_count": 20,
   "metadata": {},
   "outputs": [
    {
     "data": {
      "text/markdown": [
       "**addr_state**: The state provided by the borrower in the loan application"
      ],
      "text/plain": [
       "<IPython.core.display.Markdown object>"
      ]
     },
     "metadata": {},
     "output_type": "display_data"
    },
    {
     "name": "stdout",
     "output_type": "stream",
     "text": [
      "\tType: \t\t\tobject\n",
      "\tMissing Values: \t0 (0.0%)\n",
      "\tNumber of Categories: \t51\n",
      "             count            sum\n",
      "addr_state                       \n",
      "CA          279270 4227821200.000\n",
      "NY          165920 2444828575.000\n",
      "TX          165147 2578213425.000\n"
     ]
    }
   ],
   "source": [
    "# ADDR_STATE\n",
    "X = 'addr_state'\n",
    "EDA_attr(X)\n",
    "dummy_attr(X)"
   ]
  },
  {
   "cell_type": "code",
   "execution_count": 21,
   "metadata": {},
   "outputs": [
    {
     "data": {
      "text/markdown": [
       "**annual_inc**: The self-reported annual income provided by the borrower during registration."
      ],
      "text/plain": [
       "<IPython.core.display.Markdown object>"
      ]
     },
     "metadata": {},
     "output_type": "display_data"
    },
    {
     "name": "stdout",
     "output_type": "stream",
     "text": [
      "\tType: \t\t\tfloat64\n",
      "\tMissing Values: \t4 (0.0%)\n",
      "\tMean: \t\t\t77546.58\n",
      "\tRange: \t\t\t(0.00, 110000000.00)\n"
     ]
    },
    {
     "data": {
      "image/png": "[encoded data removed]",
      "text/plain": [
       "<Figure size 720x144 with 1 Axes>"
      ]
     },
     "metadata": {},
     "output_type": "display_data"
    }
   ],
   "source": [
    "# ANNUAL_INC\n",
    "X = 'annual_inc'\n",
    "EDA_attr(X)\n",
    "outliers = outlier_attr(X, 10000000)\n",
    "scale_attr(X,fit_data=ls_clean[~outliers][[X]])"
   ]
  },
  {
   "cell_type": "code",
   "execution_count": 22,
   "metadata": {},
   "outputs": [
    {
     "data": {
      "text/markdown": [
       "**emp_length**: Employment length in years. Possible values are between 0 and 10 where 0 means less than one year and 10 means ten or more years. "
      ],
      "text/plain": [
       "<IPython.core.display.Markdown object>"
      ]
     },
     "metadata": {},
     "output_type": "display_data"
    },
    {
     "name": "stdout",
     "output_type": "stream",
     "text": [
      "\tType: \t\t\tobject\n",
      "\tMissing Values: \t124816 (6.2%)\n",
      "\tNumber of Categories: \t11\n",
      "             count             sum\n",
      "emp_length                        \n",
      "10+ years   667144 10766403175.000\n",
      "2 years     181413  2580529150.000\n",
      "< 1 year    162599  2362518625.000\n"
     ]
    }
   ],
   "source": [
    "# EMP_LENGTH\n",
    "X = 'emp_length'\n",
    "EDA_attr(X)\n",
    "mapping = {'1 year': 1, '10+ years': 10, '2 years': 2, '3 years': 3, \n",
    "           '4 years': 4, '5 years': 5, '6 years': 6, '7 years': 7, \n",
    "           '8 years': 8, '9 years': 9, '< 1 year': 0}\n",
    "ls_clean[X] = ls[X].map(mapping)\n",
    "scale_attr(X)"
   ]
  },
  {
   "cell_type": "code",
   "execution_count": 23,
   "metadata": {},
   "outputs": [
    {
     "data": {
      "text/markdown": [
       "**home_ownership**: The home ownership status provided by the borrower during registration or obtained from the credit report. Our values are: RENT, OWN, MORTGAGE, OTHER"
      ],
      "text/plain": [
       "<IPython.core.display.Markdown object>"
      ]
     },
     "metadata": {},
     "output_type": "display_data"
    },
    {
     "name": "stdout",
     "output_type": "stream",
     "text": [
      "\tType: \t\t\tobject\n",
      "\tMissing Values: \t0 (0.0%)\n",
      "\tNumber of Categories: \t6\n",
      "                 count             sum\n",
      "home_ownership                        \n",
      "MORTGAGE        985824 16326308950.000\n",
      "RENT            793630 10368245325.000\n",
      "OWN             223846  3197386500.000\n"
     ]
    }
   ],
   "source": [
    "# HOME_OWNERSHIP\n",
    "X = 'home_ownership'\n",
    "EDA_attr(X)\n",
    "ls_clean[X] = ls_clean[X].replace({'ANY':'OTHER', 'NONE':'OTHER'})\n",
    "dummy_attr(X)"
   ]
  },
  {
   "cell_type": "markdown",
   "metadata": {},
   "source": [
    "<hr style=\"height:1pt\">\n",
    "\n",
    "### 2C. Credit History Information"
   ]
  },
  {
   "cell_type": "code",
   "execution_count": 24,
   "metadata": {},
   "outputs": [
    {
     "data": {
      "text/markdown": [
       "**acc_now_delinq**: The number of accounts on which the borrower is now delinquent."
      ],
      "text/plain": [
       "<IPython.core.display.Markdown object>"
      ]
     },
     "metadata": {},
     "output_type": "display_data"
    },
    {
     "name": "stdout",
     "output_type": "stream",
     "text": [
      "\tType: \t\t\tfloat64\n",
      "\tMissing Values: \t29 (0.0%)\n",
      "\tMean: \t\t\t0.00\n",
      "\tRange: \t\t\t(0.00, 14.00)\n"
     ]
    },
    {
     "data": {
      "image/png": "[encoded data removed]",
      "text/plain": [
       "<Figure size 720x144 with 1 Axes>"
      ]
     },
     "metadata": {},
     "output_type": "display_data"
    }
   ],
   "source": [
    "# ACC_NOW_DELINQ\n",
    "X = 'acc_now_delinq'\n",
    "EDA_attr(X)\n",
    "outliers = outlier_attr(X, 7)\n"
   ]
  },
  {
   "cell_type": "code",
   "execution_count": 25,
   "metadata": {
    "scrolled": true
   },
   "outputs": [
    {
     "data": {
      "text/markdown": [
       "**acc_open_past_24mths**: Number of trades opened in past 24 months."
      ],
      "text/plain": [
       "<IPython.core.display.Markdown object>"
      ]
     },
     "metadata": {},
     "output_type": "display_data"
    },
    {
     "name": "stdout",
     "output_type": "stream",
     "text": [
      "\tType: \t\t\tfloat64\n",
      "\tMissing Values: \t50030 (2.5%)\n",
      "\tMean: \t\t\t4.54\n",
      "\tRange: \t\t\t(0.00, 64.00)\n"
     ]
    },
    {
     "data": {
      "image/png": "[encoded data removed]",
      "text/plain": [
       "<Figure size 720x144 with 1 Axes>"
      ]
     },
     "metadata": {},
     "output_type": "display_data"
    }
   ],
   "source": [
    "# ACC_OPEN_PAST_24MTHS\n",
    "X = 'acc_open_past_24mths'\n",
    "EDA_attr(X)\n",
    "scale_attr(X)"
   ]
  },
  {
   "cell_type": "code",
   "execution_count": 26,
   "metadata": {},
   "outputs": [
    {
     "data": {
      "text/markdown": [
       "**all_util**: Balance to credit limit on all trades"
      ],
      "text/plain": [
       "<IPython.core.display.Markdown object>"
      ]
     },
     "metadata": {},
     "output_type": "display_data"
    },
    {
     "name": "stdout",
     "output_type": "stream",
     "text": [
      "\tType: \t\t\tfloat64\n",
      "\tMissing Values: \t866282 (43.2%)\n",
      "\tMean: \t\t\t57.64\n",
      "\tRange: \t\t\t(0.00, 239.00)\n"
     ]
    },
    {
     "data": {
      "image/png": "[encoded data removed]",
      "text/plain": [
       "<Figure size 720x144 with 1 Axes>"
      ]
     },
     "metadata": {},
     "output_type": "display_data"
    }
   ],
   "source": [
    "# ALL_UTIL\n",
    "X = 'all_util'\n",
    "EDA_attr(X)\n",
    "scale_attr(X)"
   ]
  },
  {
   "cell_type": "code",
   "execution_count": 27,
   "metadata": {},
   "outputs": [
    {
     "data": {
      "text/markdown": [
       "**avg_cur_bal**: Average current balance of all accounts"
      ],
      "text/plain": [
       "<IPython.core.display.Markdown object>"
      ]
     },
     "metadata": {},
     "output_type": "display_data"
    },
    {
     "name": "stdout",
     "output_type": "stream",
     "text": [
      "\tType: \t\t\tfloat64\n",
      "\tMissing Values: \t70321 (3.5%)\n",
      "\tMean: \t\t\t13519.36\n",
      "\tRange: \t\t\t(0.00, 958084.00)\n"
     ]
    },
    {
     "data": {
      "image/png": "[encoded data removed]",
      "text/plain": [
       "<Figure size 720x144 with 1 Axes>"
      ]
     },
     "metadata": {},
     "output_type": "display_data"
    }
   ],
   "source": [
    "# AVG_CUR_BAL\n",
    "X = 'avg_cur_bal'\n",
    "EDA_attr(X)\n",
    "scale_attr(X)"
   ]
  },
  {
   "cell_type": "code",
   "execution_count": 28,
   "metadata": {},
   "outputs": [
    {
     "data": {
      "text/markdown": [
       "**bc_open_to_buy**: Total open to buy on revolving bankcards."
      ],
      "text/plain": [
       "<IPython.core.display.Markdown object>"
      ]
     },
     "metadata": {},
     "output_type": "display_data"
    },
    {
     "name": "stdout",
     "output_type": "stream",
     "text": [
      "\tType: \t\t\tfloat64\n",
      "\tMissing Values: \t71597 (3.6%)\n",
      "\tMean: \t\t\t10896.07\n",
      "\tRange: \t\t\t(0.00, 711140.00)\n"
     ]
    },
    {
     "data": {
      "image/png": "[encoded data removed]",
      "text/plain": [
       "<Figure size 720x144 with 1 Axes>"
      ]
     },
     "metadata": {},
     "output_type": "display_data"
    }
   ],
   "source": [
    "# BC_OPEN_TO_BUY\n",
    "X = 'bc_open_to_buy'\n",
    "EDA_attr(X)\n",
    "scale_attr(X)"
   ]
  },
  {
   "cell_type": "code",
   "execution_count": 29,
   "metadata": {},
   "outputs": [
    {
     "data": {
      "text/markdown": [
       "**bc_util**: Ratio of total current balance to high credit/credit limit for all bankcard accounts."
      ],
      "text/plain": [
       "<IPython.core.display.Markdown object>"
      ]
     },
     "metadata": {},
     "output_type": "display_data"
    },
    {
     "name": "stdout",
     "output_type": "stream",
     "text": [
      "\tType: \t\t\tfloat64\n",
      "\tMissing Values: \t72621 (3.6%)\n",
      "\tMean: \t\t\t58.89\n",
      "\tRange: \t\t\t(0.00, 339.60)\n"
     ]
    },
    {
     "data": {
      "image/png": "[encoded data removed]",
      "text/plain": [
       "<Figure size 720x144 with 1 Axes>"
      ]
     },
     "metadata": {},
     "output_type": "display_data"
    }
   ],
   "source": [
    "# BC_UTIL: scaling\n",
    "X = 'bc_util'\n",
    "EDA_attr(X)\n",
    "scale_attr(X)"
   ]
  },
  {
   "cell_type": "code",
   "execution_count": 30,
   "metadata": {},
   "outputs": [
    {
     "data": {
      "text/markdown": [
       "**chargeoff_within_12_mths**: Number of charge-offs within 12 months"
      ],
      "text/plain": [
       "<IPython.core.display.Markdown object>"
      ]
     },
     "metadata": {},
     "output_type": "display_data"
    },
    {
     "name": "stdout",
     "output_type": "stream",
     "text": [
      "\tType: \t\t\tfloat64\n",
      "\tMissing Values: \t145 (0.0%)\n",
      "\tMean: \t\t\t0.01\n",
      "\tRange: \t\t\t(0.00, 10.00)\n"
     ]
    },
    {
     "data": {
      "image/png": "[encoded data removed]",
      "text/plain": [
       "<Figure size 720x144 with 1 Axes>"
      ]
     },
     "metadata": {},
     "output_type": "display_data"
    }
   ],
   "source": [
    "# CHARGEOFF_WITHIN_12_MTHS\n",
    "X = 'chargeoff_within_12_mths'\n",
    "EDA_attr(X)\n",
    "scale_attr(X)"
   ]
  },
  {
   "cell_type": "code",
   "execution_count": 31,
   "metadata": {},
   "outputs": [
    {
     "data": {
      "text/markdown": [
       "**collections_12_mths_ex_med**: Number of collections in 12 months excluding medical collections"
      ],
      "text/plain": [
       "<IPython.core.display.Markdown object>"
      ]
     },
     "metadata": {},
     "output_type": "display_data"
    },
    {
     "name": "stdout",
     "output_type": "stream",
     "text": [
      "\tType: \t\t\tfloat64\n",
      "\tMissing Values: \t145 (0.0%)\n",
      "\tMean: \t\t\t0.02\n",
      "\tRange: \t\t\t(0.00, 20.00)\n"
     ]
    },
    {
     "data": {
      "image/png": "[encoded data removed]",
      "text/plain": [
       "<Figure size 720x144 with 1 Axes>"
      ]
     },
     "metadata": {},
     "output_type": "display_data"
    }
   ],
   "source": [
    "# COLLECTIONS_12_MTHS_EX_MED\n",
    "X = 'collections_12_mths_ex_med'\n",
    "EDA_attr(X)\n",
    "outliers = outlier_attr(X, 12)\n",
    "scale_attr(X,fit_data=ls_clean[~outliers][[X]])"
   ]
  },
  {
   "cell_type": "code",
   "execution_count": 32,
   "metadata": {},
   "outputs": [
    {
     "data": {
      "text/markdown": [
       "**delinq_2yrs**: The number of 30+ days past-due incidences of delinquency in the borrower's credit file for the past 2 years"
      ],
      "text/plain": [
       "<IPython.core.display.Markdown object>"
      ]
     },
     "metadata": {},
     "output_type": "display_data"
    },
    {
     "name": "stdout",
     "output_type": "stream",
     "text": [
      "\tType: \t\t\tfloat64\n",
      "\tMissing Values: \t29 (0.0%)\n",
      "\tMean: \t\t\t0.32\n",
      "\tRange: \t\t\t(0.00, 42.00)\n"
     ]
    },
    {
     "data": {
      "image/png": "[encoded data removed]",
      "text/plain": [
       "<Figure size 720x144 with 1 Axes>"
      ]
     },
     "metadata": {},
     "output_type": "display_data"
    }
   ],
   "source": [
    "# DELINQ_2YRS\n",
    "X = 'delinq_2yrs'\n",
    "EDA_attr(X)\n",
    "scale_attr(X)"
   ]
  },
  {
   "cell_type": "code",
   "execution_count": 33,
   "metadata": {},
   "outputs": [
    {
     "data": {
      "text/markdown": [
       "**delinq_amnt**: The past-due amount owed for the accounts on which the borrower is now delinquent."
      ],
      "text/plain": [
       "<IPython.core.display.Markdown object>"
      ]
     },
     "metadata": {},
     "output_type": "display_data"
    },
    {
     "name": "stdout",
     "output_type": "stream",
     "text": [
      "\tType: \t\t\tfloat64\n",
      "\tMissing Values: \t29 (0.0%)\n",
      "\tMean: \t\t\t13.81\n",
      "\tRange: \t\t\t(0.00, 249925.00)\n"
     ]
    },
    {
     "data": {
      "image/png": "[encoded data removed]",
      "text/plain": [
       "<Figure size 720x144 with 1 Axes>"
      ]
     },
     "metadata": {},
     "output_type": "display_data"
    }
   ],
   "source": [
    "# DELINQ_AMNT\n",
    "X = 'delinq_amnt'\n",
    "EDA_attr(X)\n",
    "scale_attr(X)"
   ]
  },
  {
   "cell_type": "code",
   "execution_count": 34,
   "metadata": {},
   "outputs": [
    {
     "data": {
      "text/markdown": [
       "**dti**: A ratio calculated using the borrower’s total monthly debt payments on the total debt obligations, excluding mortgage and the requested LC loan, divided by the borrower’s self-reported monthly income."
      ],
      "text/plain": [
       "<IPython.core.display.Markdown object>"
      ]
     },
     "metadata": {},
     "output_type": "display_data"
    },
    {
     "name": "stdout",
     "output_type": "stream",
     "text": [
      "\tType: \t\t\tfloat64\n",
      "\tMissing Values: \t1167 (0.1%)\n",
      "\tMean: \t\t\t18.69\n",
      "\tRange: \t\t\t(-1.00, 999.00)\n"
     ]
    },
    {
     "data": {
      "image/png": "[encoded data removed]",
      "text/plain": [
       "<Figure size 720x144 with 1 Axes>"
      ]
     },
     "metadata": {},
     "output_type": "display_data"
    }
   ],
   "source": [
    "# DTI\n",
    "X = 'dti'\n",
    "EDA_attr(X)\n",
    "ls_clean[ls[X]==-1] = np.NaN\n",
    "scale_attr(X)"
   ]
  },
  {
   "cell_type": "code",
   "execution_count": 35,
   "metadata": {},
   "outputs": [
    {
     "data": {
      "text/markdown": [
       "**earliest_cr_line**: The month the borrower's earliest reported credit line was opened"
      ],
      "text/plain": [
       "<IPython.core.display.Markdown object>"
      ]
     },
     "metadata": {},
     "output_type": "display_data"
    },
    {
     "name": "stdout",
     "output_type": "stream",
     "text": [
      "\tType: \t\t\tdatetime64[ns]\n",
      "\tMissing Values: \t31 (0.0%)\n"
     ]
    }
   ],
   "source": [
    "# EARLIEST_CR_LINE\n",
    "X = 'earliest_cr_line'\n",
    "EDA_attr(X)\n",
    "\n",
    "ls_clean[X] =  np.array((ls['issue_d'] - ls[X]).dt.days).reshape(-1,1)\n",
    "\n",
    "scale_attr(X)"
   ]
  },
  {
   "cell_type": "code",
   "execution_count": 36,
   "metadata": {},
   "outputs": [
    {
     "data": {
      "text/markdown": [
       "**il_util**: Ratio of total current balance to high credit/credit limit on all install acct"
      ],
      "text/plain": [
       "<IPython.core.display.Markdown object>"
      ]
     },
     "metadata": {},
     "output_type": "display_data"
    },
    {
     "name": "stdout",
     "output_type": "stream",
     "text": [
      "\tType: \t\t\tfloat64\n",
      "\tMissing Values: \t1028063 (51.3%)\n",
      "\tMean: \t\t\t69.39\n",
      "\tRange: \t\t\t(0.00, 1000.00)\n"
     ]
    },
    {
     "data": {
      "image/png": "[encoded data removed]",
      "text/plain": [
       "<Figure size 720x144 with 1 Axes>"
      ]
     },
     "metadata": {},
     "output_type": "display_data"
    }
   ],
   "source": [
    "# IL_UTIL\n",
    "X = 'il_util'\n",
    "EDA_attr(X)\n",
    "scale_attr(X)"
   ]
  },
  {
   "cell_type": "code",
   "execution_count": 37,
   "metadata": {},
   "outputs": [
    {
     "data": {
      "text/markdown": [
       "**inq_fi**: Number of personal finance inquiries"
      ],
      "text/plain": [
       "<IPython.core.display.Markdown object>"
      ]
     },
     "metadata": {},
     "output_type": "display_data"
    },
    {
     "name": "stdout",
     "output_type": "stream",
     "text": [
      "\tType: \t\t\tfloat64\n",
      "\tMissing Values: \t866131 (43.2%)\n",
      "\tMean: \t\t\t0.99\n",
      "\tRange: \t\t\t(0.00, 48.00)\n"
     ]
    },
    {
     "data": {
      "image/png": "[encoded data removed]",
      "text/plain": [
       "<Figure size 720x144 with 1 Axes>"
      ]
     },
     "metadata": {},
     "output_type": "display_data"
    }
   ],
   "source": [
    "# INQ_FI\n",
    "X = 'inq_fi'\n",
    "EDA_attr(X)\n",
    "scale_attr(X)"
   ]
  },
  {
   "cell_type": "code",
   "execution_count": 38,
   "metadata": {},
   "outputs": [
    {
     "data": {
      "text/markdown": [
       "**inq_last_12m**: Number of credit inquiries in past 12 months"
      ],
      "text/plain": [
       "<IPython.core.display.Markdown object>"
      ]
     },
     "metadata": {},
     "output_type": "display_data"
    },
    {
     "name": "stdout",
     "output_type": "stream",
     "text": [
      "\tType: \t\t\tfloat64\n",
      "\tMissing Values: \t866132 (43.2%)\n",
      "\tMean: \t\t\t2.07\n",
      "\tRange: \t\t\t(0.00, 67.00)\n"
     ]
    },
    {
     "data": {
      "image/png": "[encoded data removed]",
      "text/plain": [
       "<Figure size 720x144 with 1 Axes>"
      ]
     },
     "metadata": {},
     "output_type": "display_data"
    }
   ],
   "source": [
    "# INQ_LAST_12M\n",
    "X = 'inq_last_12m'\n",
    "EDA_attr(X)\n",
    "scale_attr(X)"
   ]
  },
  {
   "cell_type": "code",
   "execution_count": 39,
   "metadata": {},
   "outputs": [
    {
     "data": {
      "text/markdown": [
       "**inq_last_6mths**: The number of inquiries in past 6 months (excluding auto and mortgage inquiries)"
      ],
      "text/plain": [
       "<IPython.core.display.Markdown object>"
      ]
     },
     "metadata": {},
     "output_type": "display_data"
    },
    {
     "name": "stdout",
     "output_type": "stream",
     "text": [
      "\tType: \t\t\tfloat64\n",
      "\tMissing Values: \t32 (0.0%)\n",
      "\tMean: \t\t\t0.60\n",
      "\tRange: \t\t\t(0.00, 33.00)\n"
     ]
    },
    {
     "data": {
      "image/png": "[encoded data removed]",
      "text/plain": [
       "<Figure size 720x144 with 1 Axes>"
      ]
     },
     "metadata": {},
     "output_type": "display_data"
    }
   ],
   "source": [
    "# INQ_LAST_6MTHS\n",
    "X = 'inq_last_6mths'\n",
    "EDA_attr(X)\n",
    "scale_attr(X)"
   ]
  },
  {
   "cell_type": "code",
   "execution_count": 40,
   "metadata": {},
   "outputs": [
    {
     "data": {
      "text/markdown": [
       "**max_bal_bc**: Maximum current balance owed on all revolving accounts"
      ],
      "text/plain": [
       "<IPython.core.display.Markdown object>"
      ]
     },
     "metadata": {},
     "output_type": "display_data"
    },
    {
     "name": "stdout",
     "output_type": "stream",
     "text": [
      "\tType: \t\t\tfloat64\n",
      "\tMissing Values: \t866131 (43.2%)\n",
      "\tMean: \t\t\t5757.91\n",
      "\tRange: \t\t\t(0.00, 1170668.00)\n"
     ]
    },
    {
     "data": {
      "image/png": "[encoded data removed]",
      "text/plain": [
       "<Figure size 720x144 with 1 Axes>"
      ]
     },
     "metadata": {},
     "output_type": "display_data"
    }
   ],
   "source": [
    "# MAX_BAL_BC\n",
    "X = 'max_bal_bc'\n",
    "EDA_attr(X)\n",
    "scale_attr(X)"
   ]
  },
  {
   "cell_type": "code",
   "execution_count": 41,
   "metadata": {},
   "outputs": [
    {
     "data": {
      "text/markdown": [
       "**mo_sin_old_il_acct**: Months since oldest bank installment account opened"
      ],
      "text/plain": [
       "<IPython.core.display.Markdown object>"
      ]
     },
     "metadata": {},
     "output_type": "display_data"
    },
    {
     "name": "stdout",
     "output_type": "stream",
     "text": [
      "\tType: \t\t\tfloat64\n",
      "\tMissing Values: \t129984 (6.5%)\n",
      "\tMean: \t\t\t126.08\n",
      "\tRange: \t\t\t(0.00, 999.00)\n"
     ]
    },
    {
     "data": {
      "image/png": "[encoded data removed]",
      "text/plain": [
       "<Figure size 720x144 with 1 Axes>"
      ]
     },
     "metadata": {},
     "output_type": "display_data"
    }
   ],
   "source": [
    "# MO_SIN_OLD_IL_ACCT\n",
    "X =  'mo_sin_old_il_acct'\n",
    "EDA_attr(X)\n",
    "scale_attr(X)"
   ]
  },
  {
   "cell_type": "code",
   "execution_count": 42,
   "metadata": {},
   "outputs": [
    {
     "data": {
      "text/markdown": [
       "**mo_sin_old_rev_tl_op**: Months since oldest revolving account opened"
      ],
      "text/plain": [
       "<IPython.core.display.Markdown object>"
      ]
     },
     "metadata": {},
     "output_type": "display_data"
    },
    {
     "name": "stdout",
     "output_type": "stream",
     "text": [
      "\tType: \t\t\tfloat64\n",
      "\tMissing Values: \t70279 (3.5%)\n",
      "\tMean: \t\t\t182.54\n",
      "\tRange: \t\t\t(1.00, 999.00)\n"
     ]
    },
    {
     "data": {
      "image/png": "[encoded data removed]",
      "text/plain": [
       "<Figure size 720x144 with 1 Axes>"
      ]
     },
     "metadata": {},
     "output_type": "display_data"
    }
   ],
   "source": [
    "# MO_SIN_OLD_REV_TL_OP\n",
    "X =  'mo_sin_old_rev_tl_op'\n",
    "EDA_attr(X)\n",
    "scale_attr(X)"
   ]
  },
  {
   "cell_type": "code",
   "execution_count": 43,
   "metadata": {},
   "outputs": [
    {
     "data": {
      "text/markdown": [
       "**mo_sin_rcnt_rev_tl_op**: Months since most recent revolving account opened"
      ],
      "text/plain": [
       "<IPython.core.display.Markdown object>"
      ]
     },
     "metadata": {},
     "output_type": "display_data"
    },
    {
     "name": "stdout",
     "output_type": "stream",
     "text": [
      "\tType: \t\t\tfloat64\n",
      "\tMissing Values: \t70279 (3.5%)\n",
      "\tMean: \t\t\t13.86\n",
      "\tRange: \t\t\t(0.00, 547.00)\n"
     ]
    },
    {
     "data": {
      "image/png": "[encoded data removed]",
      "text/plain": [
       "<Figure size 720x144 with 1 Axes>"
      ]
     },
     "metadata": {},
     "output_type": "display_data"
    }
   ],
   "source": [
    "# MO_SIN_RCNT_REV_TL_OP\n",
    "X = 'mo_sin_rcnt_rev_tl_op'\n",
    "EDA_attr(X)\n",
    "scale_attr(X)"
   ]
  },
  {
   "cell_type": "code",
   "execution_count": 44,
   "metadata": {},
   "outputs": [
    {
     "data": {
      "text/markdown": [
       "**mo_sin_rcnt_tl**: Months since most recent account opened"
      ],
      "text/plain": [
       "<IPython.core.display.Markdown object>"
      ]
     },
     "metadata": {},
     "output_type": "display_data"
    },
    {
     "name": "stdout",
     "output_type": "stream",
     "text": [
      "\tType: \t\t\tfloat64\n",
      "\tMissing Values: \t70278 (3.5%)\n",
      "\tMean: \t\t\t8.25\n",
      "\tRange: \t\t\t(0.00, 368.00)\n"
     ]
    },
    {
     "data": {
      "image/png": "[encoded data removed]",
      "text/plain": [
       "<Figure size 720x144 with 1 Axes>"
      ]
     },
     "metadata": {},
     "output_type": "display_data"
    }
   ],
   "source": [
    "# MO_SIN_RCNT_TL\n",
    "X = 'mo_sin_rcnt_tl'\n",
    "EDA_attr(X)\n",
    "scale_attr(X)"
   ]
  },
  {
   "cell_type": "code",
   "execution_count": 45,
   "metadata": {},
   "outputs": [
    {
     "data": {
      "text/markdown": [
       "**mort_acc**: Number of mortgage accounts."
      ],
      "text/plain": [
       "<IPython.core.display.Markdown object>"
      ]
     },
     "metadata": {},
     "output_type": "display_data"
    },
    {
     "name": "stdout",
     "output_type": "stream",
     "text": [
      "\tType: \t\t\tfloat64\n",
      "\tMissing Values: \t50032 (2.5%)\n",
      "\tMean: \t\t\t1.59\n",
      "\tRange: \t\t\t(0.00, 94.00)\n"
     ]
    },
    {
     "data": {
      "image/png": "[encoded data removed]",
      "text/plain": [
       "<Figure size 720x144 with 1 Axes>"
      ]
     },
     "metadata": {},
     "output_type": "display_data"
    }
   ],
   "source": [
    "# MORT_ACC\n",
    "X = 'mort_acc'\n",
    "EDA_attr(X)\n",
    "scale_attr(X)"
   ]
  },
  {
   "cell_type": "code",
   "execution_count": 46,
   "metadata": {},
   "outputs": [
    {
     "data": {
      "text/markdown": [
       "**mths_since_last_delinq**: The number of months since the borrower's last delinquency."
      ],
      "text/plain": [
       "<IPython.core.display.Markdown object>"
      ]
     },
     "metadata": {},
     "output_type": "display_data"
    },
    {
     "name": "stdout",
     "output_type": "stream",
     "text": [
      "\tType: \t\t\tfloat64\n",
      "\tMissing Values: \t1014919 (50.6%)\n",
      "\tMean: \t\t\t34.26\n",
      "\tRange: \t\t\t(0.00, 226.00)\n"
     ]
    },
    {
     "data": {
      "image/png": "[encoded data removed]",
      "text/plain": [
       "<Figure size 720x144 with 1 Axes>"
      ]
     },
     "metadata": {},
     "output_type": "display_data"
    }
   ],
   "source": [
    "# MTHS_SINCE_LAST_DELINQ\n",
    "X = 'mths_since_last_delinq'\n",
    "EDA_attr(X)\n",
    "scale_attr(X)"
   ]
  },
  {
   "cell_type": "code",
   "execution_count": 47,
   "metadata": {},
   "outputs": [
    {
     "data": {
      "text/markdown": [
       "**mths_since_last_major_derog**: Months since most recent 90-day or worse rating"
      ],
      "text/plain": [
       "<IPython.core.display.Markdown object>"
      ]
     },
     "metadata": {},
     "output_type": "display_data"
    },
    {
     "name": "stdout",
     "output_type": "stream",
     "text": [
      "\tType: \t\t\tfloat64\n",
      "\tMissing Values: \t1482298 (74.0%)\n",
      "\tMean: \t\t\t43.90\n",
      "\tRange: \t\t\t(0.00, 226.00)\n"
     ]
    },
    {
     "data": {
      "image/png": "[encoded data removed]",
      "text/plain": [
       "<Figure size 720x144 with 1 Axes>"
      ]
     },
     "metadata": {},
     "output_type": "display_data"
    }
   ],
   "source": [
    "# MTHS_SINCE_LAST_MAJOR_DEROG\n",
    "X = 'mths_since_last_major_derog'\n",
    "EDA_attr(X)\n",
    "scale_attr(X)"
   ]
  },
  {
   "cell_type": "code",
   "execution_count": 48,
   "metadata": {},
   "outputs": [
    {
     "data": {
      "text/markdown": [
       "**mths_since_last_record**: The number of months since the last public record."
      ],
      "text/plain": [
       "<IPython.core.display.Markdown object>"
      ]
     },
     "metadata": {},
     "output_type": "display_data"
    },
    {
     "name": "stdout",
     "output_type": "stream",
     "text": [
      "\tType: \t\t\tfloat64\n",
      "\tMissing Values: \t1676064 (83.6%)\n",
      "\tMean: \t\t\t71.04\n",
      "\tRange: \t\t\t(0.00, 129.00)\n"
     ]
    },
    {
     "data": {
      "image/png": "[encoded data removed]",
      "text/plain": [
       "<Figure size 720x144 with 1 Axes>"
      ]
     },
     "metadata": {},
     "output_type": "display_data"
    }
   ],
   "source": [
    "# MTHS_SINCE_LAST_RECORD\n",
    "X = 'mths_since_last_record'\n",
    "EDA_attr(X)\n",
    "scale_attr(X)"
   ]
  },
  {
   "cell_type": "code",
   "execution_count": 49,
   "metadata": {},
   "outputs": [
    {
     "data": {
      "text/markdown": [
       "**mths_since_rcnt_il**: Months since most recent installment accounts opened"
      ],
      "text/plain": [
       "<IPython.core.display.Markdown object>"
      ]
     },
     "metadata": {},
     "output_type": "display_data"
    },
    {
     "name": "stdout",
     "output_type": "stream",
     "text": [
      "\tType: \t\t\tfloat64\n",
      "\tMissing Values: \t900837 (45.0%)\n",
      "\tMean: \t\t\t21.36\n",
      "\tRange: \t\t\t(0.00, 511.00)\n"
     ]
    },
    {
     "data": {
      "image/png": "[encoded data removed]",
      "text/plain": [
       "<Figure size 720x144 with 1 Axes>"
      ]
     },
     "metadata": {},
     "output_type": "display_data"
    }
   ],
   "source": [
    "# MTHS_SINCE_RCNT_IL\n",
    "X = 'mths_since_rcnt_il'\n",
    "EDA_attr(X)\n",
    "scale_attr(X)"
   ]
  },
  {
   "cell_type": "code",
   "execution_count": 50,
   "metadata": {},
   "outputs": [
    {
     "data": {
      "text/markdown": [
       "**mths_since_recent_bc**: Months since most recent bankcard account opened."
      ],
      "text/plain": [
       "<IPython.core.display.Markdown object>"
      ]
     },
     "metadata": {},
     "output_type": "display_data"
    },
    {
     "name": "stdout",
     "output_type": "stream",
     "text": [
      "\tType: \t\t\tfloat64\n",
      "\tMissing Values: \t70273 (3.5%)\n",
      "\tMean: \t\t\t24.73\n",
      "\tRange: \t\t\t(0.00, 661.00)\n"
     ]
    },
    {
     "data": {
      "image/png": "[encoded data removed]",
      "text/plain": [
       "<Figure size 720x144 with 1 Axes>"
      ]
     },
     "metadata": {},
     "output_type": "display_data"
    }
   ],
   "source": [
    "# MTHS_SINCE_RECENT_BC\n",
    "X = 'mths_since_recent_bc'\n",
    "EDA_attr(X)\n",
    "scale_attr(X)"
   ]
  },
  {
   "cell_type": "code",
   "execution_count": 51,
   "metadata": {},
   "outputs": [
    {
     "data": {
      "text/markdown": [
       "**mths_since_recent_bc_dlq**: Months since most recent bankcard delinquency"
      ],
      "text/plain": [
       "<IPython.core.display.Markdown object>"
      ]
     },
     "metadata": {},
     "output_type": "display_data"
    },
    {
     "name": "stdout",
     "output_type": "stream",
     "text": [
      "\tType: \t\t\tfloat64\n",
      "\tMissing Values: \t1534956 (76.6%)\n",
      "\tMean: \t\t\t39.17\n",
      "\tRange: \t\t\t(0.00, 202.00)\n"
     ]
    },
    {
     "data": {
      "image/png": "[encoded data removed]",
      "text/plain": [
       "<Figure size 720x144 with 1 Axes>"
      ]
     },
     "metadata": {},
     "output_type": "display_data"
    }
   ],
   "source": [
    "# MTHS_SINCE_RECENT_BC_DLQ\n",
    "X = 'mths_since_recent_bc_dlq'\n",
    "EDA_attr(X)\n",
    "scale_attr(X)"
   ]
  },
  {
   "cell_type": "code",
   "execution_count": 52,
   "metadata": {},
   "outputs": [
    {
     "data": {
      "text/markdown": [
       "**mths_since_recent_inq**: Months since most recent inquiry."
      ],
      "text/plain": [
       "<IPython.core.display.Markdown object>"
      ]
     },
     "metadata": {},
     "output_type": "display_data"
    },
    {
     "name": "stdout",
     "output_type": "stream",
     "text": [
      "\tType: \t\t\tfloat64\n",
      "\tMissing Values: \t263374 (13.1%)\n",
      "\tMean: \t\t\t6.95\n",
      "\tRange: \t\t\t(0.00, 25.00)\n"
     ]
    },
    {
     "data": {
      "image/png": "[encoded data removed]",
      "text/plain": [
       "<Figure size 720x144 with 1 Axes>"
      ]
     },
     "metadata": {},
     "output_type": "display_data"
    }
   ],
   "source": [
    "# MTHS_SINCE_RECENT_INQ\n",
    "X =  'mths_since_recent_inq'\n",
    "EDA_attr(X)\n",
    "scale_attr(X)"
   ]
  },
  {
   "cell_type": "code",
   "execution_count": 53,
   "metadata": {},
   "outputs": [
    {
     "data": {
      "text/markdown": [
       "**mths_since_recent_revol_delinq**: Months since most recent revolving delinquency."
      ],
      "text/plain": [
       "<IPython.core.display.Markdown object>"
      ]
     },
     "metadata": {},
     "output_type": "display_data"
    },
    {
     "name": "stdout",
     "output_type": "stream",
     "text": [
      "\tType: \t\t\tfloat64\n",
      "\tMissing Values: \t1337568 (66.7%)\n",
      "\tMean: \t\t\t35.55\n",
      "\tRange: \t\t\t(0.00, 202.00)\n"
     ]
    },
    {
     "data": {
      "image/png": "[encoded data removed]",
      "text/plain": [
       "<Figure size 720x144 with 1 Axes>"
      ]
     },
     "metadata": {},
     "output_type": "display_data"
    }
   ],
   "source": [
    "# MTHS_SINCE_RECENT_REVOL_DELINQ\n",
    "X= 'mths_since_recent_revol_delinq'\n",
    "EDA_attr(X)\n",
    "scale_attr(X)"
   ]
  },
  {
   "cell_type": "code",
   "execution_count": 54,
   "metadata": {},
   "outputs": [
    {
     "data": {
      "text/markdown": [
       "**num_accts_ever_120_pd**: Number of accounts ever 120 or more days past due"
      ],
      "text/plain": [
       "<IPython.core.display.Markdown object>"
      ]
     },
     "metadata": {},
     "output_type": "display_data"
    },
    {
     "name": "stdout",
     "output_type": "stream",
     "text": [
      "\tType: \t\t\tfloat64\n",
      "\tMissing Values: \t70278 (3.5%)\n",
      "\tMean: \t\t\t0.50\n",
      "\tRange: \t\t\t(0.00, 51.00)\n"
     ]
    },
    {
     "data": {
      "image/png": "[encoded data removed]",
      "text/plain": [
       "<Figure size 720x144 with 1 Axes>"
      ]
     },
     "metadata": {},
     "output_type": "display_data"
    }
   ],
   "source": [
    "# NUM_ACCTS_EVER_120_PD\n",
    "X = 'num_accts_ever_120_pd'\n",
    "EDA_attr(X)\n",
    "scale_attr(X)"
   ]
  },
  {
   "cell_type": "code",
   "execution_count": 55,
   "metadata": {},
   "outputs": [
    {
     "data": {
      "text/markdown": [
       "**num_actv_bc_tl**: Number of currently active bankcard accounts"
      ],
      "text/plain": [
       "<IPython.core.display.Markdown object>"
      ]
     },
     "metadata": {},
     "output_type": "display_data"
    },
    {
     "name": "stdout",
     "output_type": "stream",
     "text": [
      "\tType: \t\t\tfloat64\n",
      "\tMissing Values: \t70278 (3.5%)\n",
      "\tMean: \t\t\t3.68\n",
      "\tRange: \t\t\t(0.00, 50.00)\n"
     ]
    },
    {
     "data": {
      "image/png": "[encoded data removed]",
      "text/plain": [
       "<Figure size 720x144 with 1 Axes>"
      ]
     },
     "metadata": {},
     "output_type": "display_data"
    }
   ],
   "source": [
    "# NUM_ACTV_BC_TL\n",
    "X = 'num_actv_bc_tl'\n",
    "EDA_attr(X)\n",
    "scale_attr(X)"
   ]
  },
  {
   "cell_type": "code",
   "execution_count": 56,
   "metadata": {},
   "outputs": [
    {
     "data": {
      "text/markdown": [
       "**num_actv_rev_tl**: Number of currently active revolving trades"
      ],
      "text/plain": [
       "<IPython.core.display.Markdown object>"
      ]
     },
     "metadata": {},
     "output_type": "display_data"
    },
    {
     "name": "stdout",
     "output_type": "stream",
     "text": [
      "\tType: \t\t\tfloat64\n",
      "\tMissing Values: \t70278 (3.5%)\n",
      "\tMean: \t\t\t5.66\n",
      "\tRange: \t\t\t(0.00, 72.00)\n"
     ]
    },
    {
     "data": {
      "image/png": "[encoded data removed]",
      "text/plain": [
       "<Figure size 720x144 with 1 Axes>"
      ]
     },
     "metadata": {},
     "output_type": "display_data"
    }
   ],
   "source": [
    "# NUM_ACTV_REV_TL\n",
    "X = 'num_actv_rev_tl'\n",
    "EDA_attr(X)\n",
    "scale_attr(X)"
   ]
  },
  {
   "cell_type": "code",
   "execution_count": 57,
   "metadata": {},
   "outputs": [
    {
     "data": {
      "text/markdown": [
       "**num_bc_sats**: Number of satisfactory bankcard accounts"
      ],
      "text/plain": [
       "<IPython.core.display.Markdown object>"
      ]
     },
     "metadata": {},
     "output_type": "display_data"
    },
    {
     "name": "stdout",
     "output_type": "stream",
     "text": [
      "\tType: \t\t\tfloat64\n",
      "\tMissing Values: \t58592 (2.9%)\n",
      "\tMean: \t\t\t4.76\n",
      "\tRange: \t\t\t(0.00, 71.00)\n"
     ]
    },
    {
     "data": {
      "image/png": "[encoded data removed]",
      "text/plain": [
       "<Figure size 720x144 with 1 Axes>"
      ]
     },
     "metadata": {},
     "output_type": "display_data"
    }
   ],
   "source": [
    "# NUM_BC_SATS\n",
    "X = 'num_bc_sats'\n",
    "EDA_attr(X)\n",
    "scale_attr(X)"
   ]
  },
  {
   "cell_type": "code",
   "execution_count": 58,
   "metadata": {},
   "outputs": [
    {
     "data": {
      "text/markdown": [
       "**num_bc_tl**: Number of bankcard accounts"
      ],
      "text/plain": [
       "<IPython.core.display.Markdown object>"
      ]
     },
     "metadata": {},
     "output_type": "display_data"
    },
    {
     "name": "stdout",
     "output_type": "stream",
     "text": [
      "\tType: \t\t\tfloat64\n",
      "\tMissing Values: \t70278 (3.5%)\n",
      "\tMean: \t\t\t7.81\n",
      "\tRange: \t\t\t(0.00, 86.00)\n"
     ]
    },
    {
     "data": {
      "image/png": "[encoded data removed]",
      "text/plain": [
       "<Figure size 720x144 with 1 Axes>"
      ]
     },
     "metadata": {},
     "output_type": "display_data"
    }
   ],
   "source": [
    "# NUM_BC_TL\n",
    "X =  'num_bc_tl'\n",
    "EDA_attr(X)\n",
    "scale_attr(X)"
   ]
  },
  {
   "cell_type": "code",
   "execution_count": 59,
   "metadata": {},
   "outputs": [
    {
     "data": {
      "text/markdown": [
       "**num_il_tl**: Number of installment accounts"
      ],
      "text/plain": [
       "<IPython.core.display.Markdown object>"
      ]
     },
     "metadata": {},
     "output_type": "display_data"
    },
    {
     "name": "stdout",
     "output_type": "stream",
     "text": [
      "\tType: \t\t\tfloat64\n",
      "\tMissing Values: \t70278 (3.5%)\n",
      "\tMean: \t\t\t8.44\n",
      "\tRange: \t\t\t(0.00, 159.00)\n"
     ]
    },
    {
     "data": {
      "image/png": "[encoded data removed]",
      "text/plain": [
       "<Figure size 720x144 with 1 Axes>"
      ]
     },
     "metadata": {},
     "output_type": "display_data"
    }
   ],
   "source": [
    "# NUM_IL_TL\n",
    "X = 'num_il_tl'\n",
    "EDA_attr(X)\n",
    "scale_attr(X)"
   ]
  },
  {
   "cell_type": "code",
   "execution_count": 60,
   "metadata": {},
   "outputs": [
    {
     "data": {
      "text/markdown": [
       "**num_op_rev_tl**: Number of open revolving accounts"
      ],
      "text/plain": [
       "<IPython.core.display.Markdown object>"
      ]
     },
     "metadata": {},
     "output_type": "display_data"
    },
    {
     "name": "stdout",
     "output_type": "stream",
     "text": [
      "\tType: \t\t\tfloat64\n",
      "\tMissing Values: \t70278 (3.5%)\n",
      "\tMean: \t\t\t8.25\n",
      "\tRange: \t\t\t(0.00, 91.00)\n"
     ]
    },
    {
     "data": {
      "image/png": "[encoded data removed]",
      "text/plain": [
       "<Figure size 720x144 with 1 Axes>"
      ]
     },
     "metadata": {},
     "output_type": "display_data"
    }
   ],
   "source": [
    "# NUM_OP_REV_TL\n",
    "X = 'num_op_rev_tl'\n",
    "EDA_attr(X)\n",
    "scale_attr(X)"
   ]
  },
  {
   "cell_type": "code",
   "execution_count": 61,
   "metadata": {},
   "outputs": [
    {
     "data": {
      "text/markdown": [
       "**num_rev_accts**: Number of revolving accounts"
      ],
      "text/plain": [
       "<IPython.core.display.Markdown object>"
      ]
     },
     "metadata": {},
     "output_type": "display_data"
    },
    {
     "name": "stdout",
     "output_type": "stream",
     "text": [
      "\tType: \t\t\tfloat64\n",
      "\tMissing Values: \t70279 (3.5%)\n",
      "\tMean: \t\t\t14.15\n",
      "\tRange: \t\t\t(0.00, 151.00)\n"
     ]
    },
    {
     "data": {
      "image/png": "[encoded data removed]",
      "text/plain": [
       "<Figure size 720x144 with 1 Axes>"
      ]
     },
     "metadata": {},
     "output_type": "display_data"
    }
   ],
   "source": [
    "# NUM_REV_ACCTS\n",
    "X = 'num_rev_accts'\n",
    "EDA_attr(X)\n",
    "scale_attr(X)"
   ]
  },
  {
   "cell_type": "code",
   "execution_count": 62,
   "metadata": {},
   "outputs": [
    {
     "data": {
      "text/markdown": [
       "**num_rev_tl_bal_gt_0**: Number of revolving trades with balance >0"
      ],
      "text/plain": [
       "<IPython.core.display.Markdown object>"
      ]
     },
     "metadata": {},
     "output_type": "display_data"
    },
    {
     "name": "stdout",
     "output_type": "stream",
     "text": [
      "\tType: \t\t\tfloat64\n",
      "\tMissing Values: \t70278 (3.5%)\n",
      "\tMean: \t\t\t5.60\n",
      "\tRange: \t\t\t(0.00, 65.00)\n"
     ]
    },
    {
     "data": {
      "image/png": "[encoded data removed]",
      "text/plain": [
       "<Figure size 720x144 with 1 Axes>"
      ]
     },
     "metadata": {},
     "output_type": "display_data"
    }
   ],
   "source": [
    "# NUM_REV_TL_BAL_GT_0\n",
    "X = 'num_rev_tl_bal_gt_0'\n",
    "EDA_attr(X)\n",
    "scale_attr(X)"
   ]
  },
  {
   "cell_type": "code",
   "execution_count": 63,
   "metadata": {},
   "outputs": [
    {
     "data": {
      "text/markdown": [
       "**num_sats**: Number of satisfactory accounts"
      ],
      "text/plain": [
       "<IPython.core.display.Markdown object>"
      ]
     },
     "metadata": {},
     "output_type": "display_data"
    },
    {
     "name": "stdout",
     "output_type": "stream",
     "text": [
      "\tType: \t\t\tfloat64\n",
      "\tMissing Values: \t58592 (2.9%)\n",
      "\tMean: \t\t\t11.64\n",
      "\tRange: \t\t\t(0.00, 101.00)\n"
     ]
    },
    {
     "data": {
      "image/png": "[encoded data removed]",
      "text/plain": [
       "<Figure size 720x144 with 1 Axes>"
      ]
     },
     "metadata": {},
     "output_type": "display_data"
    }
   ],
   "source": [
    "# NUM_SATS\n",
    "X = 'num_sats'\n",
    "EDA_attr(X)\n",
    "scale_attr(X)"
   ]
  },
  {
   "cell_type": "code",
   "execution_count": 64,
   "metadata": {},
   "outputs": [
    {
     "data": {
      "text/markdown": [
       "**num_tl_120dpd_2m**: Number of accounts currently 120 days past due (updated in past 2 months)"
      ],
      "text/plain": [
       "<IPython.core.display.Markdown object>"
      ]
     },
     "metadata": {},
     "output_type": "display_data"
    },
    {
     "name": "stdout",
     "output_type": "stream",
     "text": [
      "\tType: \t\t\tfloat64\n",
      "\tMissing Values: \t147546 (7.4%)\n",
      "\tMean: \t\t\t0.00\n",
      "\tRange: \t\t\t(0.00, 7.00)\n"
     ]
    },
    {
     "data": {
      "image/png": "[encoded data removed]",
      "text/plain": [
       "<Figure size 720x144 with 1 Axes>"
      ]
     },
     "metadata": {},
     "output_type": "display_data"
    }
   ],
   "source": [
    "# NUM_TL_120DPD_2M\n",
    "X = 'num_tl_120dpd_2m'\n",
    "EDA_attr(X)\n",
    "scale_attr(X)"
   ]
  },
  {
   "cell_type": "code",
   "execution_count": 65,
   "metadata": {},
   "outputs": [
    {
     "data": {
      "text/markdown": [
       "**num_tl_30dpd**: Number of accounts currently 30 days past due (updated in past 2 months)"
      ],
      "text/plain": [
       "<IPython.core.display.Markdown object>"
      ]
     },
     "metadata": {},
     "output_type": "display_data"
    },
    {
     "name": "stdout",
     "output_type": "stream",
     "text": [
      "\tType: \t\t\tfloat64\n",
      "\tMissing Values: \t70278 (3.5%)\n",
      "\tMean: \t\t\t0.00\n",
      "\tRange: \t\t\t(0.00, 4.00)\n"
     ]
    },
    {
     "data": {
      "image/png": "[encoded data removed]",
      "text/plain": [
       "<Figure size 720x144 with 1 Axes>"
      ]
     },
     "metadata": {},
     "output_type": "display_data"
    }
   ],
   "source": [
    "# NUM_TL_30DPD\n",
    "X = 'num_tl_30dpd'\n",
    "EDA_attr(X)\n",
    "scale_attr(X)"
   ]
  },
  {
   "cell_type": "code",
   "execution_count": 66,
   "metadata": {},
   "outputs": [
    {
     "data": {
      "text/markdown": [
       "**num_tl_90g_dpd_24m**: Number of accounts 90 or more days past due in last 24 months"
      ],
      "text/plain": [
       "<IPython.core.display.Markdown object>"
      ]
     },
     "metadata": {},
     "output_type": "display_data"
    },
    {
     "name": "stdout",
     "output_type": "stream",
     "text": [
      "\tType: \t\t\tfloat64\n",
      "\tMissing Values: \t70278 (3.5%)\n",
      "\tMean: \t\t\t0.09\n",
      "\tRange: \t\t\t(0.00, 42.00)\n"
     ]
    },
    {
     "data": {
      "image/png": "[encoded data removed]",
      "text/plain": [
       "<Figure size 720x144 with 1 Axes>"
      ]
     },
     "metadata": {},
     "output_type": "display_data"
    }
   ],
   "source": [
    "# NUM_TL_90G_DPD_24M\n",
    "X = 'num_tl_90g_dpd_24m'\n",
    "EDA_attr(X)\n",
    "scale_attr(X)"
   ]
  },
  {
   "cell_type": "code",
   "execution_count": 67,
   "metadata": {},
   "outputs": [
    {
     "data": {
      "text/markdown": [
       "**num_tl_op_past_12m**: Number of accounts opened in past 12 months"
      ],
      "text/plain": [
       "<IPython.core.display.Markdown object>"
      ]
     },
     "metadata": {},
     "output_type": "display_data"
    },
    {
     "name": "stdout",
     "output_type": "stream",
     "text": [
      "\tType: \t\t\tfloat64\n",
      "\tMissing Values: \t70278 (3.5%)\n",
      "\tMean: \t\t\t2.09\n",
      "\tRange: \t\t\t(0.00, 32.00)\n"
     ]
    },
    {
     "data": {
      "image/png": "[encoded data removed]",
      "text/plain": [
       "<Figure size 720x144 with 1 Axes>"
      ]
     },
     "metadata": {},
     "output_type": "display_data"
    }
   ],
   "source": [
    "# NUM_TL_OP_PAST_12M\n",
    "X = 'num_tl_op_past_12m'\n",
    "EDA_attr(X)\n",
    "scale_attr(X)"
   ]
  },
  {
   "cell_type": "code",
   "execution_count": 68,
   "metadata": {},
   "outputs": [
    {
     "data": {
      "text/markdown": [
       "**open_acc**: The number of open credit lines in the borrower's credit file."
      ],
      "text/plain": [
       "<IPython.core.display.Markdown object>"
      ]
     },
     "metadata": {},
     "output_type": "display_data"
    },
    {
     "name": "stdout",
     "output_type": "stream",
     "text": [
      "\tType: \t\t\tfloat64\n",
      "\tMissing Values: \t31 (0.0%)\n",
      "\tMean: \t\t\t11.62\n",
      "\tRange: \t\t\t(0.00, 101.00)\n"
     ]
    },
    {
     "data": {
      "image/png": "[encoded data removed]",
      "text/plain": [
       "<Figure size 720x144 with 1 Axes>"
      ]
     },
     "metadata": {},
     "output_type": "display_data"
    }
   ],
   "source": [
    "# OPEN_ACC\n",
    "X = 'open_acc'\n",
    "EDA_attr(X)\n",
    "scale_attr(X)"
   ]
  },
  {
   "cell_type": "code",
   "execution_count": 69,
   "metadata": {},
   "outputs": [
    {
     "data": {
      "text/markdown": [
       "**open_acc_6m**: Number of open trades in last 6 months"
      ],
      "text/plain": [
       "<IPython.core.display.Markdown object>"
      ]
     },
     "metadata": {},
     "output_type": "display_data"
    },
    {
     "name": "stdout",
     "output_type": "stream",
     "text": [
      "\tType: \t\t\tfloat64\n",
      "\tMissing Values: \t866132 (43.2%)\n",
      "\tMean: \t\t\t0.94\n",
      "\tRange: \t\t\t(0.00, 18.00)\n"
     ]
    },
    {
     "data": {
      "image/png": "[encoded data removed]",
      "text/plain": [
       "<Figure size 720x144 with 1 Axes>"
      ]
     },
     "metadata": {},
     "output_type": "display_data"
    }
   ],
   "source": [
    "# OPEN_ACC_6M\n",
    "X = 'open_acc_6m'\n",
    "EDA_attr(X)\n",
    "scale_attr(X)"
   ]
  },
  {
   "cell_type": "code",
   "execution_count": 70,
   "metadata": {},
   "outputs": [
    {
     "data": {
      "text/markdown": [
       "**open_act_il**: Number of currently active installment trades"
      ],
      "text/plain": [
       "<IPython.core.display.Markdown object>"
      ]
     },
     "metadata": {},
     "output_type": "display_data"
    },
    {
     "name": "stdout",
     "output_type": "stream",
     "text": [
      "\tType: \t\t\tfloat64\n",
      "\tMissing Values: \t866131 (43.2%)\n",
      "\tMean: \t\t\t2.79\n",
      "\tRange: \t\t\t(0.00, 57.00)\n"
     ]
    },
    {
     "data": {
      "image/png": "[encoded data removed]",
      "text/plain": [
       "<Figure size 720x144 with 1 Axes>"
      ]
     },
     "metadata": {},
     "output_type": "display_data"
    }
   ],
   "source": [
    "# OPEN_ACT_IL\n",
    "X = 'open_act_il'\n",
    "EDA_attr(X)\n",
    "scale_attr(X)"
   ]
  },
  {
   "cell_type": "code",
   "execution_count": 71,
   "metadata": {},
   "outputs": [
    {
     "data": {
      "text/markdown": [
       "**open_il_12m**: Number of installment accounts opened in past 12 months"
      ],
      "text/plain": [
       "<IPython.core.display.Markdown object>"
      ]
     },
     "metadata": {},
     "output_type": "display_data"
    },
    {
     "name": "stdout",
     "output_type": "stream",
     "text": [
      "\tType: \t\t\tfloat64\n",
      "\tMissing Values: \t866131 (43.2%)\n",
      "\tMean: \t\t\t0.68\n",
      "\tRange: \t\t\t(0.00, 25.00)\n"
     ]
    },
    {
     "data": {
      "image/png": "[encoded data removed]",
      "text/plain": [
       "<Figure size 720x144 with 1 Axes>"
      ]
     },
     "metadata": {},
     "output_type": "display_data"
    }
   ],
   "source": [
    "# OPEN_ACT_12M\n",
    "X = 'open_il_12m'\n",
    "EDA_attr(X)\n",
    "scale_attr(X)"
   ]
  },
  {
   "cell_type": "code",
   "execution_count": 72,
   "metadata": {},
   "outputs": [
    {
     "data": {
      "text/markdown": [
       "**open_il_24m**: Number of installment accounts opened in past 24 months"
      ],
      "text/plain": [
       "<IPython.core.display.Markdown object>"
      ]
     },
     "metadata": {},
     "output_type": "display_data"
    },
    {
     "name": "stdout",
     "output_type": "stream",
     "text": [
      "\tType: \t\t\tfloat64\n",
      "\tMissing Values: \t866131 (43.2%)\n",
      "\tMean: \t\t\t1.57\n",
      "\tRange: \t\t\t(0.00, 51.00)\n"
     ]
    },
    {
     "data": {
      "image/png": "[encoded data removed]",
      "text/plain": [
       "<Figure size 720x144 with 1 Axes>"
      ]
     },
     "metadata": {},
     "output_type": "display_data"
    }
   ],
   "source": [
    "# OPEN_ACT_24M\n",
    "X = 'open_il_24m'\n",
    "EDA_attr(X)\n",
    "scale_attr(X)"
   ]
  },
  {
   "cell_type": "code",
   "execution_count": 73,
   "metadata": {},
   "outputs": [
    {
     "data": {
      "text/markdown": [
       "**open_rv_12m**: Number of revolving trades opened in past 12 months"
      ],
      "text/plain": [
       "<IPython.core.display.Markdown object>"
      ]
     },
     "metadata": {},
     "output_type": "display_data"
    },
    {
     "name": "stdout",
     "output_type": "stream",
     "text": [
      "\tType: \t\t\tfloat64\n",
      "\tMissing Values: \t866131 (43.2%)\n",
      "\tMean: \t\t\t1.31\n",
      "\tRange: \t\t\t(0.00, 28.00)\n"
     ]
    },
    {
     "data": {
      "image/png": "[encoded data removed]",
      "text/plain": [
       "<Figure size 720x144 with 1 Axes>"
      ]
     },
     "metadata": {},
     "output_type": "display_data"
    }
   ],
   "source": [
    "# OPEN_RV_12M\n",
    "X = 'open_rv_12m'\n",
    "EDA_attr(X)\n",
    "scale_attr(X)"
   ]
  },
  {
   "cell_type": "code",
   "execution_count": 74,
   "metadata": {},
   "outputs": [
    {
     "data": {
      "text/markdown": [
       "**open_rv_24m**: Number of revolving trades opened in past 24 months"
      ],
      "text/plain": [
       "<IPython.core.display.Markdown object>"
      ]
     },
     "metadata": {},
     "output_type": "display_data"
    },
    {
     "name": "stdout",
     "output_type": "stream",
     "text": [
      "\tType: \t\t\tfloat64\n",
      "\tMissing Values: \t866131 (43.2%)\n",
      "\tMean: \t\t\t2.79\n",
      "\tRange: \t\t\t(0.00, 60.00)\n"
     ]
    },
    {
     "data": {
      "image/png": "[encoded data removed]",
      "text/plain": [
       "<Figure size 720x144 with 1 Axes>"
      ]
     },
     "metadata": {},
     "output_type": "display_data"
    }
   ],
   "source": [
    "# OPEN_RV_24M\n",
    "X = 'open_rv_24m'\n",
    "EDA_attr(X)\n",
    "scale_attr(X)"
   ]
  },
  {
   "cell_type": "code",
   "execution_count": 75,
   "metadata": {},
   "outputs": [
    {
     "data": {
      "text/markdown": [
       "**pct_tl_nvr_dlq**: Percent of trades never delinquent"
      ],
      "text/plain": [
       "<IPython.core.display.Markdown object>"
      ]
     },
     "metadata": {},
     "output_type": "display_data"
    },
    {
     "name": "stdout",
     "output_type": "stream",
     "text": [
      "\tType: \t\t\tfloat64\n",
      "\tMissing Values: \t70432 (3.5%)\n",
      "\tMean: \t\t\t94.05\n",
      "\tRange: \t\t\t(0.00, 100.00)\n"
     ]
    },
    {
     "data": {
      "image/png": "[encoded data removed]",
      "text/plain": [
       "<Figure size 720x144 with 1 Axes>"
      ]
     },
     "metadata": {},
     "output_type": "display_data"
    }
   ],
   "source": [
    "# PCT_TL_NVR_DLQ\n",
    "X = 'pct_tl_nvr_dlq'\n",
    "EDA_attr(X)\n",
    "scale_attr(X)"
   ]
  },
  {
   "cell_type": "code",
   "execution_count": 76,
   "metadata": {},
   "outputs": [
    {
     "data": {
      "text/markdown": [
       "**percent_bc_gt_75**: Percentage of all bankcard accounts > 75% of limit."
      ],
      "text/plain": [
       "<IPython.core.display.Markdown object>"
      ]
     },
     "metadata": {},
     "output_type": "display_data"
    },
    {
     "name": "stdout",
     "output_type": "stream",
     "text": [
      "\tType: \t\t\tfloat64\n",
      "\tMissing Values: \t72040 (3.6%)\n",
      "\tMean: \t\t\t43.65\n",
      "\tRange: \t\t\t(0.00, 100.00)\n"
     ]
    },
    {
     "data": {
      "image/png": "[encoded data removed]",
      "text/plain": [
       "<Figure size 720x144 with 1 Axes>"
      ]
     },
     "metadata": {},
     "output_type": "display_data"
    }
   ],
   "source": [
    "# PERCENT_BC_GT_75\n",
    "X = 'percent_bc_gt_75'\n",
    "EDA_attr(X)\n",
    "scale_attr(X)"
   ]
  },
  {
   "cell_type": "code",
   "execution_count": 77,
   "metadata": {},
   "outputs": [
    {
     "data": {
      "text/markdown": [
       "**pub_rec**: Number of derogatory public records"
      ],
      "text/plain": [
       "<IPython.core.display.Markdown object>"
      ]
     },
     "metadata": {},
     "output_type": "display_data"
    },
    {
     "name": "stdout",
     "output_type": "stream",
     "text": [
      "\tType: \t\t\tfloat64\n",
      "\tMissing Values: \t31 (0.0%)\n",
      "\tMean: \t\t\t0.21\n",
      "\tRange: \t\t\t(0.00, 86.00)\n"
     ]
    },
    {
     "data": {
      "image/png": "[encoded data removed]",
      "text/plain": [
       "<Figure size 720x144 with 1 Axes>"
      ]
     },
     "metadata": {},
     "output_type": "display_data"
    }
   ],
   "source": [
    "# PUB_REC\n",
    "X ='pub_rec'\n",
    "EDA_attr(X)\n",
    "scale_attr(X)"
   ]
  },
  {
   "cell_type": "code",
   "execution_count": 78,
   "metadata": {},
   "outputs": [
    {
     "data": {
      "text/markdown": [
       "**pub_rec_bankruptcies**: Number of public record bankruptcies"
      ],
      "text/plain": [
       "<IPython.core.display.Markdown object>"
      ]
     },
     "metadata": {},
     "output_type": "display_data"
    },
    {
     "name": "stdout",
     "output_type": "stream",
     "text": [
      "\tType: \t\t\tfloat64\n",
      "\tMissing Values: \t1367 (0.1%)\n",
      "\tMean: \t\t\t0.13\n",
      "\tRange: \t\t\t(0.00, 12.00)\n"
     ]
    },
    {
     "data": {
      "image/png": "[encoded data removed]",
      "text/plain": [
       "<Figure size 720x144 with 1 Axes>"
      ]
     },
     "metadata": {},
     "output_type": "display_data"
    }
   ],
   "source": [
    "# PUB_REC_BANKRUPTCIES\n",
    "X = 'pub_rec_bankruptcies'\n",
    "EDA_attr(X)\n",
    "scale_attr(X)"
   ]
  },
  {
   "cell_type": "code",
   "execution_count": 79,
   "metadata": {},
   "outputs": [
    {
     "data": {
      "text/markdown": [
       "**revol_bal**: Total credit revolving balance"
      ],
      "text/plain": [
       "<IPython.core.display.Markdown object>"
      ]
     },
     "metadata": {},
     "output_type": "display_data"
    },
    {
     "name": "stdout",
     "output_type": "stream",
     "text": [
      "\tType: \t\t\tfloat64\n",
      "\tMissing Values: \t2 (0.0%)\n",
      "\tMean: \t\t\t16650.29\n",
      "\tRange: \t\t\t(0.00, 2904836.00)\n"
     ]
    },
    {
     "data": {
      "image/png": "[encoded data removed]",
      "text/plain": [
       "<Figure size 720x144 with 1 Axes>"
      ]
     },
     "metadata": {},
     "output_type": "display_data"
    }
   ],
   "source": [
    "# REVOL_BAL\n",
    "X = 'revol_bal'\n",
    "EDA_attr(X)\n",
    "scale_attr(X)"
   ]
  },
  {
   "cell_type": "code",
   "execution_count": 80,
   "metadata": {},
   "outputs": [
    {
     "data": {
      "text/markdown": [
       "**revol_util**: Revolving line utilization rate, or the amount of credit the borrower is using relative to all available revolving credit."
      ],
      "text/plain": [
       "<IPython.core.display.Markdown object>"
      ]
     },
     "metadata": {},
     "output_type": "display_data"
    },
    {
     "name": "stdout",
     "output_type": "stream",
     "text": [
      "\tType: \t\t\tobject\n",
      "\tMissing Values: \t1519 (0.1%)\n",
      "\tNumber of Categories: \t1421\n",
      "            count           sum\n",
      "revol_util                     \n",
      "0%          10877 152684825.000\n",
      "57%          3945  61456000.000\n",
      "59%          3890  61073725.000\n"
     ]
    }
   ],
   "source": [
    "# REVOL_UTIL\n",
    "X = 'revol_util'\n",
    "EDA_attr(X)\n",
    "ls_clean[X] = ls[X].str[:-1].astype(np.float)\n",
    "scale_attr(X)"
   ]
  },
  {
   "cell_type": "code",
   "execution_count": 81,
   "metadata": {},
   "outputs": [
    {
     "data": {
      "text/markdown": [
       "**tax_liens**: Number of tax liens"
      ],
      "text/plain": [
       "<IPython.core.display.Markdown object>"
      ]
     },
     "metadata": {},
     "output_type": "display_data"
    },
    {
     "name": "stdout",
     "output_type": "stream",
     "text": [
      "\tType: \t\t\tfloat64\n",
      "\tMissing Values: \t107 (0.0%)\n",
      "\tMean: \t\t\t0.05\n",
      "\tRange: \t\t\t(0.00, 85.00)\n"
     ]
    },
    {
     "data": {
      "image/png": "[encoded data removed]",
      "text/plain": [
       "<Figure size 720x144 with 1 Axes>"
      ]
     },
     "metadata": {},
     "output_type": "display_data"
    }
   ],
   "source": [
    "# TAX_LIENS\n",
    "X = 'tax_liens'\n",
    "EDA_attr(X)\n",
    "scale_attr(X)"
   ]
  },
  {
   "cell_type": "code",
   "execution_count": 82,
   "metadata": {},
   "outputs": [
    {
     "data": {
      "text/markdown": [
       "**tot_coll_amt**: Total collection amounts ever owed"
      ],
      "text/plain": [
       "<IPython.core.display.Markdown object>"
      ]
     },
     "metadata": {},
     "output_type": "display_data"
    },
    {
     "name": "stdout",
     "output_type": "stream",
     "text": [
      "\tType: \t\t\tfloat64\n",
      "\tMissing Values: \t70278 (3.5%)\n",
      "\tMean: \t\t\t238.34\n",
      "\tRange: \t\t\t(0.00, 9152545.00)\n"
     ]
    },
    {
     "data": {
      "image/png": "[encoded data removed]",
      "text/plain": [
       "<Figure size 720x144 with 1 Axes>"
      ]
     },
     "metadata": {},
     "output_type": "display_data"
    }
   ],
   "source": [
    "# TOT_COLL_AMT\n",
    "X = 'tot_coll_amt'\n",
    "EDA_attr(X)\n",
    "scale_attr(X)"
   ]
  },
  {
   "cell_type": "code",
   "execution_count": 83,
   "metadata": {},
   "outputs": [
    {
     "data": {
      "text/markdown": [
       "**tot_cur_bal**: Total current balance of all accounts"
      ],
      "text/plain": [
       "<IPython.core.display.Markdown object>"
      ]
     },
     "metadata": {},
     "output_type": "display_data"
    },
    {
     "name": "stdout",
     "output_type": "stream",
     "text": [
      "\tType: \t\t\tfloat64\n",
      "\tMissing Values: \t70278 (3.5%)\n",
      "\tMean: \t\t\t142034.87\n",
      "\tRange: \t\t\t(0.00, 8524709.00)\n"
     ]
    },
    {
     "data": {
      "image/png": "[encoded data removed]",
      "text/plain": [
       "<Figure size 720x144 with 1 Axes>"
      ]
     },
     "metadata": {},
     "output_type": "display_data"
    }
   ],
   "source": [
    "# TOT_CUR_BAL\n",
    "X = 'tot_cur_bal'\n",
    "EDA_attr(X)\n",
    "scale_attr(X)"
   ]
  },
  {
   "cell_type": "code",
   "execution_count": 84,
   "metadata": {},
   "outputs": [
    {
     "data": {
      "text/markdown": [
       "**tot_hi_cred_lim**: Total high credit/credit limit"
      ],
      "text/plain": [
       "<IPython.core.display.Markdown object>"
      ]
     },
     "metadata": {},
     "output_type": "display_data"
    },
    {
     "name": "stdout",
     "output_type": "stream",
     "text": [
      "\tType: \t\t\tfloat64\n",
      "\tMissing Values: \t70278 (3.5%)\n",
      "\tMean: \t\t\t177035.96\n",
      "\tRange: \t\t\t(0.00, 9999999.00)\n"
     ]
    },
    {
     "data": {
      "image/png": "[encoded data removed]",
      "text/plain": [
       "<Figure size 720x144 with 1 Axes>"
      ]
     },
     "metadata": {},
     "output_type": "display_data"
    }
   ],
   "source": [
    "# TOT_HI_CRED_LIM\n",
    "X = 'tot_hi_cred_lim'\n",
    "EDA_attr(X)\n",
    "scale_attr(X)"
   ]
  },
  {
   "cell_type": "code",
   "execution_count": 85,
   "metadata": {},
   "outputs": [
    {
     "data": {
      "text/markdown": [
       "**total_acc**: The total number of credit lines currently in the borrower's credit file"
      ],
      "text/plain": [
       "<IPython.core.display.Markdown object>"
      ]
     },
     "metadata": {},
     "output_type": "display_data"
    },
    {
     "name": "stdout",
     "output_type": "stream",
     "text": [
      "\tType: \t\t\tfloat64\n",
      "\tMissing Values: \t31 (0.0%)\n",
      "\tMean: \t\t\t24.35\n",
      "\tRange: \t\t\t(1.00, 176.00)\n"
     ]
    },
    {
     "data": {
      "image/png": "[encoded data removed]",
      "text/plain": [
       "<Figure size 720x144 with 1 Axes>"
      ]
     },
     "metadata": {},
     "output_type": "display_data"
    }
   ],
   "source": [
    "# TOTAL_ACC\n",
    "X = 'total_acc'\n",
    "EDA_attr(X)\n",
    "scale_attr(X)"
   ]
  },
  {
   "cell_type": "code",
   "execution_count": 86,
   "metadata": {},
   "outputs": [
    {
     "data": {
      "text/markdown": [
       "**total_bal_ex_mort**: Total credit balance excluding mortgage"
      ],
      "text/plain": [
       "<IPython.core.display.Markdown object>"
      ]
     },
     "metadata": {},
     "output_type": "display_data"
    },
    {
     "name": "stdout",
     "output_type": "stream",
     "text": [
      "\tType: \t\t\tfloat64\n",
      "\tMissing Values: \t50032 (2.5%)\n",
      "\tMean: \t\t\t50769.47\n",
      "\tRange: \t\t\t(0.00, 3408095.00)\n"
     ]
    },
    {
     "data": {
      "image/png": "[encoded data removed]",
      "text/plain": [
       "<Figure size 720x144 with 1 Axes>"
      ]
     },
     "metadata": {},
     "output_type": "display_data"
    }
   ],
   "source": [
    "# TOTAL_BAL_EX_MORT\n",
    "X = 'total_bal_ex_mort'\n",
    "EDA_attr(X)\n",
    "scale_attr(X)"
   ]
  },
  {
   "cell_type": "code",
   "execution_count": 87,
   "metadata": {},
   "outputs": [
    {
     "data": {
      "text/markdown": [
       "**total_bal_il**: Total current balance of all installment accounts"
      ],
      "text/plain": [
       "<IPython.core.display.Markdown object>"
      ]
     },
     "metadata": {},
     "output_type": "display_data"
    },
    {
     "name": "stdout",
     "output_type": "stream",
     "text": [
      "\tType: \t\t\tfloat64\n",
      "\tMissing Values: \t866131 (43.2%)\n",
      "\tMean: \t\t\t35424.44\n",
      "\tRange: \t\t\t(0.00, 1711009.00)\n"
     ]
    },
    {
     "data": {
      "image/png": "[encoded data removed]",
      "text/plain": [
       "<Figure size 720x144 with 1 Axes>"
      ]
     },
     "metadata": {},
     "output_type": "display_data"
    }
   ],
   "source": [
    "# TOTAL_BAL_IL\n",
    "X = 'total_bal_il'\n",
    "EDA_attr(X)\n",
    "scale_attr(X)"
   ]
  },
  {
   "cell_type": "code",
   "execution_count": 88,
   "metadata": {},
   "outputs": [
    {
     "data": {
      "text/markdown": [
       "**total_bc_limit**: Total bankcard high credit/credit limit"
      ],
      "text/plain": [
       "<IPython.core.display.Markdown object>"
      ]
     },
     "metadata": {},
     "output_type": "display_data"
    },
    {
     "name": "stdout",
     "output_type": "stream",
     "text": [
      "\tType: \t\t\tfloat64\n",
      "\tMissing Values: \t50032 (2.5%)\n",
      "\tMean: \t\t\t22667.45\n",
      "\tRange: \t\t\t(0.00, 1569000.00)\n"
     ]
    },
    {
     "data": {
      "image/png": "[encoded data removed]",
      "text/plain": [
       "<Figure size 720x144 with 1 Axes>"
      ]
     },
     "metadata": {},
     "output_type": "display_data"
    }
   ],
   "source": [
    "# TOTAL_BC_LIMIT\n",
    "X = 'total_bc_limit'\n",
    "EDA_attr(X)\n",
    "scale_attr(X)"
   ]
  },
  {
   "cell_type": "code",
   "execution_count": 89,
   "metadata": {},
   "outputs": [
    {
     "data": {
      "text/markdown": [
       "**total_cu_tl**: Number of finance trades"
      ],
      "text/plain": [
       "<IPython.core.display.Markdown object>"
      ]
     },
     "metadata": {},
     "output_type": "display_data"
    },
    {
     "name": "stdout",
     "output_type": "stream",
     "text": [
      "\tType: \t\t\tfloat64\n",
      "\tMissing Values: \t866132 (43.2%)\n",
      "\tMean: \t\t\t1.47\n",
      "\tRange: \t\t\t(0.00, 111.00)\n"
     ]
    },
    {
     "data": {
      "image/png": "[encoded data removed]",
      "text/plain": [
       "<Figure size 720x144 with 1 Axes>"
      ]
     },
     "metadata": {},
     "output_type": "display_data"
    }
   ],
   "source": [
    "# TOTAL_CU_TL\n",
    "X = 'total_cu_tl'\n",
    "EDA_attr(X)\n",
    "scale_attr(X)"
   ]
  },
  {
   "cell_type": "code",
   "execution_count": 90,
   "metadata": {},
   "outputs": [
    {
     "data": {
      "text/markdown": [
       "**total_il_high_credit_limit**: Total installment high credit/credit limit"
      ],
      "text/plain": [
       "<IPython.core.display.Markdown object>"
      ]
     },
     "metadata": {},
     "output_type": "display_data"
    },
    {
     "name": "stdout",
     "output_type": "stream",
     "text": [
      "\tType: \t\t\tfloat64\n",
      "\tMissing Values: \t70278 (3.5%)\n",
      "\tMean: \t\t\t43384.36\n",
      "\tRange: \t\t\t(0.00, 2101913.00)\n"
     ]
    },
    {
     "data": {
      "image/png": "[encoded data removed]",
      "text/plain": [
       "<Figure size 720x144 with 1 Axes>"
      ]
     },
     "metadata": {},
     "output_type": "display_data"
    }
   ],
   "source": [
    "# TOTAL_IL_HIGH_CREDIT_LIMIT\n",
    "X = 'total_il_high_credit_limit'\n",
    "EDA_attr(X)\n",
    "scale_attr(X)"
   ]
  },
  {
   "cell_type": "code",
   "execution_count": 91,
   "metadata": {},
   "outputs": [
    {
     "data": {
      "text/markdown": [
       "**total_rev_hi_lim**: Total revolving high credit/credit limit"
      ],
      "text/plain": [
       "<IPython.core.display.Markdown object>"
      ]
     },
     "metadata": {},
     "output_type": "display_data"
    },
    {
     "name": "stdout",
     "output_type": "stream",
     "text": [
      "\tType: \t\t\tfloat64\n",
      "\tMissing Values: \t70278 (3.5%)\n",
      "\tMean: \t\t\t33980.46\n",
      "\tRange: \t\t\t(0.00, 9999999.00)\n"
     ]
    },
    {
     "data": {
      "image/png": "[encoded data removed]",
      "text/plain": [
       "<Figure size 720x144 with 1 Axes>"
      ]
     },
     "metadata": {},
     "output_type": "display_data"
    }
   ],
   "source": [
    "# TOTAL_REV_HI_LIM\n",
    "X = 'total_rev_hi_lim'\n",
    "EDA_attr(X)\n",
    "scale_attr(X)"
   ]
  },
  {
   "cell_type": "markdown",
   "metadata": {},
   "source": [
    "<hr style=\"height:2pt\">\n",
    "\n",
    "### 2D. Co-Borrower Information"
   ]
  },
  {
   "cell_type": "code",
   "execution_count": 92,
   "metadata": {},
   "outputs": [
    {
     "data": {
      "text/markdown": [
       "**application_type**: Indicates whether the loan is an individual application or a joint application with two co-borrowers"
      ],
      "text/plain": [
       "<IPython.core.display.Markdown object>"
      ]
     },
     "metadata": {},
     "output_type": "display_data"
    },
    {
     "name": "stdout",
     "output_type": "stream",
     "text": [
      "\tType: \t\t\tobject\n",
      "\tMissing Values: \t2 (0.0%)\n",
      "\tNumber of Categories: \t2\n",
      "                    count             sum\n",
      "application_type                         \n",
      "Individual        1917918 28212224125.000\n",
      "Joint App           86142  1689807550.000\n"
     ]
    }
   ],
   "source": [
    "# APPLICATION_TYPE\n",
    "X = 'application_type'\n",
    "EDA_attr(X)\n",
    "dummy_attr(X)"
   ]
  },
  {
   "cell_type": "code",
   "execution_count": 93,
   "metadata": {},
   "outputs": [
    {
     "data": {
      "text/markdown": [
       "**annual_inc_joint**: The combined self-reported annual income provided by the co-borrowers during registration"
      ],
      "text/plain": [
       "<IPython.core.display.Markdown object>"
      ]
     },
     "metadata": {},
     "output_type": "display_data"
    },
    {
     "name": "stdout",
     "output_type": "stream",
     "text": [
      "\tType: \t\t\tfloat64\n",
      "\tMissing Values: \t1917920 (95.7%)\n",
      "\tMean: \t\t\t120803.17\n",
      "\tRange: \t\t\t(5693.51, 7874821.00)\n"
     ]
    },
    {
     "data": {
      "image/png": "[encoded data removed]",
      "text/plain": [
       "<Figure size 720x144 with 1 Axes>"
      ]
     },
     "metadata": {},
     "output_type": "display_data"
    }
   ],
   "source": [
    "# ANNUAL_INC_JOINT\n",
    "X = 'annual_inc_joint'\n",
    "EDA_attr(X)\n",
    "outliers = outlier_attr(X, 10000000)\n",
    "scale_attr(X, ls[~outliers][[X]])"
   ]
  },
  {
   "cell_type": "code",
   "execution_count": 94,
   "metadata": {},
   "outputs": [
    {
     "data": {
      "text/markdown": [
       "**dti_joint**: A ratio calculated using the co-borrowers' total monthly payments on the total debt obligations, excluding mortgages and the requested LC loan, divided by the co-borrowers' combined self-reported monthly income"
      ],
      "text/plain": [
       "<IPython.core.display.Markdown object>"
      ]
     },
     "metadata": {},
     "output_type": "display_data"
    },
    {
     "name": "stdout",
     "output_type": "stream",
     "text": [
      "\tType: \t\t\tfloat64\n",
      "\tMissing Values: \t1917924 (95.7%)\n",
      "\tMean: \t\t\t19.27\n",
      "\tRange: \t\t\t(0.00, 69.49)\n"
     ]
    },
    {
     "data": {
      "image/png": "[encoded data removed]",
      "text/plain": [
       "<Figure size 720x144 with 1 Axes>"
      ]
     },
     "metadata": {},
     "output_type": "display_data"
    }
   ],
   "source": [
    "# DTI_JOINT\n",
    "X = 'dti_joint'\n",
    "EDA_attr(X)\n",
    "scale_attr(X)"
   ]
  },
  {
   "cell_type": "code",
   "execution_count": 95,
   "metadata": {},
   "outputs": [
    {
     "data": {
      "text/markdown": [
       "**revol_bal_joint**:  Sum of revolving credit balance of the co-borrowers, net of duplicate balances"
      ],
      "text/plain": [
       "<IPython.core.display.Markdown object>"
      ]
     },
     "metadata": {},
     "output_type": "display_data"
    },
    {
     "name": "stdout",
     "output_type": "stream",
     "text": [
      "\tType: \t\t\tfloat64\n",
      "\tMissing Values: \t1930609 (96.3%)\n",
      "\tMean: \t\t\t32703.64\n",
      "\tRange: \t\t\t(0.00, 371153.00)\n"
     ]
    },
    {
     "data": {
      "image/png": "[encoded data removed]",
      "text/plain": [
       "<Figure size 720x144 with 1 Axes>"
      ]
     },
     "metadata": {},
     "output_type": "display_data"
    }
   ],
   "source": [
    "# REVOL_BAL_JOINT\n",
    "X = 'revol_bal_joint'\n",
    "EDA_attr(X)\n",
    "scale_attr(X)"
   ]
  },
  {
   "cell_type": "code",
   "execution_count": 96,
   "metadata": {},
   "outputs": [
    {
     "data": {
      "text/markdown": [
       "**sec_app_chargeoff_within_12_mths**:  Number of charge-offs within last 12 months at time of application for the secondary applicant"
      ],
      "text/plain": [
       "<IPython.core.display.Markdown object>"
      ]
     },
     "metadata": {},
     "output_type": "display_data"
    },
    {
     "name": "stdout",
     "output_type": "stream",
     "text": [
      "\tType: \t\t\tfloat64\n",
      "\tMissing Values: \t1930608 (96.3%)\n",
      "\tMean: \t\t\t0.05\n",
      "\tRange: \t\t\t(0.00, 21.00)\n"
     ]
    },
    {
     "data": {
      "image/png": "[encoded data removed]",
      "text/plain": [
       "<Figure size 720x144 with 1 Axes>"
      ]
     },
     "metadata": {},
     "output_type": "display_data"
    }
   ],
   "source": [
    "# SEC_APP_CHARGEOFF_WITHIN_12_MTHS\n",
    "X ='sec_app_chargeoff_within_12_mths'\n",
    "EDA_attr(X)\n",
    "scale_attr(X)"
   ]
  },
  {
   "cell_type": "code",
   "execution_count": 97,
   "metadata": {},
   "outputs": [
    {
     "data": {
      "text/markdown": [
       "**sec_app_collections_12_mths_ex_med**:  Number of collections within last 12 months excluding medical collections at time of application for the secondary applicant"
      ],
      "text/plain": [
       "<IPython.core.display.Markdown object>"
      ]
     },
     "metadata": {},
     "output_type": "display_data"
    },
    {
     "name": "stdout",
     "output_type": "stream",
     "text": [
      "\tType: \t\t\tfloat64\n",
      "\tMissing Values: \t1930608 (96.3%)\n",
      "\tMean: \t\t\t0.08\n",
      "\tRange: \t\t\t(0.00, 23.00)\n"
     ]
    },
    {
     "data": {
      "image/png": "[encoded data removed]",
      "text/plain": [
       "<Figure size 720x144 with 1 Axes>"
      ]
     },
     "metadata": {},
     "output_type": "display_data"
    }
   ],
   "source": [
    "# SEC_APP_COLLECTIONS_12_MTHS_EX_MED\n",
    "X = 'sec_app_collections_12_mths_ex_med'\n",
    "EDA_attr(X)\n",
    "outliers = outlier_attr(X, 12)\n",
    "scale_attr(X, ls[~outliers][[X]])"
   ]
  },
  {
   "cell_type": "code",
   "execution_count": 98,
   "metadata": {
    "scrolled": false
   },
   "outputs": [
    {
     "data": {
      "text/markdown": [
       "**sec_app_earliest_cr_line**:  Earliest credit line at time of application for the secondary applicant"
      ],
      "text/plain": [
       "<IPython.core.display.Markdown object>"
      ]
     },
     "metadata": {},
     "output_type": "display_data"
    },
    {
     "name": "stdout",
     "output_type": "stream",
     "text": [
      "\tType: \t\t\tdatetime64[ns]\n",
      "\tMissing Values: \t1930608 (96.3%)\n"
     ]
    }
   ],
   "source": [
    "# SEC_APP_EARLIEST_CR_LINE\n",
    "X = 'sec_app_earliest_cr_line'\n",
    "EDA_attr(X)\n",
    "ls_clean[X] =  np.array((ls['issue_d'] - ls[X]).dt.days).reshape(-1,1)\n",
    "scale_attr(X)"
   ]
  },
  {
   "cell_type": "code",
   "execution_count": 99,
   "metadata": {},
   "outputs": [
    {
     "data": {
      "text/markdown": [
       "**sec_app_inq_last_6mths**:  Credit inquiries in the last 6 months at time of application for the secondary applicant"
      ],
      "text/plain": [
       "<IPython.core.display.Markdown object>"
      ]
     },
     "metadata": {},
     "output_type": "display_data"
    },
    {
     "name": "stdout",
     "output_type": "stream",
     "text": [
      "\tType: \t\t\tfloat64\n",
      "\tMissing Values: \t1930608 (96.3%)\n",
      "\tMean: \t\t\t0.66\n",
      "\tRange: \t\t\t(0.00, 6.00)\n"
     ]
    },
    {
     "data": {
      "image/png": "[encoded data removed]",
      "text/plain": [
       "<Figure size 720x144 with 1 Axes>"
      ]
     },
     "metadata": {},
     "output_type": "display_data"
    }
   ],
   "source": [
    "# SEC_APP_INQ_LAST_6MTHS\n",
    "X = 'sec_app_inq_last_6mths'\n",
    "EDA_attr(X)\n",
    "scale_attr(X)"
   ]
  },
  {
   "cell_type": "code",
   "execution_count": 100,
   "metadata": {},
   "outputs": [
    {
     "data": {
      "text/markdown": [
       "**sec_app_mort_acc**:  Number of mortgage accounts at time of application for the secondary applicant"
      ],
      "text/plain": [
       "<IPython.core.display.Markdown object>"
      ]
     },
     "metadata": {},
     "output_type": "display_data"
    },
    {
     "name": "stdout",
     "output_type": "stream",
     "text": [
      "\tType: \t\t\tfloat64\n",
      "\tMissing Values: \t1930608 (96.3%)\n",
      "\tMean: \t\t\t1.52\n",
      "\tRange: \t\t\t(0.00, 27.00)\n"
     ]
    },
    {
     "data": {
      "image/png": "[encoded data removed]",
      "text/plain": [
       "<Figure size 720x144 with 1 Axes>"
      ]
     },
     "metadata": {},
     "output_type": "display_data"
    }
   ],
   "source": [
    "# SEC_APP_MORT_ACC\n",
    "X = 'sec_app_mort_acc'\n",
    "EDA_attr(X)\n",
    "outliers = outlier_attr(X, 15)\n",
    "scale_attr(X, ls[~outliers][[X]])"
   ]
  },
  {
   "cell_type": "code",
   "execution_count": 101,
   "metadata": {},
   "outputs": [
    {
     "data": {
      "text/markdown": [
       "**sec_app_mths_since_last_major_derog**:  Months since most recent 90-day or worse rating at time of application for the secondary applicant"
      ],
      "text/plain": [
       "<IPython.core.display.Markdown object>"
      ]
     },
     "metadata": {},
     "output_type": "display_data"
    },
    {
     "name": "stdout",
     "output_type": "stream",
     "text": [
      "\tType: \t\t\tfloat64\n",
      "\tMissing Values: \t1978886 (98.7%)\n",
      "\tMean: \t\t\t36.18\n",
      "\tRange: \t\t\t(0.00, 185.00)\n"
     ]
    },
    {
     "data": {
      "image/png": "[encoded data removed]",
      "text/plain": [
       "<Figure size 720x144 with 1 Axes>"
      ]
     },
     "metadata": {},
     "output_type": "display_data"
    }
   ],
   "source": [
    "# SEC_APP_MTHS_SINCE_LAST_MAJOR_DEROG\n",
    "X = 'sec_app_mths_since_last_major_derog'\n",
    "EDA_attr(X)\n",
    "scale_attr(X)"
   ]
  },
  {
   "cell_type": "code",
   "execution_count": 102,
   "metadata": {},
   "outputs": [
    {
     "data": {
      "text/markdown": [
       "**sec_app_num_rev_accts**:  Number of revolving accounts at time of application for the secondary applicant"
      ],
      "text/plain": [
       "<IPython.core.display.Markdown object>"
      ]
     },
     "metadata": {},
     "output_type": "display_data"
    },
    {
     "name": "stdout",
     "output_type": "stream",
     "text": [
      "\tType: \t\t\tfloat64\n",
      "\tMissing Values: \t1930608 (96.3%)\n",
      "\tMean: \t\t\t12.59\n",
      "\tRange: \t\t\t(0.00, 96.00)\n"
     ]
    },
    {
     "data": {
      "image/png": "[encoded data removed]",
      "text/plain": [
       "<Figure size 720x144 with 1 Axes>"
      ]
     },
     "metadata": {},
     "output_type": "display_data"
    }
   ],
   "source": [
    "# SEC_APP_NUM_REV_ACCTS\n",
    "X = 'sec_app_num_rev_accts'\n",
    "EDA_attr(X)\n",
    "scale_attr(X)"
   ]
  },
  {
   "cell_type": "code",
   "execution_count": 103,
   "metadata": {},
   "outputs": [
    {
     "data": {
      "text/markdown": [
       "**sec_app_open_acc**:  Number of open trades at time of application for the secondary applicant"
      ],
      "text/plain": [
       "<IPython.core.display.Markdown object>"
      ]
     },
     "metadata": {},
     "output_type": "display_data"
    },
    {
     "name": "stdout",
     "output_type": "stream",
     "text": [
      "\tType: \t\t\tfloat64\n",
      "\tMissing Values: \t1930608 (96.3%)\n",
      "\tMean: \t\t\t11.50\n",
      "\tRange: \t\t\t(0.00, 82.00)\n"
     ]
    },
    {
     "data": {
      "image/png": "[encoded data removed]",
      "text/plain": [
       "<Figure size 720x144 with 1 Axes>"
      ]
     },
     "metadata": {},
     "output_type": "display_data"
    }
   ],
   "source": [
    "# SEC_APP_OPEN_ACC\n",
    "X = 'sec_app_open_acc'\n",
    "EDA_attr(X)\n",
    "scale_attr(X)"
   ]
  },
  {
   "cell_type": "code",
   "execution_count": 104,
   "metadata": {},
   "outputs": [
    {
     "data": {
      "text/markdown": [
       "**sec_app_open_act_il**:  Number of currently active installment trades at time of application for the secondary applicant"
      ],
      "text/plain": [
       "<IPython.core.display.Markdown object>"
      ]
     },
     "metadata": {},
     "output_type": "display_data"
    },
    {
     "name": "stdout",
     "output_type": "stream",
     "text": [
      "\tType: \t\t\tfloat64\n",
      "\tMissing Values: \t1930608 (96.3%)\n",
      "\tMean: \t\t\t3.03\n",
      "\tRange: \t\t\t(0.00, 39.00)\n"
     ]
    },
    {
     "data": {
      "image/png": "[encoded data removed]",
      "text/plain": [
       "<Figure size 720x144 with 1 Axes>"
      ]
     },
     "metadata": {},
     "output_type": "display_data"
    }
   ],
   "source": [
    "# SEC_APP_OPEN_ACT_IL\n",
    "X = 'sec_app_open_act_il'\n",
    "EDA_attr(X)\n",
    "scale_attr(X)"
   ]
  },
  {
   "cell_type": "code",
   "execution_count": 105,
   "metadata": {
    "scrolled": true
   },
   "outputs": [
    {
     "data": {
      "text/markdown": [
       "**sec_app_revol_util**:  Ratio of total current balance to high credit/credit limit for all revolving accounts"
      ],
      "text/plain": [
       "<IPython.core.display.Markdown object>"
      ]
     },
     "metadata": {},
     "output_type": "display_data"
    },
    {
     "name": "stdout",
     "output_type": "stream",
     "text": [
      "\tType: \t\t\tfloat64\n",
      "\tMissing Values: \t1931877 (96.4%)\n",
      "\tMean: \t\t\t59.13\n",
      "\tRange: \t\t\t(0.00, 434.30)\n"
     ]
    },
    {
     "data": {
      "image/png": "[encoded data removed]",
      "text/plain": [
       "<Figure size 720x144 with 1 Axes>"
      ]
     },
     "metadata": {},
     "output_type": "display_data"
    }
   ],
   "source": [
    "# SEC_APP_REVOL_UTIL\n",
    "X = 'sec_app_revol_util'\n",
    "EDA_attr(X)\n",
    "scale_attr(X)"
   ]
  },
  {
   "cell_type": "code",
   "execution_count": 106,
   "metadata": {
    "scrolled": true
   },
   "outputs": [
    {
     "data": {
      "text/markdown": [
       "**verification_status_joint**: NULL"
      ],
      "text/plain": [
       "<IPython.core.display.Markdown object>"
      ]
     },
     "metadata": {},
     "output_type": "display_data"
    },
    {
     "name": "stdout",
     "output_type": "stream",
     "text": [
      "\tType: \t\t\tobject\n",
      "\tMissing Values: \t1918910 (95.8%)\n",
      "\tNumber of Categories: \t3\n",
      "                           count           sum\n",
      "verification_status_joint                     \n",
      "Not Verified               44215 804160525.000\n",
      "Source Verified            24063 491283900.000\n",
      "Verified                   16874 371509725.000\n"
     ]
    }
   ],
   "source": [
    "# VERIFICATION_STATUS_JOINT\n",
    "X = 'verification_status_joint'\n",
    "EDA_attr(X)\n",
    "dummy_attr(X)"
   ]
  },
  {
   "cell_type": "markdown",
   "metadata": {},
   "source": [
    "<hr style=\"height:5pt\">\n",
    "\n",
    "## 3. Dependent Variable Feature Design (36 variables)"
   ]
  },
  {
   "cell_type": "code",
   "execution_count": 107,
   "metadata": {},
   "outputs": [],
   "source": [
    "# DEPENDENT VARIABLES\n",
    "dependent_cols = [\n",
    "    \n",
    "    # Payment Variables (11): \n",
    "    'issue_d', 'last_pymnt_amnt', 'last_pymnt_d', 'loan_status', \n",
    "    'next_pymnt_d', 'out_prncp', 'out_prncp_inv', 'total_pymnt', \n",
    "    'total_pymnt_inv', 'total_rec_int', 'total_rec_prncp', \n",
    "    \n",
    "    # Hardship/Collections/Settlements\n",
    "    'collection_recovery_fee', 'debt_settlement_flag', 'debt_settlement_flag_date', 'deferral_term', \n",
    "    'hardship_amount', 'hardship_dpd', 'hardship_end_date', 'hardship_flag', \n",
    "    'hardship_last_payment_amount','hardship_length', 'hardship_loan_status', 'hardship_payoff_balance_amount', \n",
    "    'hardship_reason', 'hardship_start_date', 'hardship_status', 'hardship_type',\n",
    "    'last_credit_pull_d', 'orig_projected_additional_accrued_interest', 'payment_plan_start_date', 'pymnt_plan', \n",
    "    'recoveries', 'settlement_amount', 'settlement_date', 'settlement_percentage', \n",
    "    'settlement_status', 'settlement_term', 'total_rec_late_fee', ]\n",
    "\n",
    "ls_clean.drop(dependent_cols, axis=1, inplace=True)"
   ]
  },
  {
   "cell_type": "markdown",
   "metadata": {},
   "source": [
    "There are three features that we will design to represent the outcome of loan:\n",
    "- A. **Outcome Classification** (Repaid/Current vs. Not Repaid/Current)\n",
    "- B. **Principal Repaid Percentage**\n",
    "- C. **Annual Percentage Rate of Return** (APR)"
   ]
  },
  {
   "cell_type": "markdown",
   "metadata": {},
   "source": [
    "Our focus will be on loans that have completed their terms. This subset of loans provides the most complete outcome information. In-force loans cannot provide conclusive inferences on loan outcomes because the full term has not completed. Therefore information"
   ]
  },
  {
   "cell_type": "markdown",
   "metadata": {},
   "source": [
    "### A. `OUT_Class`"
   ]
  },
  {
   "cell_type": "code",
   "execution_count": 108,
   "metadata": {},
   "outputs": [
    {
     "name": "stdout",
     "output_type": "stream",
     "text": [
      "loan_status\n",
      "Charged Off                                            226958\n",
      "Current                                                834071\n",
      "Default                                                    36\n",
      "Does not meet the credit policy. Status:Charged Off       761\n",
      "Does not meet the credit policy. Status:Fully Paid       1988\n",
      "Fully Paid                                             898954\n",
      "In Grace Period                                         13740\n",
      "Late (16-30 days)                                        5128\n",
      "Late (31-120 days)                                      22426\n",
      "Name: loan_amnt, dtype: int64\n"
     ]
    },
    {
     "data": {
      "text/plain": [
       "2004062"
      ]
     },
     "execution_count": 108,
     "metadata": {},
     "output_type": "execute_result"
    }
   ],
   "source": [
    "print(ls.groupby('loan_status')['loan_amnt'].count())\n",
    "len(ls['loan_status'])"
   ]
  },
  {
   "cell_type": "code",
   "execution_count": 109,
   "metadata": {},
   "outputs": [],
   "source": [
    "ls_clean['OUT_Class'] = 0\n",
    "ls_clean.loc[ls['loan_status'].str.contains('Fully Paid'), 'OUT_Class'] = 1\n",
    "ls_clean.loc[ls['loan_status'].str.contains('Current'), 'OUT_Class'] = 1"
   ]
  },
  {
   "cell_type": "code",
   "execution_count": 110,
   "metadata": {},
   "outputs": [
    {
     "name": "stdout",
     "output_type": "stream",
     "text": [
      "OUT_Class\n",
      "0     269049\n",
      "1    1735011\n",
      "Name: loan_amnt, dtype: int64\n"
     ]
    },
    {
     "data": {
      "text/plain": [
       "2004062"
      ]
     },
     "execution_count": 110,
     "metadata": {},
     "output_type": "execute_result"
    }
   ],
   "source": [
    "print(ls_clean.groupby('OUT_Class')['loan_amnt'].count())\n",
    "len(ls['loan_status'])"
   ]
  },
  {
   "cell_type": "markdown",
   "metadata": {},
   "source": [
    "### B. `OUT_Prncp_Repaid_Percentage`"
   ]
  },
  {
   "cell_type": "code",
   "execution_count": 111,
   "metadata": {},
   "outputs": [],
   "source": [
    "ls_clean['OUT_Prncp_Repaid_Percentage'] = ls['total_rec_prncp'] / ls['loan_amnt']"
   ]
  },
  {
   "cell_type": "code",
   "execution_count": 112,
   "metadata": {},
   "outputs": [
    {
     "data": {
      "text/plain": [
       "count   2004062.000\n",
       "mean          0.645\n",
       "std           0.370\n",
       "min           0.000\n",
       "25%           0.265\n",
       "50%           0.764\n",
       "75%           1.000\n",
       "max           1.000\n",
       "Name: OUT_Prncp_Repaid_Percentage, dtype: float64"
      ]
     },
     "execution_count": 112,
     "metadata": {},
     "output_type": "execute_result"
    }
   ],
   "source": [
    "ls_clean['OUT_Prncp_Repaid_Percentage'].describe()"
   ]
  },
  {
   "cell_type": "markdown",
   "metadata": {},
   "source": [
    "### C. `OUT_APR`"
   ]
  },
  {
   "cell_type": "code",
   "execution_count": 113,
   "metadata": {},
   "outputs": [],
   "source": [
    "# print(ls[['loan_amnt','term','int_rate','total_pymnt', 'installment', 'loan_status']].head(10))\n",
    "\n",
    "# def calculat_EAR():\n",
    "#     months = 36\n",
    "#     loan_amnt= 5000\n",
    "#     total_pymnt = 5863.155\n",
    "#     cashflows = np.insert(np.full(months, total_pymnt/months), 0 , -loan_amnt)\n",
    "#     monthly_IRR = np.irr(df)\n",
    "    \n",
    "# print((ls['last_pymnt_d'].dt.to_period('M') - ls['issue_d'].dt.to_period('M')).head(10))\n",
    "# print(ls['loan_status'].head(10))"
   ]
  },
  {
   "cell_type": "code",
   "execution_count": null,
   "metadata": {},
   "outputs": [],
   "source": []
  },
  {
   "cell_type": "code",
   "execution_count": null,
   "metadata": {},
   "outputs": [],
   "source": []
  },
  {
   "cell_type": "code",
   "execution_count": null,
   "metadata": {},
   "outputs": [],
   "source": []
  },
  {
   "cell_type": "markdown",
   "metadata": {},
   "source": [
    "<hr style=\"height:5pt\">\n",
    "\n",
    "## 4. Final Processing"
   ]
  },
  {
   "cell_type": "code",
   "execution_count": 114,
   "metadata": {},
   "outputs": [],
   "source": [
    "# DROP OUTLIERS\n",
    "ls_clean2 = ls_clean[ls_clean['outlier']==0]\n",
    "ls_clean2 = ls_clean2.drop('outlier', axis=1)"
   ]
  },
  {
   "cell_type": "code",
   "execution_count": 115,
   "metadata": {},
   "outputs": [],
   "source": [
    "# DROP TERM INCOMPLETE LOANS\n",
    "completed_36 = (ls['issue_d'] < '2015-04-01') & (ls['term']  == ' 36 months')\n",
    "completed_60 = (ls['issue_d'] < '2013-04-01') & (ls['term']  == ' 60 months')\n",
    "ls_clean3 = ls_clean2[completed_36 | completed_60]"
   ]
  },
  {
   "cell_type": "code",
   "execution_count": 116,
   "metadata": {},
   "outputs": [],
   "source": [
    "# EXPORT DATASET\n",
    "ls_clean2.to_hdf(directory + 'LS_CLEAN.h5', 'LS_CLEAN')\n",
    "ls_clean3.to_hdf(directory + 'LS_CLEAN_COMPLETED.h5', 'LS_CLEAN_COMPLETED')"
   ]
  }
 ],
 "metadata": {
  "kernelspec": {
   "display_name": "Python 3",
   "language": "python",
   "name": "python3"
  },
  "language_info": {
   "codemirror_mode": {
    "name": "ipython",
    "version": 3
   },
   "file_extension": ".py",
   "mimetype": "text/x-python",
   "name": "python",
   "nbconvert_exporter": "python",
   "pygments_lexer": "ipython3",
   "version": "3.6.5"
  }
 },
 "nbformat": 4,
 "nbformat_minor": 2
}
