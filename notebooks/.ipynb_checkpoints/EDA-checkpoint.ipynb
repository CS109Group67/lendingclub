{
 "cells": [
  {
   "cell_type": "markdown",
   "metadata": {
    "tags": [
     "hidden"
    ]
   },
   "source": [
    "#  EDA & Preprocessing"
   ]
  },
  {
   "cell_type": "markdown",
   "metadata": {},
   "source": [
    "Note: **`ls`** is DataFrame used for EDA and never modified. **`ls_clean`** is DataFrame updated progressively to create final processed dataset"
   ]
  },
  {
   "cell_type": "markdown",
   "metadata": {},
   "source": [
    "## 0. Imports and Functions"
   ]
  },
  {
   "cell_type": "code",
   "execution_count": 87,
   "metadata": {},
   "outputs": [],
   "source": [
    "#IMPORTS\n",
    "import warnings; warnings.filterwarnings('ignore')\n",
    "import numpy as np\n",
    "import pandas as pd\n",
    "import matplotlib.pyplot as plt\n",
    "from sklearn.preprocessing import StandardScaler, MinMaxScaler\n",
    "from IPython.display import Markdown, display\n",
    "pd.options.display.max_rows = 150\n",
    "pd.options.display.max_columns = 200\n",
    "pd.options.display.float_format = '{:.3f}'.format\n",
    "plt.rcParams['figure.figsize'] = (10, 2)"
   ]
  },
  {
   "cell_type": "code",
   "execution_count": 88,
   "metadata": {},
   "outputs": [],
   "source": [
    "#LOAD LOANSTATS\n",
    "directory = '../../../data/'\n",
    "ls = pd.read_hdf(directory + 'LoanStats_clean.h5', 'full_loanstats') # HDF5"
   ]
  },
  {
   "cell_type": "code",
   "execution_count": 89,
   "metadata": {},
   "outputs": [],
   "source": [
    "#LOAD DATA DICTIONARY\n",
    "sheet_dict = pd.read_excel(directory + 'LCDataDictionary.xlsx', sheet_name=None)\n",
    "data_dict = {}\n",
    "for key in sheet_dict:\n",
    "    for index, row in sheet_dict[key].iterrows():\n",
    "        if type(row[0]) != float:\n",
    "            data_dict[row[0].strip()] = row[1]"
   ]
  },
  {
   "cell_type": "code",
   "execution_count": 90,
   "metadata": {},
   "outputs": [],
   "source": [
    "#CREATE 'ls_clean'\n",
    "ls.sort_index(axis=1, inplace=True)\n",
    "ls_clean = ls.copy()"
   ]
  },
  {
   "cell_type": "code",
   "execution_count": 91,
   "metadata": {},
   "outputs": [],
   "source": [
    "#FUNCTION FOR EDA\n",
    "def EDA_attr(attr):\n",
    "    \"\"\" Prints basic EDA for given attribute (muted by commenting)\"\"\"\n",
    "    num_observations = len(ls_clean)\n",
    "    attr_type = ls_clean[attr].dtype\n",
    "    missing_values = ls_clean[attr].isnull().sum()\n",
    "    display(Markdown('**{}**: {}'.format(attr, data_dict.get(attr, \"NULL\"))))\n",
    "    print('\\tType: \\t\\t\\t{}'.format(attr_type))\n",
    "    print('\\tMissing Values: \\t{} ({:.1%})'.format(\n",
    "                    missing_values, missing_values/num_observations))    \n",
    "    \n",
    "    if attr_type == 'float64':  # numerical variables\n",
    "        print('\\tMean: \\t\\t\\t{:.2f}'.format(ls_clean[attr].mean()))\n",
    "        print('\\tRange: \\t\\t\\t({:.2f}, {:.2f})'.format(ls_clean[attr].min(), ls_clean[attr].max()))\n",
    "        plt.hist(ls_clean[attr]); plt.show()\n",
    "    \n",
    "    if attr_type == 'object':   # categorical variables\n",
    "        print('\\tNumber of Categories: \\t{}'.format(len(ls_clean.groupby(attr))))\n",
    "        print('\\tMost Common Category: \\t{}'.format(ls_clean.groupby(attr)['loan_amnt'].count().idxmax()))"
   ]
  },
  {
   "cell_type": "code",
   "execution_count": 92,
   "metadata": {},
   "outputs": [],
   "source": [
    "#FUNCTION FOR SCALING\n",
    "scaler_dict = {} # dictionary to store scalers, to be used for inverse transforms\n",
    "scaler_list = [] # list to store variables to be scaled\n",
    "def scale_attr(attr, fit_data=None, scaler=None):\n",
    "    \"\"\" Scales attribute with StandardScaler (default) or MinMaxScaler\"\"\"\n",
    "    scaler_list.append(attr)\n",
    "#     if fit_data is None:\n",
    "#         fit_data = ls_clean[[attr]]\n",
    "#     if scaler is None:\n",
    "#         scaler = StandardScaler()\n",
    "#     scaler = scaler.fit(fit_data)\n",
    "#     ls_clean[attr] = scaler.transform(ls_clean[[attr]])\n",
    "#     scaler_dict[attr] = scaler"
   ]
  },
  {
   "cell_type": "code",
   "execution_count": 93,
   "metadata": {},
   "outputs": [],
   "source": [
    "#FUNCTION FOR DUMMY CREATION\n",
    "def dummy_attr(attr):\n",
    "    \"\"\" Creates dummy variables and drops original attribute\"\"\"\n",
    "    global ls_clean\n",
    "    if attr not in list(ls_clean): return\n",
    "    prefix = 'D_' + attr\n",
    "    dummies = pd.get_dummies(ls_clean[attr], prefix=prefix)\n",
    "    ls_clean.drop([attr], axis=1, inplace=True)\n",
    "    ls_clean = pd.concat([ls_clean, dummies], axis=1)"
   ]
  },
  {
   "cell_type": "code",
   "execution_count": 94,
   "metadata": {},
   "outputs": [],
   "source": [
    "#FUNCTION FOR OUTLIER DETECTION\n",
    "ls_clean['outlier'] = 0 # this column is incremented for identified outlier instances\n",
    "def outlier_attr(attr, threshold):\n",
    "    \"\"\" Identifies outliers above threshold and updates outlier indictor\"\"\" \n",
    "    outliers = ls[attr] > threshold\n",
    "    ls_clean['outlier'] = ls_clean['outlier'] + outliers\n",
    "    return outliers"
   ]
  },
  {
   "cell_type": "markdown",
   "metadata": {},
   "source": [
    "## 1. Inconsequential Variable Removal (20 Variables)"
   ]
  },
  {
   "cell_type": "markdown",
   "metadata": {},
   "source": [
    "First, we drop non-existant, empty, constant or otherwise unmeaningful variables:"
   ]
  },
  {
   "cell_type": "code",
   "execution_count": 95,
   "metadata": {},
   "outputs": [],
   "source": [
    "#DROP INCONSEQUENTIAL VARIABLES\n",
    "drop = ['dataset', # just indicates the dataset\n",
    "        'desc', # non-standard text description\n",
    "        'disbursement_method', # just indicates cash or direct_pay\n",
    "        'emp_title', # non-standard text description\n",
    "        'funded_amnt', # redundant with loan_amount\n",
    "        'funded_amnt_inv', # redundant with loan_amount\n",
    "        'grade', # redundant when using sub_grade\n",
    "        'initial_list_status', # possible values are w or f\n",
    "        'title', # non-standard text description\n",
    "        'zip_code'] # we could make it a dummy, but there would be 954 of them\n",
    "ls_clean.drop(drop, axis=1, inplace=True)"
   ]
  },
  {
   "cell_type": "markdown",
   "metadata": {},
   "source": [
    "Second, we remove the loan instances that are not term-complete:"
   ]
  },
  {
   "cell_type": "code",
   "execution_count": 96,
   "metadata": {},
   "outputs": [],
   "source": [
    "#DROP TERM INCOMPLETE LOANS\n",
    "completed_36 = (ls['issue_d'] < '2015-04-01') & (ls['term']  == ' 36 months')\n",
    "completed_60 = (ls['issue_d'] < '2013-04-01') & (ls['term']  == ' 60 months')\n",
    "ls_clean = ls_clean[completed_36 | completed_60]"
   ]
  },
  {
   "cell_type": "markdown",
   "metadata": {},
   "source": [
    "## 2. Independent Variable Preprocessing (93 Variables)\n",
    "\n",
    "We perform type conversions, outlier identification, scaling and dummy creation for each of the independent variables:"
   ]
  },
  {
   "cell_type": "markdown",
   "metadata": {},
   "source": [
    "### 2A. Loan Characteristics"
   ]
  },
  {
   "cell_type": "code",
   "execution_count": 97,
   "metadata": {
    "hide": true
   },
   "outputs": [
    {
     "data": {
      "text/markdown": [
       "**installment**: The monthly payment owed by the borrower if the loan originates."
      ],
      "text/plain": [
       "<IPython.core.display.Markdown object>"
      ]
     },
     "metadata": {},
     "output_type": "display_data"
    },
    {
     "name": "stdout",
     "output_type": "stream",
     "text": [
      "\tType: \t\t\tfloat64\n",
      "\tMissing Values: \t0 (0.0%)\n",
      "\tMean: \t\t\t414.03\n",
      "\tRange: \t\t\t(14.01, 1409.99)\n"
     ]
    },
    {
     "data": {
      "image/png": "[encoded data removed]",
      "text/plain": [
       "<Figure size 720x144 with 1 Axes>"
      ]
     },
     "metadata": {},
     "output_type": "display_data"
    }
   ],
   "source": [
    "#INSTALLMENT\n",
    "X = 'installment'\n",
    "EDA_attr(X)\n",
    "scale_attr(X)"
   ]
  },
  {
   "cell_type": "code",
   "execution_count": 98,
   "metadata": {
    "hide": true
   },
   "outputs": [
    {
     "data": {
      "text/markdown": [
       "**int_rate**: Interest Rate on the loan"
      ],
      "text/plain": [
       "<IPython.core.display.Markdown object>"
      ]
     },
     "metadata": {},
     "output_type": "display_data"
    },
    {
     "name": "stdout",
     "output_type": "stream",
     "text": [
      "\tType: \t\t\tfloat64\n",
      "\tMissing Values: \t0 (0.0%)\n",
      "\tMean: \t\t\t12.74\n",
      "\tRange: \t\t\t(5.42, 26.06)\n"
     ]
    },
    {
     "data": {
      "image/png": "[encoded data removed]",
      "text/plain": [
       "<Figure size 720x144 with 1 Axes>"
      ]
     },
     "metadata": {},
     "output_type": "display_data"
    }
   ],
   "source": [
    "#INT_RATE\n",
    "X = 'int_rate'\n",
    "ls_clean[X] = ls[X].str[:-1].astype(np.float)\n",
    "EDA_attr(X)\n",
    "scale_attr(X)"
   ]
  },
  {
   "cell_type": "code",
   "execution_count": 99,
   "metadata": {
    "hide": true,
    "scrolled": true
   },
   "outputs": [
    {
     "data": {
      "text/markdown": [
       "**loan_amnt**: The listed amount of the loan applied for by the borrower. If at some point in time, the credit department reduces the loan amount, then it will be reflected in this value."
      ],
      "text/plain": [
       "<IPython.core.display.Markdown object>"
      ]
     },
     "metadata": {},
     "output_type": "display_data"
    },
    {
     "name": "stdout",
     "output_type": "stream",
     "text": [
      "\tType: \t\t\tfloat64\n",
      "\tMissing Values: \t0 (0.0%)\n",
      "\tMean: \t\t\t12718.50\n",
      "\tRange: \t\t\t(500.00, 35000.00)\n"
     ]
    },
    {
     "data": {
      "image/png": "[encoded data removed]",
      "text/plain": [
       "<Figure size 720x144 with 1 Axes>"
      ]
     },
     "metadata": {},
     "output_type": "display_data"
    }
   ],
   "source": [
    "#LOAN_AMNT\n",
    "X = 'loan_amnt'\n",
    "scale_attr(X)\n",
    "EDA_attr(X)"
   ]
  },
  {
   "cell_type": "code",
   "execution_count": 100,
   "metadata": {
    "hide": false,
    "scrolled": false
   },
   "outputs": [
    {
     "data": {
      "text/markdown": [
       "**purpose**: A category provided by the borrower for the loan request. "
      ],
      "text/plain": [
       "<IPython.core.display.Markdown object>"
      ]
     },
     "metadata": {},
     "output_type": "display_data"
    },
    {
     "name": "stdout",
     "output_type": "stream",
     "text": [
      "\tType: \t\t\tobject\n",
      "\tMissing Values: \t0 (0.0%)\n",
      "\tNumber of Categories: \t14\n",
      "\tMost Common Category: \tdebt_consolidation\n"
     ]
    }
   ],
   "source": [
    "#PURPOSE\n",
    "X = 'purpose'\n",
    "EDA_attr(X)\n",
    "dummy_attr(X)"
   ]
  },
  {
   "cell_type": "code",
   "execution_count": 101,
   "metadata": {
    "hide": true
   },
   "outputs": [
    {
     "data": {
      "text/markdown": [
       "**sub_grade**: LC assigned loan subgrade"
      ],
      "text/plain": [
       "<IPython.core.display.Markdown object>"
      ]
     },
     "metadata": {},
     "output_type": "display_data"
    },
    {
     "name": "stdout",
     "output_type": "stream",
     "text": [
      "\tType: \t\t\tfloat64\n",
      "\tMissing Values: \t0 (0.0%)\n",
      "\tMean: \t\t\t10.59\n",
      "\tRange: \t\t\t(1.00, 35.00)\n"
     ]
    },
    {
     "data": {
      "image/png": "[encoded data removed]",
      "text/plain": [
       "<Figure size 720x144 with 1 Axes>"
      ]
     },
     "metadata": {},
     "output_type": "display_data"
    }
   ],
   "source": [
    "#SUB_GRADE\n",
    "X = 'sub_grade'\n",
    "mapping = {'A':0, 'B':1, 'C':2, 'D':3, 'E':4, 'F':5, 'G':6}\n",
    "ls_clean[X] = (ls[X].apply(lambda x: x[0]).map(mapping).astype(int)*5 +\n",
    "               ls[X].apply(lambda x: x[1]).astype(int)).astype(float)\n",
    "EDA_attr(X)\n",
    "scale_attr(X)"
   ]
  },
  {
   "cell_type": "code",
   "execution_count": 102,
   "metadata": {
    "hide": true
   },
   "outputs": [
    {
     "data": {
      "text/markdown": [
       "**term**: The number of payments on the loan. Values are in months and can be either 36 or 60."
      ],
      "text/plain": [
       "<IPython.core.display.Markdown object>"
      ]
     },
     "metadata": {},
     "output_type": "display_data"
    },
    {
     "name": "stdout",
     "output_type": "stream",
     "text": [
      "\tType: \t\t\tobject\n",
      "\tMissing Values: \t0 (0.0%)\n",
      "\tNumber of Categories: \t2\n",
      "\tMost Common Category: \t 36 months\n"
     ]
    }
   ],
   "source": [
    "#TERM\n",
    "X = 'term'\n",
    "EDA_attr(X)\n",
    "dummy_attr(X)"
   ]
  },
  {
   "cell_type": "code",
   "execution_count": 103,
   "metadata": {
    "hide": true
   },
   "outputs": [
    {
     "data": {
      "text/markdown": [
       "**verification_status**: Indicates if income was verified by LC, not verified, or if the income source was verified"
      ],
      "text/plain": [
       "<IPython.core.display.Markdown object>"
      ]
     },
     "metadata": {},
     "output_type": "display_data"
    },
    {
     "name": "stdout",
     "output_type": "stream",
     "text": [
      "\tType: \t\t\tobject\n",
      "\tMissing Values: \t0 (0.0%)\n",
      "\tNumber of Categories: \t3\n",
      "\tMost Common Category: \tNot Verified\n"
     ]
    }
   ],
   "source": [
    "#VERIFICATION_STATUS\n",
    "X = 'verification_status'\n",
    "EDA_attr(X)\n",
    "dummy_attr(X)"
   ]
  },
  {
   "cell_type": "markdown",
   "metadata": {},
   "source": [
    "### 2B. Borrower Demographics"
   ]
  },
  {
   "cell_type": "code",
   "execution_count": 104,
   "metadata": {
    "hide": true
   },
   "outputs": [
    {
     "data": {
      "text/markdown": [
       "**addr_state**: The state provided by the borrower in the loan application"
      ],
      "text/plain": [
       "<IPython.core.display.Markdown object>"
      ]
     },
     "metadata": {},
     "output_type": "display_data"
    },
    {
     "name": "stdout",
     "output_type": "stream",
     "text": [
      "\tType: \t\t\tobject\n",
      "\tMissing Values: \t0 (0.0%)\n",
      "\tNumber of Categories: \t50\n",
      "\tMost Common Category: \tCA\n"
     ]
    }
   ],
   "source": [
    "#ADDR_STATE\n",
    "X = 'addr_state'\n",
    "EDA_attr(X)\n",
    "dummy_attr(X)"
   ]
  },
  {
   "cell_type": "code",
   "execution_count": 105,
   "metadata": {
    "hide": true
   },
   "outputs": [
    {
     "data": {
      "text/markdown": [
       "**annual_inc**: The self-reported annual income provided by the borrower during registration."
      ],
      "text/plain": [
       "<IPython.core.display.Markdown object>"
      ]
     },
     "metadata": {},
     "output_type": "display_data"
    },
    {
     "name": "stdout",
     "output_type": "stream",
     "text": [
      "\tType: \t\t\tfloat64\n",
      "\tMissing Values: \t4 (0.0%)\n",
      "\tMean: \t\t\t71625.96\n",
      "\tRange: \t\t\t(1896.00, 8706582.00)\n"
     ]
    },
    {
     "data": {
      "image/png": "[encoded data removed]",
      "text/plain": [
       "<Figure size 720x144 with 1 Axes>"
      ]
     },
     "metadata": {},
     "output_type": "display_data"
    }
   ],
   "source": [
    "#ANNUAL_INC\n",
    "X = 'annual_inc'\n",
    "EDA_attr(X)\n",
    "outliers = outlier_attr(X, 10000000)\n",
    "scale_attr(X,fit_data=ls_clean[~outliers][[X]])"
   ]
  },
  {
   "cell_type": "code",
   "execution_count": 106,
   "metadata": {
    "hide": true
   },
   "outputs": [
    {
     "data": {
      "text/markdown": [
       "**emp_length**: Employment length in years. Possible values are between 0 and 10 where 0 means less than one year and 10 means ten or more years. "
      ],
      "text/plain": [
       "<IPython.core.display.Markdown object>"
      ]
     },
     "metadata": {},
     "output_type": "display_data"
    },
    {
     "name": "stdout",
     "output_type": "stream",
     "text": [
      "\tType: \t\t\tfloat64\n",
      "\tMissing Values: \t21519 (5.1%)\n",
      "\tMean: \t\t\t5.84\n",
      "\tRange: \t\t\t(0.00, 10.00)\n"
     ]
    },
    {
     "data": {
      "image/png": "[encoded data removed]",
      "text/plain": [
       "<Figure size 720x144 with 1 Axes>"
      ]
     },
     "metadata": {},
     "output_type": "display_data"
    }
   ],
   "source": [
    "#EMP_LENGTH\n",
    "X = 'emp_length'\n",
    "mapping = {'1 year': 1, '10+ years': 10, '2 years': 2, '3 years': 3, \n",
    "           '4 years': 4, '5 years': 5, '6 years': 6, '7 years': 7, \n",
    "           '8 years': 8, '9 years': 9, '< 1 year': 0}\n",
    "ls_clean[X] = ls[X].map(mapping)\n",
    "EDA_attr(X)\n",
    "scale_attr(X)"
   ]
  },
  {
   "cell_type": "code",
   "execution_count": 107,
   "metadata": {
    "hide": true
   },
   "outputs": [
    {
     "data": {
      "text/markdown": [
       "**home_ownership**: The home ownership status provided by the borrower during registration or obtained from the credit report. Our values are: RENT, OWN, MORTGAGE, OTHER"
      ],
      "text/plain": [
       "<IPython.core.display.Markdown object>"
      ]
     },
     "metadata": {},
     "output_type": "display_data"
    },
    {
     "name": "stdout",
     "output_type": "stream",
     "text": [
      "\tType: \t\t\tobject\n",
      "\tMissing Values: \t0 (0.0%)\n",
      "\tNumber of Categories: \t4\n",
      "\tMost Common Category: \tMORTGAGE\n"
     ]
    }
   ],
   "source": [
    "#HOME_OWNERSHIP\n",
    "X = 'home_ownership'\n",
    "ls_clean[X] = ls_clean[X].replace({'ANY':'OTHER', 'NONE':'OTHER'})\n",
    "EDA_attr(X)\n",
    "dummy_attr(X)"
   ]
  },
  {
   "cell_type": "markdown",
   "metadata": {},
   "source": [
    "### 2C. Credit History Information\n",
    "`acc_now_delinq`, `acc_open_past_24mths`, `all_util`,\n",
    "- `avg_cur_bal`: scaling\n",
    "- `bc_open_to_buy`: scaling\n",
    "- `bc_util`: scaling\n",
    "- `chargeoff_within_12_mths`: scaling\n",
    "- `collections_12_mths_ex_med`: outliers, scaling\n",
    "- `delinq_2yrs`: scaling\n",
    "- `delinq_amnt`: standard scaling\n",
    "- `dti`: mapping, scaling\n",
    "- `earliest_cr_line`: mapping, scaling\n",
    "- `il_util`: scaling\n",
    "- `inq_fi`: scaling\n",
    "- `inq_last_12m`: scaling\n",
    "- `inq_last_6mths`: scaling\n",
    "- `max_bal_bc`: scaling\n",
    "- `mo_sin_old_il_acct`: scaling\n",
    "- `mo_sin_old_rev_tl_op`: scaling\n",
    "- `mo_sin_rcnt_rev_tl_op`: scaling\n",
    "- `mo_sin_rcnt_tl`: scaling\n",
    "- `mort_acc`: scaling\n",
    "- `mths_since_last_delinq`: scaling\n",
    "- `mths_since_last_major_derog`: scaling\n",
    "- `mths_since_last_record`: scaling\n",
    "- `mths_since_rcnt_il`: scaling\n",
    "- `mths_since_recent_bc`: scaling\n",
    "- `mths_since_recent_bc_dlq`: scaling\n",
    "- `mths_since_recent_inq`: scaling\n",
    "- `mths_since_recent_revol_delinq`: scaling\n",
    "- `num_accts_ever_120_pd`: scaling\n",
    "- `num_actv_bc_tl`: scaling\n",
    "- `num_actv_rev_tl`: scaling\n",
    "- `num_bc_sats`: scaling\n",
    "- `num_bc_tl`: scaling\n",
    "- `num_il_tl`: scaling\n",
    "- `num_op_rev_tl`: scaling\n",
    "- `num_rev_accts`: scaling\n",
    "- `num_rev_tl_bal_gt_0`: scaling\n",
    "- `num_sats`: scaling\n",
    "- `num_tl_120dpd_2m`: scaling\n",
    "- `num_tl_30dpd`: scaling\n",
    "- `num_tl_90g_dpd_24m`: scaling\n",
    "- `num_tl_op_past_12m`: scaling\n",
    "- `open_acc`: scaling\n",
    "- `open_acc_6m`: scaling\n",
    "- `open_act_il`: scaling\n",
    "- `open_il_12m`: scaling\n",
    "- `open_il_24m`: scaling\n",
    "- `open_rv_12m`: scaling\n",
    "- `open_rv_24m`: scaling\n",
    "- `pct_tl_nvr_dlq`: scaling\n",
    "- `percent_bc_gt_75`: scaling\n",
    "- `pub_rec`: scaling\n",
    "- `pub_rec_bankruptcies`: scaling\n",
    "- `revol_bal`: scaling\n",
    "- `revol_util`: mapping, scaling\n",
    "- `tax_liens`: scaling\n",
    "- `tot_coll_amt`: scaling\n",
    "- `tot_cur_bal`: scaling\n",
    "- `tot_hi_cred_lim`: scaling\n",
    "- `total_acc`: scaling\n",
    "- `total_bal_ex_mort`: scaling\n",
    "- `total_bal_il`: scaling\n",
    "- `total_bc_limit`: scaling\n",
    "- `total_cu_tl`: scaling\n",
    "- `total_il_high_credit_limit`: scaling\n",
    "- `total_rev_hi_lim`: scaling"
   ]
  },
  {
   "cell_type": "code",
   "execution_count": 22,
   "metadata": {},
   "outputs": [
    {
     "data": {
      "text/markdown": [
       "**acc_now_delinq**: The number of accounts on which the borrower is now delinquent."
      ],
      "text/plain": [
       "<IPython.core.display.Markdown object>"
      ]
     },
     "metadata": {},
     "output_type": "display_data"
    },
    {
     "name": "stdout",
     "output_type": "stream",
     "text": [
      "\tType: \t\t\tfloat64\n",
      "\tMissing Values: \t29 (0.0%)\n",
      "\tMean: \t\t\t0.00\n",
      "\tRange: \t\t\t(0.00, 14.00)\n"
     ]
    },
    {
     "data": {
      "image/png": "[encoded data removed]",
      "text/plain": [
       "<Figure size 432x288 with 1 Axes>"
      ]
     },
     "metadata": {},
     "output_type": "display_data"
    }
   ],
   "source": [
    "# ACC_NOW_DELINQ\n",
    "X = 'acc_now_delinq'\n",
    "EDA_attr(X)\n",
    "outliers = outlier_attr(X, 7)\n"
   ]
  },
  {
   "cell_type": "code",
   "execution_count": 23,
   "metadata": {
    "scrolled": true
   },
   "outputs": [
    {
     "data": {
      "text/markdown": [
       "**acc_open_past_24mths**: Number of trades opened in past 24 months."
      ],
      "text/plain": [
       "<IPython.core.display.Markdown object>"
      ]
     },
     "metadata": {},
     "output_type": "display_data"
    },
    {
     "name": "stdout",
     "output_type": "stream",
     "text": [
      "\tType: \t\t\tfloat64\n",
      "\tMissing Values: \t50030 (11.9%)\n",
      "\tMean: \t\t\t4.19\n",
      "\tRange: \t\t\t(0.00, 53.00)\n"
     ]
    },
    {
     "data": {
      "image/png": "[encoded data removed]",
      "text/plain": [
       "<Figure size 432x288 with 1 Axes>"
      ]
     },
     "metadata": {},
     "output_type": "display_data"
    }
   ],
   "source": [
    "# ACC_OPEN_PAST_24MTHS\n",
    "X = 'acc_open_past_24mths'\n",
    "EDA_attr(X)\n",
    "scale_attr(X)"
   ]
  },
  {
   "cell_type": "code",
   "execution_count": 24,
   "metadata": {},
   "outputs": [
    {
     "data": {
      "text/markdown": [
       "**all_util**: Balance to credit limit on all trades"
      ],
      "text/plain": [
       "<IPython.core.display.Markdown object>"
      ]
     },
     "metadata": {},
     "output_type": "display_data"
    },
    {
     "name": "stdout",
     "output_type": "stream",
     "text": [
      "\tType: \t\t\tfloat64\n",
      "\tMissing Values: \t420181 (100.0%)\n",
      "\tMean: \t\t\tnan\n",
      "\tRange: \t\t\t(nan, nan)\n"
     ]
    },
    {
     "ename": "ValueError",
     "evalue": "max must be larger than min in range parameter.",
     "output_type": "error",
     "traceback": [
      "\u001b[0;31m---------------------------------------------------------------------------\u001b[0m",
      "\u001b[0;31mValueError\u001b[0m                                Traceback (most recent call last)",
      "\u001b[0;32m<ipython-input-24-b7981050f85b>\u001b[0m in \u001b[0;36m<module>\u001b[0;34m()\u001b[0m\n\u001b[1;32m      1\u001b[0m \u001b[0;31m# ALL_UTIL\u001b[0m\u001b[0;34m\u001b[0m\u001b[0;34m\u001b[0m\u001b[0m\n\u001b[1;32m      2\u001b[0m \u001b[0mX\u001b[0m \u001b[0;34m=\u001b[0m \u001b[0;34m'all_util'\u001b[0m\u001b[0;34m\u001b[0m\u001b[0m\n\u001b[0;32m----> 3\u001b[0;31m \u001b[0mEDA_attr\u001b[0m\u001b[0;34m(\u001b[0m\u001b[0mX\u001b[0m\u001b[0;34m)\u001b[0m\u001b[0;34m\u001b[0m\u001b[0m\n\u001b[0m\u001b[1;32m      4\u001b[0m \u001b[0mscale_attr\u001b[0m\u001b[0;34m(\u001b[0m\u001b[0mX\u001b[0m\u001b[0;34m)\u001b[0m\u001b[0;34m\u001b[0m\u001b[0m\n",
      "\u001b[0;32m<ipython-input-5-01117813923a>\u001b[0m in \u001b[0;36mEDA_attr\u001b[0;34m(attr)\u001b[0m\n\u001b[1;32m     13\u001b[0m         \u001b[0mprint\u001b[0m\u001b[0;34m(\u001b[0m\u001b[0;34m'\\tMean: \\t\\t\\t{:.2f}'\u001b[0m\u001b[0;34m.\u001b[0m\u001b[0mformat\u001b[0m\u001b[0;34m(\u001b[0m\u001b[0mls_clean\u001b[0m\u001b[0;34m[\u001b[0m\u001b[0mattr\u001b[0m\u001b[0;34m]\u001b[0m\u001b[0;34m.\u001b[0m\u001b[0mmean\u001b[0m\u001b[0;34m(\u001b[0m\u001b[0;34m)\u001b[0m\u001b[0;34m)\u001b[0m\u001b[0;34m)\u001b[0m\u001b[0;34m\u001b[0m\u001b[0m\n\u001b[1;32m     14\u001b[0m         \u001b[0mprint\u001b[0m\u001b[0;34m(\u001b[0m\u001b[0;34m'\\tRange: \\t\\t\\t({:.2f}, {:.2f})'\u001b[0m\u001b[0;34m.\u001b[0m\u001b[0mformat\u001b[0m\u001b[0;34m(\u001b[0m\u001b[0mls_clean\u001b[0m\u001b[0;34m[\u001b[0m\u001b[0mattr\u001b[0m\u001b[0;34m]\u001b[0m\u001b[0;34m.\u001b[0m\u001b[0mmin\u001b[0m\u001b[0;34m(\u001b[0m\u001b[0;34m)\u001b[0m\u001b[0;34m,\u001b[0m \u001b[0mls_clean\u001b[0m\u001b[0;34m[\u001b[0m\u001b[0mattr\u001b[0m\u001b[0;34m]\u001b[0m\u001b[0;34m.\u001b[0m\u001b[0mmax\u001b[0m\u001b[0;34m(\u001b[0m\u001b[0;34m)\u001b[0m\u001b[0;34m)\u001b[0m\u001b[0;34m)\u001b[0m\u001b[0;34m\u001b[0m\u001b[0m\n\u001b[0;32m---> 15\u001b[0;31m         \u001b[0mplt\u001b[0m\u001b[0;34m.\u001b[0m\u001b[0mhist\u001b[0m\u001b[0;34m(\u001b[0m\u001b[0mls_clean\u001b[0m\u001b[0;34m[\u001b[0m\u001b[0mattr\u001b[0m\u001b[0;34m]\u001b[0m\u001b[0;34m)\u001b[0m\u001b[0;34m;\u001b[0m \u001b[0mplt\u001b[0m\u001b[0;34m.\u001b[0m\u001b[0mshow\u001b[0m\u001b[0;34m(\u001b[0m\u001b[0;34m)\u001b[0m\u001b[0;34m\u001b[0m\u001b[0m\n\u001b[0m\u001b[1;32m     16\u001b[0m \u001b[0;34m\u001b[0m\u001b[0m\n\u001b[1;32m     17\u001b[0m     \u001b[0;32mif\u001b[0m \u001b[0mattr_type\u001b[0m \u001b[0;34m==\u001b[0m \u001b[0;34m'object'\u001b[0m\u001b[0;34m:\u001b[0m   \u001b[0;31m# categorical variables\u001b[0m\u001b[0;34m\u001b[0m\u001b[0m\n",
      "\u001b[0;32m~/anaconda3/lib/python3.6/site-packages/matplotlib/pyplot.py\u001b[0m in \u001b[0;36mhist\u001b[0;34m(x, bins, range, density, weights, cumulative, bottom, histtype, align, orientation, rwidth, log, color, label, stacked, normed, data, **kwargs)\u001b[0m\n\u001b[1;32m   2617\u001b[0m         \u001b[0malign\u001b[0m\u001b[0;34m=\u001b[0m\u001b[0malign\u001b[0m\u001b[0;34m,\u001b[0m \u001b[0morientation\u001b[0m\u001b[0;34m=\u001b[0m\u001b[0morientation\u001b[0m\u001b[0;34m,\u001b[0m \u001b[0mrwidth\u001b[0m\u001b[0;34m=\u001b[0m\u001b[0mrwidth\u001b[0m\u001b[0;34m,\u001b[0m \u001b[0mlog\u001b[0m\u001b[0;34m=\u001b[0m\u001b[0mlog\u001b[0m\u001b[0;34m,\u001b[0m\u001b[0;34m\u001b[0m\u001b[0m\n\u001b[1;32m   2618\u001b[0m         \u001b[0mcolor\u001b[0m\u001b[0;34m=\u001b[0m\u001b[0mcolor\u001b[0m\u001b[0;34m,\u001b[0m \u001b[0mlabel\u001b[0m\u001b[0;34m=\u001b[0m\u001b[0mlabel\u001b[0m\u001b[0;34m,\u001b[0m \u001b[0mstacked\u001b[0m\u001b[0;34m=\u001b[0m\u001b[0mstacked\u001b[0m\u001b[0;34m,\u001b[0m \u001b[0mnormed\u001b[0m\u001b[0;34m=\u001b[0m\u001b[0mnormed\u001b[0m\u001b[0;34m,\u001b[0m\u001b[0;34m\u001b[0m\u001b[0m\n\u001b[0;32m-> 2619\u001b[0;31m         data=data, **kwargs)\n\u001b[0m\u001b[1;32m   2620\u001b[0m \u001b[0;34m\u001b[0m\u001b[0m\n\u001b[1;32m   2621\u001b[0m \u001b[0;31m# Autogenerated by boilerplate.py.  Do not edit as changes will be lost.\u001b[0m\u001b[0;34m\u001b[0m\u001b[0;34m\u001b[0m\u001b[0m\n",
      "\u001b[0;32m~/anaconda3/lib/python3.6/site-packages/matplotlib/__init__.py\u001b[0m in \u001b[0;36minner\u001b[0;34m(ax, data, *args, **kwargs)\u001b[0m\n\u001b[1;32m   1783\u001b[0m                         \u001b[0;34m\"the Matplotlib list!)\"\u001b[0m \u001b[0;34m%\u001b[0m \u001b[0;34m(\u001b[0m\u001b[0mlabel_namer\u001b[0m\u001b[0;34m,\u001b[0m \u001b[0mfunc\u001b[0m\u001b[0;34m.\u001b[0m\u001b[0m__name__\u001b[0m\u001b[0;34m)\u001b[0m\u001b[0;34m,\u001b[0m\u001b[0;34m\u001b[0m\u001b[0m\n\u001b[1;32m   1784\u001b[0m                         RuntimeWarning, stacklevel=2)\n\u001b[0;32m-> 1785\u001b[0;31m             \u001b[0;32mreturn\u001b[0m \u001b[0mfunc\u001b[0m\u001b[0;34m(\u001b[0m\u001b[0max\u001b[0m\u001b[0;34m,\u001b[0m \u001b[0;34m*\u001b[0m\u001b[0margs\u001b[0m\u001b[0;34m,\u001b[0m \u001b[0;34m**\u001b[0m\u001b[0mkwargs\u001b[0m\u001b[0;34m)\u001b[0m\u001b[0;34m\u001b[0m\u001b[0m\n\u001b[0m\u001b[1;32m   1786\u001b[0m \u001b[0;34m\u001b[0m\u001b[0m\n\u001b[1;32m   1787\u001b[0m         inner.__doc__ = _add_data_doc(inner.__doc__,\n",
      "\u001b[0;32m~/anaconda3/lib/python3.6/site-packages/matplotlib/axes/_axes.py\u001b[0m in \u001b[0;36mhist\u001b[0;34m(self, x, bins, range, density, weights, cumulative, bottom, histtype, align, orientation, rwidth, log, color, label, stacked, normed, **kwargs)\u001b[0m\n\u001b[1;32m   6567\u001b[0m             \u001b[0;31m# this will automatically overwrite bins,\u001b[0m\u001b[0;34m\u001b[0m\u001b[0;34m\u001b[0m\u001b[0m\n\u001b[1;32m   6568\u001b[0m             \u001b[0;31m# so that each histogram uses the same bins\u001b[0m\u001b[0;34m\u001b[0m\u001b[0;34m\u001b[0m\u001b[0m\n\u001b[0;32m-> 6569\u001b[0;31m             \u001b[0mm\u001b[0m\u001b[0;34m,\u001b[0m \u001b[0mbins\u001b[0m \u001b[0;34m=\u001b[0m \u001b[0mnp\u001b[0m\u001b[0;34m.\u001b[0m\u001b[0mhistogram\u001b[0m\u001b[0;34m(\u001b[0m\u001b[0mx\u001b[0m\u001b[0;34m[\u001b[0m\u001b[0mi\u001b[0m\u001b[0;34m]\u001b[0m\u001b[0;34m,\u001b[0m \u001b[0mbins\u001b[0m\u001b[0;34m,\u001b[0m \u001b[0mweights\u001b[0m\u001b[0;34m=\u001b[0m\u001b[0mw\u001b[0m\u001b[0;34m[\u001b[0m\u001b[0mi\u001b[0m\u001b[0;34m]\u001b[0m\u001b[0;34m,\u001b[0m \u001b[0;34m**\u001b[0m\u001b[0mhist_kwargs\u001b[0m\u001b[0;34m)\u001b[0m\u001b[0;34m\u001b[0m\u001b[0m\n\u001b[0m\u001b[1;32m   6570\u001b[0m             \u001b[0mm\u001b[0m \u001b[0;34m=\u001b[0m \u001b[0mm\u001b[0m\u001b[0;34m.\u001b[0m\u001b[0mastype\u001b[0m\u001b[0;34m(\u001b[0m\u001b[0mfloat\u001b[0m\u001b[0;34m)\u001b[0m  \u001b[0;31m# causes problems later if it's an int\u001b[0m\u001b[0;34m\u001b[0m\u001b[0m\n\u001b[1;32m   6571\u001b[0m             \u001b[0;32mif\u001b[0m \u001b[0mmlast\u001b[0m \u001b[0;32mis\u001b[0m \u001b[0;32mNone\u001b[0m\u001b[0;34m:\u001b[0m\u001b[0;34m\u001b[0m\u001b[0m\n",
      "\u001b[0;32m~/anaconda3/lib/python3.6/site-packages/numpy/lib/function_base.py\u001b[0m in \u001b[0;36mhistogram\u001b[0;34m(a, bins, range, normed, weights, density)\u001b[0m\n\u001b[1;32m    665\u001b[0m     \u001b[0;32mif\u001b[0m \u001b[0mfirst_edge\u001b[0m \u001b[0;34m>\u001b[0m \u001b[0mlast_edge\u001b[0m\u001b[0;34m:\u001b[0m\u001b[0;34m\u001b[0m\u001b[0m\n\u001b[1;32m    666\u001b[0m         raise ValueError(\n\u001b[0;32m--> 667\u001b[0;31m             'max must be larger than min in range parameter.')\n\u001b[0m\u001b[1;32m    668\u001b[0m     \u001b[0;32mif\u001b[0m \u001b[0;32mnot\u001b[0m \u001b[0mnp\u001b[0m\u001b[0;34m.\u001b[0m\u001b[0mall\u001b[0m\u001b[0;34m(\u001b[0m\u001b[0mnp\u001b[0m\u001b[0;34m.\u001b[0m\u001b[0misfinite\u001b[0m\u001b[0;34m(\u001b[0m\u001b[0;34m[\u001b[0m\u001b[0mfirst_edge\u001b[0m\u001b[0;34m,\u001b[0m \u001b[0mlast_edge\u001b[0m\u001b[0;34m]\u001b[0m\u001b[0;34m)\u001b[0m\u001b[0;34m)\u001b[0m\u001b[0;34m:\u001b[0m\u001b[0;34m\u001b[0m\u001b[0m\n\u001b[1;32m    669\u001b[0m         raise ValueError(\n",
      "\u001b[0;31mValueError\u001b[0m: max must be larger than min in range parameter."
     ]
    },
    {
     "data": {
      "image/png": "[encoded data removed]",
      "text/plain": [
       "<Figure size 432x288 with 1 Axes>"
      ]
     },
     "metadata": {},
     "output_type": "display_data"
    }
   ],
   "source": [
    "# ALL_UTIL\n",
    "X = 'all_util'\n",
    "EDA_attr(X)\n",
    "scale_attr(X)"
   ]
  },
  {
   "cell_type": "code",
   "execution_count": null,
   "metadata": {},
   "outputs": [],
   "source": [
    "# AVG_CUR_BAL\n",
    "X = 'avg_cur_bal'\n",
    "EDA_attr(X)\n",
    "scale_attr(X)"
   ]
  },
  {
   "cell_type": "code",
   "execution_count": null,
   "metadata": {},
   "outputs": [],
   "source": [
    "# BC_OPEN_TO_BUY\n",
    "X = 'bc_open_to_buy'\n",
    "EDA_attr(X)\n",
    "scale_attr(X)"
   ]
  },
  {
   "cell_type": "code",
   "execution_count": null,
   "metadata": {},
   "outputs": [],
   "source": [
    "# BC_UTIL: scaling\n",
    "X = 'bc_util'\n",
    "EDA_attr(X)\n",
    "scale_attr(X)"
   ]
  },
  {
   "cell_type": "code",
   "execution_count": null,
   "metadata": {},
   "outputs": [],
   "source": [
    "# CHARGEOFF_WITHIN_12_MTHS\n",
    "X = 'chargeoff_within_12_mths'\n",
    "EDA_attr(X)\n",
    "scale_attr(X)"
   ]
  },
  {
   "cell_type": "code",
   "execution_count": null,
   "metadata": {},
   "outputs": [],
   "source": [
    "# COLLECTIONS_12_MTHS_EX_MED\n",
    "X = 'collections_12_mths_ex_med'\n",
    "EDA_attr(X)\n",
    "outliers = outlier_attr(X, 12)\n",
    "scale_attr(X,fit_data=ls_clean[~outliers][[X]])"
   ]
  },
  {
   "cell_type": "code",
   "execution_count": null,
   "metadata": {},
   "outputs": [],
   "source": [
    "# DELINQ_2YRS\n",
    "X = 'delinq_2yrs'\n",
    "EDA_attr(X)\n",
    "scale_attr(X)"
   ]
  },
  {
   "cell_type": "code",
   "execution_count": null,
   "metadata": {},
   "outputs": [],
   "source": [
    "# DELINQ_AMNT\n",
    "X = 'delinq_amnt'\n",
    "EDA_attr(X)\n",
    "scale_attr(X)"
   ]
  },
  {
   "cell_type": "code",
   "execution_count": null,
   "metadata": {},
   "outputs": [],
   "source": [
    "# DTI\n",
    "X = 'dti'\n",
    "EDA_attr(X)\n",
    "ls_clean[ls[X]==-1] = np.NaN\n",
    "scale_attr(X)"
   ]
  },
  {
   "cell_type": "code",
   "execution_count": null,
   "metadata": {},
   "outputs": [],
   "source": [
    "# EARLIEST_CR_LINE\n",
    "X = 'earliest_cr_line'\n",
    "EDA_attr(X)\n",
    "\n",
    "ls_clean[X] =  np.array((ls['issue_d'] - ls[X]).dt.days).reshape(-1,1)\n",
    "\n",
    "scale_attr(X)"
   ]
  },
  {
   "cell_type": "code",
   "execution_count": null,
   "metadata": {},
   "outputs": [],
   "source": [
    "# IL_UTIL\n",
    "X = 'il_util'\n",
    "EDA_attr(X)\n",
    "scale_attr(X)"
   ]
  },
  {
   "cell_type": "code",
   "execution_count": null,
   "metadata": {},
   "outputs": [],
   "source": [
    "# INQ_FI\n",
    "X = 'inq_fi'\n",
    "EDA_attr(X)\n",
    "scale_attr(X)"
   ]
  },
  {
   "cell_type": "code",
   "execution_count": null,
   "metadata": {},
   "outputs": [],
   "source": [
    "# INQ_LAST_12M\n",
    "X = 'inq_last_12m'\n",
    "EDA_attr(X)\n",
    "scale_attr(X)"
   ]
  },
  {
   "cell_type": "code",
   "execution_count": null,
   "metadata": {},
   "outputs": [],
   "source": [
    "# INQ_LAST_6MTHS\n",
    "X = 'inq_last_6mths'\n",
    "EDA_attr(X)\n",
    "scale_attr(X)"
   ]
  },
  {
   "cell_type": "code",
   "execution_count": null,
   "metadata": {},
   "outputs": [],
   "source": [
    "# MAX_BAL_BC\n",
    "X = 'max_bal_bc'\n",
    "EDA_attr(X)\n",
    "scale_attr(X)"
   ]
  },
  {
   "cell_type": "code",
   "execution_count": null,
   "metadata": {},
   "outputs": [],
   "source": [
    "# MO_SIN_OLD_IL_ACCT\n",
    "X =  'mo_sin_old_il_acct'\n",
    "EDA_attr(X)\n",
    "scale_attr(X)"
   ]
  },
  {
   "cell_type": "code",
   "execution_count": null,
   "metadata": {},
   "outputs": [],
   "source": [
    "# MO_SIN_OLD_REV_TL_OP\n",
    "X =  'mo_sin_old_rev_tl_op'\n",
    "EDA_attr(X)\n",
    "scale_attr(X)"
   ]
  },
  {
   "cell_type": "code",
   "execution_count": null,
   "metadata": {},
   "outputs": [],
   "source": [
    "# MO_SIN_RCNT_REV_TL_OP\n",
    "X = 'mo_sin_rcnt_rev_tl_op'\n",
    "EDA_attr(X)\n",
    "scale_attr(X)"
   ]
  },
  {
   "cell_type": "code",
   "execution_count": null,
   "metadata": {},
   "outputs": [],
   "source": [
    "# MO_SIN_RCNT_TL\n",
    "X = 'mo_sin_rcnt_tl'\n",
    "EDA_attr(X)\n",
    "scale_attr(X)"
   ]
  },
  {
   "cell_type": "code",
   "execution_count": null,
   "metadata": {},
   "outputs": [],
   "source": [
    "# MORT_ACC\n",
    "X = 'mort_acc'\n",
    "EDA_attr(X)\n",
    "scale_attr(X)"
   ]
  },
  {
   "cell_type": "code",
   "execution_count": null,
   "metadata": {},
   "outputs": [],
   "source": [
    "# MTHS_SINCE_LAST_DELINQ\n",
    "X = 'mths_since_last_delinq'\n",
    "EDA_attr(X)\n",
    "scale_attr(X)"
   ]
  },
  {
   "cell_type": "code",
   "execution_count": null,
   "metadata": {},
   "outputs": [],
   "source": [
    "# MTHS_SINCE_LAST_MAJOR_DEROG\n",
    "X = 'mths_since_last_major_derog'\n",
    "EDA_attr(X)\n",
    "scale_attr(X)"
   ]
  },
  {
   "cell_type": "code",
   "execution_count": null,
   "metadata": {},
   "outputs": [],
   "source": [
    "# MTHS_SINCE_LAST_RECORD\n",
    "X = 'mths_since_last_record'\n",
    "EDA_attr(X)\n",
    "scale_attr(X)"
   ]
  },
  {
   "cell_type": "code",
   "execution_count": null,
   "metadata": {},
   "outputs": [],
   "source": [
    "# MTHS_SINCE_RCNT_IL\n",
    "X = 'mths_since_rcnt_il'\n",
    "EDA_attr(X)\n",
    "scale_attr(X)"
   ]
  },
  {
   "cell_type": "code",
   "execution_count": null,
   "metadata": {},
   "outputs": [],
   "source": [
    "# MTHS_SINCE_RECENT_BC\n",
    "X = 'mths_since_recent_bc'\n",
    "EDA_attr(X)\n",
    "scale_attr(X)"
   ]
  },
  {
   "cell_type": "code",
   "execution_count": null,
   "metadata": {},
   "outputs": [],
   "source": [
    "# MTHS_SINCE_RECENT_BC_DLQ\n",
    "X = 'mths_since_recent_bc_dlq'\n",
    "EDA_attr(X)\n",
    "scale_attr(X)"
   ]
  },
  {
   "cell_type": "code",
   "execution_count": null,
   "metadata": {},
   "outputs": [],
   "source": [
    "# MTHS_SINCE_RECENT_INQ\n",
    "X =  'mths_since_recent_inq'\n",
    "EDA_attr(X)\n",
    "scale_attr(X)"
   ]
  },
  {
   "cell_type": "code",
   "execution_count": null,
   "metadata": {},
   "outputs": [],
   "source": [
    "# MTHS_SINCE_RECENT_REVOL_DELINQ\n",
    "X= 'mths_since_recent_revol_delinq'\n",
    "EDA_attr(X)\n",
    "scale_attr(X)"
   ]
  },
  {
   "cell_type": "code",
   "execution_count": null,
   "metadata": {},
   "outputs": [],
   "source": [
    "# NUM_ACCTS_EVER_120_PD\n",
    "X = 'num_accts_ever_120_pd'\n",
    "EDA_attr(X)\n",
    "scale_attr(X)"
   ]
  },
  {
   "cell_type": "code",
   "execution_count": null,
   "metadata": {},
   "outputs": [],
   "source": [
    "# NUM_ACTV_BC_TL\n",
    "X = 'num_actv_bc_tl'\n",
    "EDA_attr(X)\n",
    "scale_attr(X)"
   ]
  },
  {
   "cell_type": "code",
   "execution_count": null,
   "metadata": {},
   "outputs": [],
   "source": [
    "# NUM_ACTV_REV_TL\n",
    "X = 'num_actv_rev_tl'\n",
    "EDA_attr(X)\n",
    "scale_attr(X)"
   ]
  },
  {
   "cell_type": "code",
   "execution_count": null,
   "metadata": {},
   "outputs": [],
   "source": [
    "# NUM_BC_SATS\n",
    "X = 'num_bc_sats'\n",
    "EDA_attr(X)\n",
    "scale_attr(X)"
   ]
  },
  {
   "cell_type": "code",
   "execution_count": null,
   "metadata": {},
   "outputs": [],
   "source": [
    "# NUM_BC_TL\n",
    "X =  'num_bc_tl'\n",
    "EDA_attr(X)\n",
    "scale_attr(X)"
   ]
  },
  {
   "cell_type": "code",
   "execution_count": null,
   "metadata": {},
   "outputs": [],
   "source": [
    "# NUM_IL_TL\n",
    "X = 'num_il_tl'\n",
    "EDA_attr(X)\n",
    "scale_attr(X)"
   ]
  },
  {
   "cell_type": "code",
   "execution_count": null,
   "metadata": {},
   "outputs": [],
   "source": [
    "# NUM_OP_REV_TL\n",
    "X = 'num_op_rev_tl'\n",
    "EDA_attr(X)\n",
    "scale_attr(X)"
   ]
  },
  {
   "cell_type": "code",
   "execution_count": null,
   "metadata": {},
   "outputs": [],
   "source": [
    "# NUM_REV_ACCTS\n",
    "X = 'num_rev_accts'\n",
    "EDA_attr(X)\n",
    "scale_attr(X)"
   ]
  },
  {
   "cell_type": "code",
   "execution_count": null,
   "metadata": {},
   "outputs": [],
   "source": [
    "# NUM_REV_TL_BAL_GT_0\n",
    "X = 'num_rev_tl_bal_gt_0'\n",
    "EDA_attr(X)\n",
    "scale_attr(X)"
   ]
  },
  {
   "cell_type": "code",
   "execution_count": null,
   "metadata": {},
   "outputs": [],
   "source": [
    "# NUM_SATS\n",
    "X = 'num_sats'\n",
    "EDA_attr(X)\n",
    "scale_attr(X)"
   ]
  },
  {
   "cell_type": "code",
   "execution_count": null,
   "metadata": {},
   "outputs": [],
   "source": [
    "# NUM_TL_120DPD_2M\n",
    "X = 'num_tl_120dpd_2m'\n",
    "EDA_attr(X)\n",
    "scale_attr(X)"
   ]
  },
  {
   "cell_type": "code",
   "execution_count": null,
   "metadata": {},
   "outputs": [],
   "source": [
    "# NUM_TL_30DPD\n",
    "X = 'num_tl_30dpd'\n",
    "EDA_attr(X)\n",
    "scale_attr(X)"
   ]
  },
  {
   "cell_type": "code",
   "execution_count": null,
   "metadata": {},
   "outputs": [],
   "source": [
    "# NUM_TL_90G_DPD_24M\n",
    "X = 'num_tl_90g_dpd_24m'\n",
    "EDA_attr(X)\n",
    "scale_attr(X)"
   ]
  },
  {
   "cell_type": "code",
   "execution_count": null,
   "metadata": {},
   "outputs": [],
   "source": [
    "# NUM_TL_OP_PAST_12M\n",
    "X = 'num_tl_op_past_12m'\n",
    "EDA_attr(X)\n",
    "scale_attr(X)"
   ]
  },
  {
   "cell_type": "code",
   "execution_count": null,
   "metadata": {},
   "outputs": [],
   "source": [
    "# OPEN_ACC\n",
    "X = 'open_acc'\n",
    "EDA_attr(X)\n",
    "scale_attr(X)"
   ]
  },
  {
   "cell_type": "code",
   "execution_count": null,
   "metadata": {},
   "outputs": [],
   "source": [
    "# OPEN_ACC_6M\n",
    "X = 'open_acc_6m'\n",
    "EDA_attr(X)\n",
    "scale_attr(X)"
   ]
  },
  {
   "cell_type": "code",
   "execution_count": null,
   "metadata": {},
   "outputs": [],
   "source": [
    "# OPEN_ACT_IL\n",
    "X = 'open_act_il'\n",
    "EDA_attr(X)\n",
    "scale_attr(X)"
   ]
  },
  {
   "cell_type": "code",
   "execution_count": null,
   "metadata": {},
   "outputs": [],
   "source": [
    "# OPEN_ACT_12M\n",
    "X = 'open_il_12m'\n",
    "EDA_attr(X)\n",
    "scale_attr(X)"
   ]
  },
  {
   "cell_type": "code",
   "execution_count": null,
   "metadata": {},
   "outputs": [],
   "source": [
    "# OPEN_ACT_24M\n",
    "X = 'open_il_24m'\n",
    "EDA_attr(X)\n",
    "scale_attr(X)"
   ]
  },
  {
   "cell_type": "code",
   "execution_count": null,
   "metadata": {},
   "outputs": [],
   "source": [
    "# OPEN_RV_12M\n",
    "X = 'open_rv_12m'\n",
    "EDA_attr(X)\n",
    "scale_attr(X)"
   ]
  },
  {
   "cell_type": "code",
   "execution_count": null,
   "metadata": {},
   "outputs": [],
   "source": [
    "# OPEN_RV_24M\n",
    "X = 'open_rv_24m'\n",
    "EDA_attr(X)\n",
    "scale_attr(X)"
   ]
  },
  {
   "cell_type": "code",
   "execution_count": null,
   "metadata": {},
   "outputs": [],
   "source": [
    "# PCT_TL_NVR_DLQ\n",
    "X = 'pct_tl_nvr_dlq'\n",
    "EDA_attr(X)\n",
    "scale_attr(X)"
   ]
  },
  {
   "cell_type": "code",
   "execution_count": null,
   "metadata": {},
   "outputs": [],
   "source": [
    "# PERCENT_BC_GT_75\n",
    "X = 'percent_bc_gt_75'\n",
    "EDA_attr(X)\n",
    "scale_attr(X)"
   ]
  },
  {
   "cell_type": "code",
   "execution_count": null,
   "metadata": {},
   "outputs": [],
   "source": [
    "# PUB_REC\n",
    "X ='pub_rec'\n",
    "EDA_attr(X)\n",
    "scale_attr(X)"
   ]
  },
  {
   "cell_type": "code",
   "execution_count": null,
   "metadata": {},
   "outputs": [],
   "source": [
    "# PUB_REC_BANKRUPTCIES\n",
    "X = 'pub_rec_bankruptcies'\n",
    "EDA_attr(X)\n",
    "scale_attr(X)"
   ]
  },
  {
   "cell_type": "code",
   "execution_count": null,
   "metadata": {},
   "outputs": [],
   "source": [
    "# REVOL_BAL\n",
    "X = 'revol_bal'\n",
    "EDA_attr(X)\n",
    "scale_attr(X)"
   ]
  },
  {
   "cell_type": "code",
   "execution_count": null,
   "metadata": {},
   "outputs": [],
   "source": [
    "# REVOL_UTIL\n",
    "X = 'revol_util'\n",
    "EDA_attr(X)\n",
    "ls_clean[X] = ls[X].str[:-1].astype(np.float)\n",
    "scale_attr(X)"
   ]
  },
  {
   "cell_type": "code",
   "execution_count": null,
   "metadata": {},
   "outputs": [],
   "source": [
    "# TAX_LIENS\n",
    "X = 'tax_liens'\n",
    "EDA_attr(X)\n",
    "scale_attr(X)"
   ]
  },
  {
   "cell_type": "code",
   "execution_count": null,
   "metadata": {},
   "outputs": [],
   "source": [
    "# TOT_COLL_AMT\n",
    "X = 'tot_coll_amt'\n",
    "EDA_attr(X)\n",
    "scale_attr(X)"
   ]
  },
  {
   "cell_type": "code",
   "execution_count": null,
   "metadata": {},
   "outputs": [],
   "source": [
    "# TOT_CUR_BAL\n",
    "X = 'tot_cur_bal'\n",
    "EDA_attr(X)\n",
    "scale_attr(X)"
   ]
  },
  {
   "cell_type": "code",
   "execution_count": null,
   "metadata": {},
   "outputs": [],
   "source": [
    "# TOT_HI_CRED_LIM\n",
    "X = 'tot_hi_cred_lim'\n",
    "EDA_attr(X)\n",
    "scale_attr(X)"
   ]
  },
  {
   "cell_type": "code",
   "execution_count": null,
   "metadata": {},
   "outputs": [],
   "source": [
    "# TOTAL_ACC\n",
    "X = 'total_acc'\n",
    "EDA_attr(X)\n",
    "scale_attr(X)"
   ]
  },
  {
   "cell_type": "code",
   "execution_count": null,
   "metadata": {},
   "outputs": [],
   "source": [
    "# TOTAL_BAL_EX_MORT\n",
    "X = 'total_bal_ex_mort'\n",
    "EDA_attr(X)\n",
    "scale_attr(X)"
   ]
  },
  {
   "cell_type": "code",
   "execution_count": null,
   "metadata": {},
   "outputs": [],
   "source": [
    "# TOTAL_BAL_IL\n",
    "X = 'total_bal_il'\n",
    "EDA_attr(X)\n",
    "scale_attr(X)"
   ]
  },
  {
   "cell_type": "code",
   "execution_count": null,
   "metadata": {},
   "outputs": [],
   "source": [
    "# TOTAL_BC_LIMIT\n",
    "X = 'total_bc_limit'\n",
    "EDA_attr(X)\n",
    "scale_attr(X)"
   ]
  },
  {
   "cell_type": "code",
   "execution_count": null,
   "metadata": {},
   "outputs": [],
   "source": [
    "# TOTAL_CU_TL\n",
    "X = 'total_cu_tl'\n",
    "EDA_attr(X)\n",
    "scale_attr(X)"
   ]
  },
  {
   "cell_type": "code",
   "execution_count": null,
   "metadata": {},
   "outputs": [],
   "source": [
    "# TOTAL_IL_HIGH_CREDIT_LIMIT\n",
    "X = 'total_il_high_credit_limit'\n",
    "EDA_attr(X)\n",
    "scale_attr(X)"
   ]
  },
  {
   "cell_type": "code",
   "execution_count": null,
   "metadata": {},
   "outputs": [],
   "source": [
    "# TOTAL_REV_HI_LIM\n",
    "X = 'total_rev_hi_lim'\n",
    "EDA_attr(X)\n",
    "scale_attr(X)"
   ]
  },
  {
   "cell_type": "markdown",
   "metadata": {},
   "source": [
    "### 2D. Co-Borrower Information\n",
    "`application_type`, `annual_inc_joint`, `dti_joint`, `revol_bal_joint`, `sec_app_chargeoff_within_12_mths`, `sec_app_collections_12_mths_ex_med`, `sec_app_earliest_cr_line`, `sec_app_inq_last_6mths`, `sec_app_mort_acc`, `sec_app_mths_since_last_major_derog`, `sec_app_num_rev_accts`, `sec_app_open_acc`, `sec_app_open_act_il`, `sec_app_revol_util`, `verification_status_joint`"
   ]
  },
  {
   "cell_type": "code",
   "execution_count": null,
   "metadata": {},
   "outputs": [],
   "source": [
    "# APPLICATION_TYPE\n",
    "X = 'application_type'\n",
    "EDA_attr(X)\n",
    "dummy_attr(X)"
   ]
  },
  {
   "cell_type": "code",
   "execution_count": null,
   "metadata": {},
   "outputs": [],
   "source": [
    "# ANNUAL_INC_JOINT\n",
    "X = 'annual_inc_joint'\n",
    "EDA_attr(X)\n",
    "outliers = outlier_attr(X, 10000000)\n",
    "scale_attr(X, ls[~outliers][[X]])"
   ]
  },
  {
   "cell_type": "code",
   "execution_count": null,
   "metadata": {},
   "outputs": [],
   "source": [
    "# DTI_JOINT\n",
    "X = 'dti_joint'\n",
    "EDA_attr(X)\n",
    "scale_attr(X)"
   ]
  },
  {
   "cell_type": "code",
   "execution_count": null,
   "metadata": {},
   "outputs": [],
   "source": [
    "# REVOL_BAL_JOINT\n",
    "X = 'revol_bal_joint'\n",
    "EDA_attr(X)\n",
    "scale_attr(X)"
   ]
  },
  {
   "cell_type": "code",
   "execution_count": null,
   "metadata": {},
   "outputs": [],
   "source": [
    "# SEC_APP_CHARGEOFF_WITHIN_12_MTHS\n",
    "X ='sec_app_chargeoff_within_12_mths'\n",
    "EDA_attr(X)\n",
    "scale_attr(X)"
   ]
  },
  {
   "cell_type": "code",
   "execution_count": null,
   "metadata": {},
   "outputs": [],
   "source": [
    "# SEC_APP_COLLECTIONS_12_MTHS_EX_MED\n",
    "X = 'sec_app_collections_12_mths_ex_med'\n",
    "EDA_attr(X)\n",
    "outliers = outlier_attr(X, 12)\n",
    "scale_attr(X, ls[~outliers][[X]])"
   ]
  },
  {
   "cell_type": "code",
   "execution_count": null,
   "metadata": {
    "scrolled": false
   },
   "outputs": [],
   "source": [
    "# SEC_APP_EARLIEST_CR_LINE\n",
    "X = 'sec_app_earliest_cr_line'\n",
    "EDA_attr(X)\n",
    "ls_clean[X] =  np.array((ls['issue_d'] - ls[X]).dt.days).reshape(-1,1)\n",
    "scale_attr(X)"
   ]
  },
  {
   "cell_type": "code",
   "execution_count": null,
   "metadata": {},
   "outputs": [],
   "source": [
    "# SEC_APP_INQ_LAST_6MTHS\n",
    "X = 'sec_app_inq_last_6mths'\n",
    "EDA_attr(X)\n",
    "scale_attr(X)"
   ]
  },
  {
   "cell_type": "code",
   "execution_count": null,
   "metadata": {},
   "outputs": [],
   "source": [
    "# SEC_APP_MORT_ACC\n",
    "X = 'sec_app_mort_acc'\n",
    "EDA_attr(X)\n",
    "outliers = outlier_attr(X, 15)\n",
    "scale_attr(X, ls[~outliers][[X]])"
   ]
  },
  {
   "cell_type": "code",
   "execution_count": null,
   "metadata": {},
   "outputs": [],
   "source": [
    "# SEC_APP_MTHS_SINCE_LAST_MAJOR_DEROG\n",
    "X = 'sec_app_mths_since_last_major_derog'\n",
    "EDA_attr(X)\n",
    "scale_attr(X)"
   ]
  },
  {
   "cell_type": "code",
   "execution_count": null,
   "metadata": {},
   "outputs": [],
   "source": [
    "# SEC_APP_NUM_REV_ACCTS\n",
    "X = 'sec_app_num_rev_accts'\n",
    "EDA_attr(X)\n",
    "scale_attr(X)"
   ]
  },
  {
   "cell_type": "code",
   "execution_count": null,
   "metadata": {},
   "outputs": [],
   "source": [
    "# SEC_APP_OPEN_ACC\n",
    "X = 'sec_app_open_acc'\n",
    "EDA_attr(X)\n",
    "scale_attr(X)"
   ]
  },
  {
   "cell_type": "code",
   "execution_count": null,
   "metadata": {},
   "outputs": [],
   "source": [
    "# SEC_APP_OPEN_ACT_IL\n",
    "X = 'sec_app_open_act_il'\n",
    "EDA_attr(X)\n",
    "scale_attr(X)"
   ]
  },
  {
   "cell_type": "code",
   "execution_count": null,
   "metadata": {
    "scrolled": true
   },
   "outputs": [],
   "source": [
    "# SEC_APP_REVOL_UTIL\n",
    "X = 'sec_app_revol_util'\n",
    "EDA_attr(X)\n",
    "scale_attr(X)"
   ]
  },
  {
   "cell_type": "code",
   "execution_count": null,
   "metadata": {
    "scrolled": true
   },
   "outputs": [],
   "source": [
    "# VERIFICATION_STATUS_JOINT\n",
    "X = 'verification_status_joint'\n",
    "EDA_attr(X)\n",
    "dummy_attr(X)"
   ]
  },
  {
   "cell_type": "markdown",
   "metadata": {},
   "source": [
    "## 3. Dependent Variable Feature Design (36 variables)\n",
    "\n",
    "**feature design of outcome variable**"
   ]
  },
  {
   "cell_type": "code",
   "execution_count": null,
   "metadata": {},
   "outputs": [],
   "source": [
    "# DEPENDENT VARIABLES\n",
    "dependent_cols = [\n",
    "    \n",
    "    # Payment Variables (11): \n",
    "    'issue_d', 'last_pymnt_amnt', 'last_pymnt_d', 'loan_status', \n",
    "    'next_pymnt_d', 'out_prncp', 'out_prncp_inv', 'total_pymnt', \n",
    "    'total_pymnt_inv', 'total_rec_int', 'total_rec_prncp', \n",
    "    \n",
    "    # Hardship/Collections/Settlements\n",
    "    'collection_recovery_fee', 'debt_settlement_flag', 'debt_settlement_flag_date', 'deferral_term', \n",
    "    'hardship_amount', 'hardship_dpd', 'hardship_end_date', 'hardship_flag', \n",
    "    'hardship_last_payment_amount','hardship_length', 'hardship_loan_status', 'hardship_payoff_balance_amount', \n",
    "    'hardship_reason', 'hardship_start_date', 'hardship_status', 'hardship_type',\n",
    "    'last_credit_pull_d', 'orig_projected_additional_accrued_interest', 'payment_plan_start_date', 'pymnt_plan', \n",
    "    'recoveries', 'settlement_amount', 'settlement_date', 'settlement_percentage', \n",
    "    'settlement_status', 'settlement_term', 'total_rec_late_fee', ]\n",
    "\n",
    "ls_clean.drop(dependent_cols, axis=1, inplace=True)"
   ]
  },
  {
   "cell_type": "markdown",
   "metadata": {},
   "source": [
    "There are three features that we will design to represent the outcome of loan:\n",
    "- A. **Outcome Classification** (Repaid/Current vs. Not Repaid/Current)\n",
    "- B. **Principal Repaid Percentage**\n",
    "- C. **Annual Percentage Rate of Return** (APR)"
   ]
  },
  {
   "cell_type": "markdown",
   "metadata": {},
   "source": [
    "Our focus will be on loans that have completed their terms. This subset of loans provides the most complete outcome information. In-force loans cannot provide conclusive inferences on loan outcomes because the full term has not completed. Therefore information"
   ]
  },
  {
   "cell_type": "markdown",
   "metadata": {},
   "source": [
    "### 3A. `OUT_Class`"
   ]
  },
  {
   "cell_type": "code",
   "execution_count": null,
   "metadata": {},
   "outputs": [],
   "source": [
    "print(ls.groupby('loan_status')['loan_amnt'].count())\n",
    "len(ls['loan_status'])"
   ]
  },
  {
   "cell_type": "code",
   "execution_count": null,
   "metadata": {},
   "outputs": [],
   "source": [
    "ls_clean['OUT_Class'] = 0\n",
    "ls_clean.loc[ls['loan_status'].str.contains('Fully Paid'), 'OUT_Class'] = 1\n",
    "ls_clean.loc[ls['loan_status'].str.contains('Current'), 'OUT_Class'] = 1"
   ]
  },
  {
   "cell_type": "code",
   "execution_count": null,
   "metadata": {},
   "outputs": [],
   "source": [
    "print(ls_clean.groupby('OUT_Class')['loan_amnt'].count())\n",
    "len(ls['loan_status'])"
   ]
  },
  {
   "cell_type": "markdown",
   "metadata": {},
   "source": [
    "### 3B. `OUT_Prncp_Repaid_Percentage`"
   ]
  },
  {
   "cell_type": "code",
   "execution_count": null,
   "metadata": {},
   "outputs": [],
   "source": [
    "ls_clean['OUT_Prncp_Repaid_Percentage'] = ls['total_rec_prncp'] / ls['loan_amnt']"
   ]
  },
  {
   "cell_type": "code",
   "execution_count": null,
   "metadata": {},
   "outputs": [],
   "source": [
    "ls_clean['OUT_Prncp_Repaid_Percentage'].describe()"
   ]
  },
  {
   "cell_type": "markdown",
   "metadata": {},
   "source": [
    "### 3C. `OUT_APR`"
   ]
  },
  {
   "cell_type": "code",
   "execution_count": null,
   "metadata": {},
   "outputs": [],
   "source": [
    "# print(ls[['loan_amnt','term','int_rate','total_pymnt', 'installment', 'loan_status']].head(10))\n",
    "\n",
    "# def calculat_EAR():\n",
    "#     months = 36\n",
    "#     loan_amnt= 5000\n",
    "#     total_pymnt = 5863.155\n",
    "#     cashflows = np.insert(np.full(months, total_pymnt/months), 0 , -loan_amnt)\n",
    "#     monthly_IRR = np.irr(df)\n",
    "    \n",
    "# print((ls['last_pymnt_d'].dt.to_period('M') - ls['issue_d'].dt.to_period('M')).head(10))\n",
    "# print(ls['loan_status'].head(10))"
   ]
  },
  {
   "cell_type": "code",
   "execution_count": null,
   "metadata": {},
   "outputs": [],
   "source": []
  },
  {
   "cell_type": "code",
   "execution_count": null,
   "metadata": {},
   "outputs": [],
   "source": []
  },
  {
   "cell_type": "code",
   "execution_count": null,
   "metadata": {},
   "outputs": [],
   "source": []
  },
  {
   "cell_type": "markdown",
   "metadata": {},
   "source": [
    "<hr style=\"height:5pt\">\n",
    "\n",
    "## 4. Final Processing"
   ]
  },
  {
   "cell_type": "code",
   "execution_count": null,
   "metadata": {},
   "outputs": [],
   "source": [
    "# DROP OUTLIERS\n",
    "ls_clean2 = ls_clean[ls_clean['outlier']==0]\n",
    "ls_clean2 = ls_clean2.drop('outlier', axis=1)"
   ]
  },
  {
   "cell_type": "code",
   "execution_count": null,
   "metadata": {},
   "outputs": [],
   "source": []
  },
  {
   "cell_type": "code",
   "execution_count": null,
   "metadata": {},
   "outputs": [],
   "source": [
    "# EXPORT DATASET\n",
    "ls_clean2.to_hdf(directory + 'LS_CLEAN.h5', 'LS_CLEAN')\n",
    "ls_clean3.to_hdf(directory + 'LS_CLEAN_COMPLETED.h5', 'LS_CLEAN_COMPLETED')"
   ]
  }
 ],
 "metadata": {
  "celltoolbar": "Edit Metadata",
  "kernelspec": {
   "display_name": "Python 3",
   "language": "python",
   "name": "python3"
  },
  "language_info": {
   "codemirror_mode": {
    "name": "ipython",
    "version": 3
   },
   "file_extension": ".py",
   "mimetype": "text/x-python",
   "name": "python",
   "nbconvert_exporter": "python",
   "pygments_lexer": "ipython3",
   "version": "3.6.5"
  }
 },
 "nbformat": 4,
 "nbformat_minor": 2
}
