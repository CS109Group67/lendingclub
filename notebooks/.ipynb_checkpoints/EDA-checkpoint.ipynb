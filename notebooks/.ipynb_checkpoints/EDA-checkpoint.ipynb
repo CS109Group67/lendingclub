{
 "cells": [
  {
   "cell_type": "markdown",
   "metadata": {
    "tags": [
     "hidden"
    ]
   },
   "source": [
    "# EDA & Cleaning"
   ]
  },
  {
   "cell_type": "code",
   "execution_count": 21,
   "metadata": {
    "hide": true
   },
   "outputs": [],
   "source": [
    "#IMPORTS\n",
    "import warnings; warnings.filterwarnings('ignore')\n",
    "import numpy as np\n",
    "import pandas as pd\n",
    "import matplotlib.pyplot as plt\n",
    "from IPython.display import Markdown, display\n",
    "pd.options.display.float_format = '{:.3f}'.format\n",
    "plt.rcParams['figure.figsize'] = (10, 2)"
   ]
  },
  {
   "cell_type": "code",
   "execution_count": 2,
   "metadata": {
    "hide": true
   },
   "outputs": [],
   "source": [
    "#LOAD LOANSTATS\n",
    "directory = '../../data/'\n",
    "ls = pd.read_hdf(directory + 'Ls_MERGED.h5', 'ls_MERGED') # HDF5\n",
    "ls.sort_index(axis=1, inplace=True)"
   ]
  },
  {
   "cell_type": "code",
   "execution_count": 3,
   "metadata": {
    "hide": true
   },
   "outputs": [],
   "source": [
    "#LOAD DATA DICTIONARY\n",
    "sheet_dict = pd.read_excel(directory + 'LCDataDictionary.xlsx', sheet_name=None)\n",
    "data_dict = {}\n",
    "for key in sheet_dict:\n",
    "    for index, row in sheet_dict[key].iterrows():\n",
    "        if type(row[0]) != float:\n",
    "            data_dict[row[0].strip()] = row[1]"
   ]
  },
  {
   "cell_type": "markdown",
   "metadata": {},
   "source": [
    "## 1. Term-Complete Representative Subset"
   ]
  },
  {
   "cell_type": "markdown",
   "metadata": {},
   "source": [
    "'Term-complete' loans have completed their full term whereas 'in-force' loans have not completed their term.  To get the most representative outcome information we first remove the loan instances that are not term-complete. Also, LC no longer offers loans of the lowest grades F or G, so we removed these loans from the dataset."
   ]
  },
  {
   "cell_type": "code",
   "execution_count": 4,
   "metadata": {},
   "outputs": [],
   "source": [
    "#TERM-COMPLETE GRADES A-E\n",
    "completed_36 = (ls['issue_d'] < '2015-04-01') & (ls['term']  == ' 36 months')\n",
    "completed_60 = (ls['issue_d'] < '2013-04-01') & (ls['term']  == ' 60 months')\n",
    "ls = ls[completed_36 | completed_60]\n",
    "ls = ls[(ls['grade'] != 'F') & (ls['grade'] != 'G')]"
   ]
  },
  {
   "cell_type": "markdown",
   "metadata": {},
   "source": [
    "## 2. Inconsequential Variable Removal"
   ]
  },
  {
   "cell_type": "markdown",
   "metadata": {},
   "source": [
    "We removed variables from the `loanstats` dataset that would not be meaningful in the modeling for the following reasons:\n",
    "1. LC recently began reporting some new variables which are not reported in the term-complete subset. \n",
    "2. LC recently began accepting joint loans and variables related to coborrowers are empty in the term-complete subset. \n",
    "3. We designed three outcome features based on the set of dependent variables (see [Outcome Feature Design](https://cs109group67.github.io/lendingclub/EDA.html#3-outcome-feature-design))\n",
    "4. Some variables are non-standard text descriptions or otherwise inconsequential"
   ]
  },
  {
   "cell_type": "code",
   "execution_count": 5,
   "metadata": {},
   "outputs": [],
   "source": [
    "#1 NEW\n",
    "empty = ['all_util', 'il_util', 'inq_fi', 'inq_last_12m', 'max_bal_bc', \n",
    "         'mths_since_rcnt_il', 'open_acc_6m', 'open_act_il', 'open_il_12m', \n",
    "         'open_il_24m', 'open_rv_12m', 'open_rv_24m','total_bal_il', 'total_cu_tl']\n",
    "\n",
    "#2 CO-BORROWER\n",
    "joint = ['application_type', 'annual_inc_joint', 'dti_joint', 'revol_bal_joint', \n",
    "         'sec_app_chargeoff_within_12_mths', 'sec_app_collections_12_mths_ex_med', \n",
    "         'sec_app_earliest_cr_line', 'sec_app_inq_last_6mths', 'sec_app_mort_acc', \n",
    "         'sec_app_mths_since_last_major_derog', 'sec_app_num_rev_accts', 'sec_app_open_acc', \n",
    "         'sec_app_open_act_il', 'sec_app_revol_util', 'verification_status_joint']\n",
    "\n",
    "#3 DEPENDENT\n",
    "dependent = [# Payment Variables (11): \n",
    "              'issue_d', 'last_pymnt_amnt', 'last_pymnt_d', 'loan_status', \n",
    "              'next_pymnt_d', 'out_prncp', 'out_prncp_inv', 'total_pymnt', \n",
    "              'total_pymnt_inv', 'total_rec_int', 'total_rec_prncp', \n",
    "             # Hardship/Collections/Settlements (27)\n",
    "              'collection_recovery_fee', 'debt_settlement_flag', 'debt_settlement_flag_date', \n",
    "              'deferral_term', 'hardship_amount', 'hardship_dpd', 'hardship_end_date', \n",
    "              'hardship_flag', 'hardship_last_payment_amount','hardship_length', 'hardship_loan_status', \n",
    "              'hardship_payoff_balance_amount', 'hardship_reason', 'hardship_start_date', \n",
    "              'hardship_status', 'hardship_type', 'last_credit_pull_d', \n",
    "              'orig_projected_additional_accrued_interest', 'payment_plan_start_date', 'pymnt_plan', \n",
    "              'recoveries', 'settlement_amount', 'settlement_date', 'settlement_percentage', \n",
    "              'settlement_status', 'settlement_term', 'total_rec_late_fee']\n",
    "\n",
    "#4 OTHER INCONSEQUENTIAL\n",
    "inconsequential = ['addr_state', # not useful as dummy variable\n",
    "                   'dataset', # just indicates the dataset\n",
    "                   'desc', # non-standard text description\n",
    "                   'disbursement_method', # just indicates cash or direct_pay\n",
    "                   'emp_title', # non-standard text description\n",
    "                   'funded_amnt', # redundant with loan_amount\n",
    "                   'funded_amnt_inv', # redundant with loan_amount\n",
    "                   'grade', # redundant when using sub_grade\n",
    "                   'initial_list_status', # possible values are w or f\n",
    "                   'title', # non-standard text description\n",
    "                   'zip_code'] # we could make into dummies, but there are 954 of them"
   ]
  },
  {
   "cell_type": "code",
   "execution_count": 6,
   "metadata": {
    "hide": true
   },
   "outputs": [],
   "source": [
    "ls.drop(empty, axis=1, inplace=True)\n",
    "ls.drop(joint, axis=1, inplace=True)\n",
    "ls.drop(inconsequential, axis=1, inplace=True)"
   ]
  },
  {
   "cell_type": "markdown",
   "metadata": {},
   "source": [
    "## 3. Outcome Feature Design\n",
    "\n",
    "We designed 3 outcome features to represent how well or poorly the loan performed: `OUT_Class`, `OUT_Principle_Repaid_Percentage` and `OUT_Monthly_Rate_of_Return`."
   ]
  },
  {
   "cell_type": "markdown",
   "metadata": {},
   "source": [
    "### 3A. `OUT_Class`\n",
    "\n",
    "This outcome variable is a binary classification of whether the loan has been Fully Repaid (1) or Not Fully Repaid (0). The percentage of loans that have been fully repaid is 85.9%."
   ]
  },
  {
   "cell_type": "code",
   "execution_count": 7,
   "metadata": {},
   "outputs": [],
   "source": [
    "ls['OUT_Class'] = 0\n",
    "ls.loc[ls['loan_status'].str.contains('Fully Paid'), 'OUT_Class'] = 1"
   ]
  },
  {
   "cell_type": "code",
   "execution_count": 8,
   "metadata": {
    "hide": true
   },
   "outputs": [],
   "source": [
    "ls.loc[ls['loan_status'].str.contains('Current'), 'OUT_Class'] = 1"
   ]
  },
  {
   "cell_type": "markdown",
   "metadata": {},
   "source": [
    "### 3B. `OUT_Principle_Repaid_Percentage`\n",
    "\n",
    "This outcome variable represents the percentage of loan principle that has been repaid. The average principal repaid percentage is 91.5%."
   ]
  },
  {
   "cell_type": "code",
   "execution_count": 9,
   "metadata": {},
   "outputs": [],
   "source": [
    "ls['OUT_Principle_Repaid_Percentage'] = ls['total_rec_prncp'] / ls['loan_amnt']"
   ]
  },
  {
   "cell_type": "markdown",
   "metadata": {},
   "source": [
    "### 3C. `OUT_Monthly_Rate_Of_Return`\n",
    "\n",
    "This outcome variable represents the simple monthly rate of return that investors recieved by holding the loan. This is the most comprehensive of the three outcome features because it takes into account the total amount repaid (including interest) for the effective term of the loan. The median monthly rate of return is 0.6%."
   ]
  },
  {
   "cell_type": "code",
   "execution_count": 10,
   "metadata": {},
   "outputs": [],
   "source": [
    "#NET_REPAYMENT: amount repaid on the loan net of the loan amount\n",
    "Net_Repayment = ls['total_pymnt'] - ls['loan_amnt']\n",
    "\n",
    "#REPAYMENT_PERIOD: amount of time it took to repay the loan or charge off\n",
    "Repayment_Period = (ls['last_pymnt_d'].dt.to_period('M') - \n",
    "                    ls['issue_d'].dt.to_period('M')).replace([pd.NaT,0], 1)\n",
    "\n",
    "#MONTHLY_RATE_OF_RETURN: simple monthly return accrued over the term of the loan\n",
    "ls['OUT_Monthly_Rate_Of_Return'] = (Net_Repayment / Repayment_Period) / ls['loan_amnt']"
   ]
  },
  {
   "cell_type": "markdown",
   "metadata": {},
   "source": [
    "## 4. Independent Feature Cleaning\n",
    "\n",
    "We cleaned each independent variable with type conversion, dummy creation and outlier identification. Loans that had missing values in more than half of the independent variables were dropped while the remaining missing values were imputed with mean imputation or zero imputation. This section presents the custom functions that we used and the following section [EDA](https://cs109group67.github.io/lendingclub/EDA.html#5-eda) summarizes the cleaned features."
   ]
  },
  {
   "cell_type": "markdown",
   "metadata": {},
   "source": [
    "### 4A. Type Conversions"
   ]
  },
  {
   "cell_type": "code",
   "execution_count": 11,
   "metadata": {},
   "outputs": [],
   "source": [
    "#EARLIEST_CR_LINE\n",
    "ls['earliest_cr_line'] =  np.array((ls['issue_d'] - \n",
    "                                    ls['earliest_cr_line']).dt.days).reshape(-1,1)\n",
    "\n",
    "#EMP_LENGTH\n",
    "mapping = {'1 year': 1, '10+ years': 10, '2 years': 2, '3 years': 3, \n",
    "           '4 years': 4, '5 years': 5, '6 years': 6, '7 years': 7, \n",
    "           '8 years': 8, '9 years': 9, '< 1 year': 0}\n",
    "ls['emp_length'] = ls['emp_length'].map(mapping)\n",
    "\n",
    "#HOME_OWNERSHIP\n",
    "ls['home_ownership'].replace({'ANY':'OTHER', 'NONE':'OTHER'}, inplace=True)\n",
    "\n",
    "#INT_RATE\n",
    "ls['int_rate'] = ls['int_rate'].str[:-1].astype(np.float)\n",
    "\n",
    "#REVOL_UTIL\n",
    "ls['revol_util'] = ls['revol_util'].str[:-1].astype(np.float)\n",
    "\n",
    "#SUB_GRADE\n",
    "mapping = {'A':0, 'B':1, 'C':2, 'D':3, 'E':4}\n",
    "ls['sub_grade'] = (ls['sub_grade'].apply(lambda x: x[0]).map(mapping).astype(int)*5 +\n",
    "                         ls['sub_grade'].apply(lambda x: x[1]).astype(int)).astype(float)\n",
    "\n",
    "#'MTHS_SINCE...' reciprocals\n",
    "#use reciprocal so that 0='never occured' and 1/n+1='n month since'\n",
    "mnths_since = ls.columns[ls.columns.str.contains('mo_sin|mths_since')]\n",
    "for var in mnths_since:\n",
    "    ls[var+'_R'] = 1 / (ls[var] + 1)\n",
    "ls.drop(mnths_since, axis=1, inplace=True)"
   ]
  },
  {
   "cell_type": "markdown",
   "metadata": {},
   "source": [
    "### 4B. Dummy Creation"
   ]
  },
  {
   "cell_type": "code",
   "execution_count": 12,
   "metadata": {},
   "outputs": [],
   "source": [
    "#FUNCTION FOR DUMMY CREATION\n",
    "def dummy_attr(attr):\n",
    "    \"\"\" Create dummmies and drop original attribute\"\"\"\n",
    "    global ls\n",
    "    if attr not in list(ls): return\n",
    "    prefix = 'D_' + attr\n",
    "    dummies = pd.get_dummies(ls[attr], prefix=prefix)\n",
    "    ls.drop([attr], axis=1, inplace=True)\n",
    "    ls = pd.concat([ls, dummies], axis=1)"
   ]
  },
  {
   "cell_type": "markdown",
   "metadata": {},
   "source": [
    "### 4C. Outlier Identification"
   ]
  },
  {
   "cell_type": "code",
   "execution_count": 13,
   "metadata": {},
   "outputs": [],
   "source": [
    "#FUNCTION FOR OUTLIER DETECTION\n",
    "ls['outlier'] = 0 # this column is incremented for identified outlier instances\n",
    "def outlier_attr(attr, threshold):\n",
    "    \"\"\" Identify outliers above threshold\"\"\" \n",
    "    outliers = ls[attr] > threshold\n",
    "    ls['outlier'] = ls['outlier'] + outliers\n",
    "    return outliers"
   ]
  },
  {
   "cell_type": "markdown",
   "metadata": {},
   "source": [
    "### 4D. Missing Value Imputation"
   ]
  },
  {
   "cell_type": "code",
   "execution_count": 14,
   "metadata": {},
   "outputs": [],
   "source": [
    "#REMOVE LOANS WITH MANY MISSING FEATURES\n",
    "ls = ls[ls.isnull().sum(axis=1) < 30]\n",
    "\n",
    "#FUNCTION FOR MISSING VALUE IMPUTATION\n",
    "from sklearn.impute import SimpleImputer\n",
    "def impute_attr(attr, strategy='median'):\n",
    "    \"\"\" Impute missing values (via mean imputation or constant imputation)\"\"\"\n",
    "    mnths_since = ls.columns[ls.columns.str.contains('mo_sin|mths_since')]\n",
    "    if attr in mnths_since:\n",
    "        imp = SimpleImputer(strategy='constant', fill_value=0)\n",
    "    elif ls[attr].min() == 0:                                \n",
    "        imp = SimpleImputer(strategy='constant', fill_value=0)\n",
    "    else:\n",
    "        imp = SimpleImputer(strategy='mean')\n",
    "    ls[attr] = imp.fit_transform(ls[[attr]])"
   ]
  },
  {
   "cell_type": "code",
   "execution_count": 15,
   "metadata": {
    "hide": true
   },
   "outputs": [],
   "source": [
    "ls.drop(dependent, axis=1, inplace=True)\n",
    "ls.drop('outlier', axis=1, inplace=True)"
   ]
  },
  {
   "cell_type": "markdown",
   "metadata": {},
   "source": [
    "## 5. EDA"
   ]
  },
  {
   "cell_type": "code",
   "execution_count": 16,
   "metadata": {},
   "outputs": [],
   "source": [
    "#FUNCTION FOR EDA\n",
    "def EDA_attr(attr):\n",
    "    \"\"\" Display basic EDA for given attribute\"\"\"\n",
    "    mnths_since = ls.columns[ls.columns.str.contains('mo_sin|mths_since')]\n",
    "    display(Markdown('**{}**: {}'.format(attr, data_dict.get(attr, \"\"))))\n",
    "    \n",
    "    #attribute type\n",
    "    attr_type = ls[attr].dtype\n",
    "    print('\\tType: \\t\\t\\t{}'.format(attr_type))\n",
    "    \n",
    "    #missing values\n",
    "    missing_values = ls[attr].isnull().sum()\n",
    "    num_observations = len(ls)\n",
    "    print('\\tMissing Values: \\t{} ({:.1%})'.format(missing_values, missing_values/num_observations), end='')\n",
    "    if missing_values > 0:\n",
    "        if (ls[attr].min() == 0) or (attr in mnths_since):\n",
    "            print(' <-- Zero Imputation Applied', end='')\n",
    "        else:\n",
    "            print(' <-- Mean Imputation Applied', end='')\n",
    "    print()\n",
    "    \n",
    "    #numerical variables\n",
    "    if attr_type == 'float64' or attr_type == 'int64':  \n",
    "        impute_attr(attr)  \n",
    "        print('\\tMean: \\t\\t\\t{:.2f}'.format(ls[attr].mean()))     \n",
    "        print('\\tRange: \\t\\t\\t({:.2f}, {:.2f})'.format(ls[attr].min(), ls[attr].max()))\n",
    "        plt.hist(ls[attr]); plt.ylabel('Number of Loans'); plt.xlabel(attr); plt.show()\n",
    "  \n",
    "    #categorical variables\n",
    "    if attr_type == 'object':   \n",
    "        print('\\tNumber of Dummies: \\t{}'.format(len(ls.groupby(attr))))\n",
    "        print('\\tMost Common Category: \\t{}'.format(ls.groupby(attr)['loan_amnt'].count().idxmax()))\n",
    "        dummy_attr(attr)\n",
    "\n",
    "    display(Markdown('\\n'))"
   ]
  },
  {
   "cell_type": "markdown",
   "metadata": {},
   "source": [
    "### 5A. Outcome Features"
   ]
  },
  {
   "cell_type": "code",
   "execution_count": 22,
   "metadata": {
    "hide": true
   },
   "outputs": [
    {
     "data": {
      "text/markdown": [
       "**OUT_Class**: Binary classification of whether the loan has been Fully Repaid (1) or Not Fully Repaid (0)"
      ],
      "text/plain": [
       "<IPython.core.display.Markdown object>"
      ]
     },
     "metadata": {},
     "output_type": "display_data"
    },
    {
     "name": "stdout",
     "output_type": "stream",
     "text": [
      "\tType: \t\t\tint64\n",
      "\tMissing Values: \t0 (0.0%)\n",
      "\tMean: \t\t\t0.86\n",
      "\tRange: \t\t\t(0.00, 1.00)\n"
     ]
    },
    {
     "data": {
      "image/png": "[encoded data removed]",
      "text/plain": [
       "<Figure size 720x144 with 1 Axes>"
      ]
     },
     "metadata": {},
     "output_type": "display_data"
    },
    {
     "data": {
      "text/markdown": [
       "\n"
      ],
      "text/plain": [
       "<IPython.core.display.Markdown object>"
      ]
     },
     "metadata": {},
     "output_type": "display_data"
    },
    {
     "data": {
      "text/markdown": [
       "**OUT_Monthly_Rate_Of_Return**: Simple monthly rate of return that investors recieved by holding the loan"
      ],
      "text/plain": [
       "<IPython.core.display.Markdown object>"
      ]
     },
     "metadata": {},
     "output_type": "display_data"
    },
    {
     "name": "stdout",
     "output_type": "stream",
     "text": [
      "\tType: \t\t\tfloat64\n",
      "\tMissing Values: \t0 (0.0%)\n",
      "\tMean: \t\t\t-0.00\n",
      "\tRange: \t\t\t(-1.00, 0.21)\n"
     ]
    },
    {
     "data": {
      "image/png": "[encoded data removed]",
      "text/plain": [
       "<Figure size 720x144 with 1 Axes>"
      ]
     },
     "metadata": {},
     "output_type": "display_data"
    },
    {
     "data": {
      "text/markdown": [
       "\n"
      ],
      "text/plain": [
       "<IPython.core.display.Markdown object>"
      ]
     },
     "metadata": {},
     "output_type": "display_data"
    },
    {
     "data": {
      "text/markdown": [
       "**OUT_Principle_Repaid_Percentage**: Percentage of loan principle that has been repaid"
      ],
      "text/plain": [
       "<IPython.core.display.Markdown object>"
      ]
     },
     "metadata": {},
     "output_type": "display_data"
    },
    {
     "name": "stdout",
     "output_type": "stream",
     "text": [
      "\tType: \t\t\tfloat64\n",
      "\tMissing Values: \t0 (0.0%)\n",
      "\tMean: \t\t\t0.92\n",
      "\tRange: \t\t\t(0.00, 1.00)\n"
     ]
    },
    {
     "data": {
      "image/png": "[encoded data removed]",
      "text/plain": [
       "<Figure size 720x144 with 1 Axes>"
      ]
     },
     "metadata": {},
     "output_type": "display_data"
    },
    {
     "data": {
      "text/markdown": [
       "\n"
      ],
      "text/plain": [
       "<IPython.core.display.Markdown object>"
      ]
     },
     "metadata": {},
     "output_type": "display_data"
    }
   ],
   "source": [
    "outcome_cols = [attr for attr in ls.columns if 'OUT_' in attr]\n",
    "for attr in sorted(outcome_cols):\n",
    "    EDA_attr(attr)"
   ]
  },
  {
   "cell_type": "markdown",
   "metadata": {},
   "source": [
    "### 5B. Dummy Variables"
   ]
  },
  {
   "cell_type": "code",
   "execution_count": 18,
   "metadata": {
    "hide": true
   },
   "outputs": [
    {
     "data": {
      "text/markdown": [
       "**home_ownership**: The home ownership status provided by the borrower during registration or obtained from the credit report. Our values are: RENT, OWN, MORTGAGE, OTHER"
      ],
      "text/plain": [
       "<IPython.core.display.Markdown object>"
      ]
     },
     "metadata": {},
     "output_type": "display_data"
    },
    {
     "name": "stdout",
     "output_type": "stream",
     "text": [
      "\tType: \t\t\tobject\n",
      "\tMissing Values: \t0 (0.0%)\n",
      "\tNumber of Dummies: \t4\n",
      "\tMost Common Category: \tMORTGAGE\n"
     ]
    },
    {
     "data": {
      "text/markdown": [
       "\n"
      ],
      "text/plain": [
       "<IPython.core.display.Markdown object>"
      ]
     },
     "metadata": {},
     "output_type": "display_data"
    },
    {
     "data": {
      "text/markdown": [
       "**purpose**: A category provided by the borrower for the loan request. "
      ],
      "text/plain": [
       "<IPython.core.display.Markdown object>"
      ]
     },
     "metadata": {},
     "output_type": "display_data"
    },
    {
     "name": "stdout",
     "output_type": "stream",
     "text": [
      "\tType: \t\t\tobject\n",
      "\tMissing Values: \t0 (0.0%)\n",
      "\tNumber of Dummies: \t13\n",
      "\tMost Common Category: \tdebt_consolidation\n"
     ]
    },
    {
     "data": {
      "text/markdown": [
       "\n"
      ],
      "text/plain": [
       "<IPython.core.display.Markdown object>"
      ]
     },
     "metadata": {},
     "output_type": "display_data"
    },
    {
     "data": {
      "text/markdown": [
       "**term**: The number of payments on the loan. Values are in months and can be either 36 or 60."
      ],
      "text/plain": [
       "<IPython.core.display.Markdown object>"
      ]
     },
     "metadata": {},
     "output_type": "display_data"
    },
    {
     "name": "stdout",
     "output_type": "stream",
     "text": [
      "\tType: \t\t\tobject\n",
      "\tMissing Values: \t0 (0.0%)\n",
      "\tNumber of Dummies: \t2\n",
      "\tMost Common Category: \t 36 months\n"
     ]
    },
    {
     "data": {
      "text/markdown": [
       "\n"
      ],
      "text/plain": [
       "<IPython.core.display.Markdown object>"
      ]
     },
     "metadata": {},
     "output_type": "display_data"
    },
    {
     "data": {
      "text/markdown": [
       "**verification_status**: Indicates if income was verified by LC, not verified, or if the income source was verified"
      ],
      "text/plain": [
       "<IPython.core.display.Markdown object>"
      ]
     },
     "metadata": {},
     "output_type": "display_data"
    },
    {
     "name": "stdout",
     "output_type": "stream",
     "text": [
      "\tType: \t\t\tobject\n",
      "\tMissing Values: \t0 (0.0%)\n",
      "\tNumber of Dummies: \t3\n",
      "\tMost Common Category: \tNot Verified\n"
     ]
    },
    {
     "data": {
      "text/markdown": [
       "\n"
      ],
      "text/plain": [
       "<IPython.core.display.Markdown object>"
      ]
     },
     "metadata": {},
     "output_type": "display_data"
    }
   ],
   "source": [
    "dummy_cols = [attr for attr in ls.columns if ls[attr].dtype == 'object']\n",
    "for attr in sorted(dummy_cols):\n",
    "    EDA_attr(attr)"
   ]
  },
  {
   "cell_type": "markdown",
   "metadata": {},
   "source": [
    "### 5C. Numeric Variables"
   ]
  },
  {
   "cell_type": "code",
   "execution_count": 24,
   "metadata": {
    "hide": true
   },
   "outputs": [
    {
     "data": {
      "text/markdown": [
       "**acc_now_delinq**: The number of accounts on which the borrower is now delinquent."
      ],
      "text/plain": [
       "<IPython.core.display.Markdown object>"
      ]
     },
     "metadata": {},
     "output_type": "display_data"
    },
    {
     "name": "stdout",
     "output_type": "stream",
     "text": [
      "\tType: \t\t\tfloat64\n",
      "\tMissing Values: \t0 (0.0%)\n",
      "\tMean: \t\t\t0.00\n",
      "\tRange: \t\t\t(0.00, 14.00)\n"
     ]
    },
    {
     "data": {
      "image/png": "[encoded data removed]",
      "text/plain": [
       "<Figure size 720x144 with 1 Axes>"
      ]
     },
     "metadata": {},
     "output_type": "display_data"
    },
    {
     "data": {
      "text/markdown": [
       "\n"
      ],
      "text/plain": [
       "<IPython.core.display.Markdown object>"
      ]
     },
     "metadata": {},
     "output_type": "display_data"
    },
    {
     "data": {
      "text/markdown": [
       "**acc_open_past_24mths**: Number of trades opened in past 24 months."
      ],
      "text/plain": [
       "<IPython.core.display.Markdown object>"
      ]
     },
     "metadata": {},
     "output_type": "display_data"
    },
    {
     "name": "stdout",
     "output_type": "stream",
     "text": [
      "\tType: \t\t\tfloat64\n",
      "\tMissing Values: \t0 (0.0%)\n",
      "\tMean: \t\t\t4.20\n",
      "\tRange: \t\t\t(0.00, 53.00)\n"
     ]
    },
    {
     "data": {
      "image/png": "[encoded data removed]",
      "text/plain": [
       "<Figure size 720x144 with 1 Axes>"
      ]
     },
     "metadata": {},
     "output_type": "display_data"
    },
    {
     "data": {
      "text/markdown": [
       "\n"
      ],
      "text/plain": [
       "<IPython.core.display.Markdown object>"
      ]
     },
     "metadata": {},
     "output_type": "display_data"
    },
    {
     "data": {
      "text/markdown": [
       "**annual_inc**: The self-reported annual income provided by the borrower during registration."
      ],
      "text/plain": [
       "<IPython.core.display.Markdown object>"
      ]
     },
     "metadata": {},
     "output_type": "display_data"
    },
    {
     "name": "stdout",
     "output_type": "stream",
     "text": [
      "\tType: \t\t\tfloat64\n",
      "\tMissing Values: \t0 (0.0%)\n",
      "\tMean: \t\t\t72306.85\n",
      "\tRange: \t\t\t(3000.00, 8706582.00)\n"
     ]
    },
    {
     "data": {
      "image/png": "[encoded data removed]",
      "text/plain": [
       "<Figure size 720x144 with 1 Axes>"
      ]
     },
     "metadata": {},
     "output_type": "display_data"
    },
    {
     "data": {
      "text/markdown": [
       "\n"
      ],
      "text/plain": [
       "<IPython.core.display.Markdown object>"
      ]
     },
     "metadata": {},
     "output_type": "display_data"
    },
    {
     "data": {
      "text/markdown": [
       "**avg_cur_bal**: Average current balance of all accounts"
      ],
      "text/plain": [
       "<IPython.core.display.Markdown object>"
      ]
     },
     "metadata": {},
     "output_type": "display_data"
    },
    {
     "name": "stdout",
     "output_type": "stream",
     "text": [
      "\tType: \t\t\tfloat64\n",
      "\tMissing Values: \t2 (0.0%) <-- Zero Imputation Applied\n",
      "\tMean: \t\t\t12702.21\n",
      "\tRange: \t\t\t(0.00, 958084.00)\n"
     ]
    },
    {
     "data": {
      "image/png": "[encoded data removed]",
      "text/plain": [
       "<Figure size 720x144 with 1 Axes>"
      ]
     },
     "metadata": {},
     "output_type": "display_data"
    },
    {
     "data": {
      "text/markdown": [
       "\n"
      ],
      "text/plain": [
       "<IPython.core.display.Markdown object>"
      ]
     },
     "metadata": {},
     "output_type": "display_data"
    },
    {
     "data": {
      "text/markdown": [
       "**bc_open_to_buy**: Total open to buy on revolving bankcards."
      ],
      "text/plain": [
       "<IPython.core.display.Markdown object>"
      ]
     },
     "metadata": {},
     "output_type": "display_data"
    },
    {
     "name": "stdout",
     "output_type": "stream",
     "text": [
      "\tType: \t\t\tfloat64\n",
      "\tMissing Values: \t2328 (0.7%) <-- Zero Imputation Applied\n",
      "\tMean: \t\t\t8497.89\n",
      "\tRange: \t\t\t(0.00, 497445.00)\n"
     ]
    },
    {
     "data": {
      "image/png": "[encoded data removed]",
      "text/plain": [
       "<Figure size 720x144 with 1 Axes>"
      ]
     },
     "metadata": {},
     "output_type": "display_data"
    },
    {
     "data": {
      "text/markdown": [
       "\n"
      ],
      "text/plain": [
       "<IPython.core.display.Markdown object>"
      ]
     },
     "metadata": {},
     "output_type": "display_data"
    },
    {
     "data": {
      "text/markdown": [
       "**bc_util**: Ratio of total current balance to high credit/credit limit for all bankcard accounts."
      ],
      "text/plain": [
       "<IPython.core.display.Markdown object>"
      ]
     },
     "metadata": {},
     "output_type": "display_data"
    },
    {
     "name": "stdout",
     "output_type": "stream",
     "text": [
      "\tType: \t\t\tfloat64\n",
      "\tMissing Values: \t2550 (0.7%) <-- Zero Imputation Applied\n",
      "\tMean: \t\t\t63.80\n",
      "\tRange: \t\t\t(0.00, 339.60)\n"
     ]
    },
    {
     "data": {
      "image/png": "[encoded data removed]",
      "text/plain": [
       "<Figure size 720x144 with 1 Axes>"
      ]
     },
     "metadata": {},
     "output_type": "display_data"
    },
    {
     "data": {
      "text/markdown": [
       "\n"
      ],
      "text/plain": [
       "<IPython.core.display.Markdown object>"
      ]
     },
     "metadata": {},
     "output_type": "display_data"
    },
    {
     "data": {
      "text/markdown": [
       "**chargeoff_within_12_mths**: Number of charge-offs within 12 months"
      ],
      "text/plain": [
       "<IPython.core.display.Markdown object>"
      ]
     },
     "metadata": {},
     "output_type": "display_data"
    },
    {
     "name": "stdout",
     "output_type": "stream",
     "text": [
      "\tType: \t\t\tfloat64\n",
      "\tMissing Values: \t0 (0.0%)\n",
      "\tMean: \t\t\t0.01\n",
      "\tRange: \t\t\t(0.00, 7.00)\n"
     ]
    },
    {
     "data": {
      "image/png": "[encoded data removed]",
      "text/plain": [
       "<Figure size 720x144 with 1 Axes>"
      ]
     },
     "metadata": {},
     "output_type": "display_data"
    },
    {
     "data": {
      "text/markdown": [
       "\n"
      ],
      "text/plain": [
       "<IPython.core.display.Markdown object>"
      ]
     },
     "metadata": {},
     "output_type": "display_data"
    },
    {
     "data": {
      "text/markdown": [
       "**collections_12_mths_ex_med**: Number of collections in 12 months excluding medical collections"
      ],
      "text/plain": [
       "<IPython.core.display.Markdown object>"
      ]
     },
     "metadata": {},
     "output_type": "display_data"
    },
    {
     "name": "stdout",
     "output_type": "stream",
     "text": [
      "\tType: \t\t\tfloat64\n",
      "\tMissing Values: \t0 (0.0%)\n",
      "\tMean: \t\t\t0.01\n",
      "\tRange: \t\t\t(0.00, 20.00)\n"
     ]
    },
    {
     "data": {
      "image/png": "[encoded data removed]",
      "text/plain": [
       "<Figure size 720x144 with 1 Axes>"
      ]
     },
     "metadata": {},
     "output_type": "display_data"
    },
    {
     "data": {
      "text/markdown": [
       "\n"
      ],
      "text/plain": [
       "<IPython.core.display.Markdown object>"
      ]
     },
     "metadata": {},
     "output_type": "display_data"
    },
    {
     "data": {
      "text/markdown": [
       "**delinq_2yrs**: The number of 30+ days past-due incidences of delinquency in the borrower's credit file for the past 2 years"
      ],
      "text/plain": [
       "<IPython.core.display.Markdown object>"
      ]
     },
     "metadata": {},
     "output_type": "display_data"
    },
    {
     "name": "stdout",
     "output_type": "stream",
     "text": [
      "\tType: \t\t\tfloat64\n",
      "\tMissing Values: \t0 (0.0%)\n",
      "\tMean: \t\t\t0.31\n",
      "\tRange: \t\t\t(0.00, 29.00)\n"
     ]
    },
    {
     "data": {
      "image/png": "[encoded data removed]",
      "text/plain": [
       "<Figure size 720x144 with 1 Axes>"
      ]
     },
     "metadata": {},
     "output_type": "display_data"
    },
    {
     "data": {
      "text/markdown": [
       "\n"
      ],
      "text/plain": [
       "<IPython.core.display.Markdown object>"
      ]
     },
     "metadata": {},
     "output_type": "display_data"
    },
    {
     "data": {
      "text/markdown": [
       "**delinq_amnt**: The past-due amount owed for the accounts on which the borrower is now delinquent."
      ],
      "text/plain": [
       "<IPython.core.display.Markdown object>"
      ]
     },
     "metadata": {},
     "output_type": "display_data"
    },
    {
     "name": "stdout",
     "output_type": "stream",
     "text": [
      "\tType: \t\t\tfloat64\n",
      "\tMissing Values: \t0 (0.0%)\n",
      "\tMean: \t\t\t10.57\n",
      "\tRange: \t\t\t(0.00, 86399.00)\n"
     ]
    },
    {
     "data": {
      "image/png": "[encoded data removed]",
      "text/plain": [
       "<Figure size 720x144 with 1 Axes>"
      ]
     },
     "metadata": {},
     "output_type": "display_data"
    },
    {
     "data": {
      "text/markdown": [
       "\n"
      ],
      "text/plain": [
       "<IPython.core.display.Markdown object>"
      ]
     },
     "metadata": {},
     "output_type": "display_data"
    },
    {
     "data": {
      "text/markdown": [
       "**dti**: A ratio calculated using the borrower’s total monthly debt payments on the total debt obligations, excluding mortgage and the requested LC loan, divided by the borrower’s self-reported monthly income."
      ],
      "text/plain": [
       "<IPython.core.display.Markdown object>"
      ]
     },
     "metadata": {},
     "output_type": "display_data"
    },
    {
     "name": "stdout",
     "output_type": "stream",
     "text": [
      "\tType: \t\t\tfloat64\n",
      "\tMissing Values: \t0 (0.0%)\n",
      "\tMean: \t\t\t17.51\n",
      "\tRange: \t\t\t(0.00, 39.99)\n"
     ]
    },
    {
     "data": {
      "image/png": "[encoded data removed]",
      "text/plain": [
       "<Figure size 720x144 with 1 Axes>"
      ]
     },
     "metadata": {},
     "output_type": "display_data"
    },
    {
     "data": {
      "text/markdown": [
       "\n"
      ],
      "text/plain": [
       "<IPython.core.display.Markdown object>"
      ]
     },
     "metadata": {},
     "output_type": "display_data"
    },
    {
     "data": {
      "text/markdown": [
       "**earliest_cr_line**: The month the borrower's earliest reported credit line was opened"
      ],
      "text/plain": [
       "<IPython.core.display.Markdown object>"
      ]
     },
     "metadata": {},
     "output_type": "display_data"
    },
    {
     "name": "stdout",
     "output_type": "stream",
     "text": [
      "\tType: \t\t\tfloat64\n",
      "\tMissing Values: \t0 (0.0%)\n",
      "\tMean: \t\t\t5898.49\n",
      "\tRange: \t\t\t(1096.00, 25933.00)\n"
     ]
    },
    {
     "data": {
      "image/png": "[encoded data removed]",
      "text/plain": [
       "<Figure size 720x144 with 1 Axes>"
      ]
     },
     "metadata": {},
     "output_type": "display_data"
    },
    {
     "data": {
      "text/markdown": [
       "\n"
      ],
      "text/plain": [
       "<IPython.core.display.Markdown object>"
      ]
     },
     "metadata": {},
     "output_type": "display_data"
    },
    {
     "data": {
      "text/markdown": [
       "**emp_length**: Employment length in years. Possible values are between 0 and 10 where 0 means less than one year and 10 means ten or more years. "
      ],
      "text/plain": [
       "<IPython.core.display.Markdown object>"
      ]
     },
     "metadata": {},
     "output_type": "display_data"
    },
    {
     "name": "stdout",
     "output_type": "stream",
     "text": [
      "\tType: \t\t\tfloat64\n",
      "\tMissing Values: \t18998 (5.5%) <-- Zero Imputation Applied\n",
      "\tMean: \t\t\t5.64\n",
      "\tRange: \t\t\t(0.00, 10.00)\n"
     ]
    },
    {
     "data": {
      "image/png": "[encoded data removed]",
      "text/plain": [
       "<Figure size 720x144 with 1 Axes>"
      ]
     },
     "metadata": {},
     "output_type": "display_data"
    },
    {
     "data": {
      "text/markdown": [
       "\n"
      ],
      "text/plain": [
       "<IPython.core.display.Markdown object>"
      ]
     },
     "metadata": {},
     "output_type": "display_data"
    },
    {
     "data": {
      "text/markdown": [
       "**inq_last_6mths**: The number of inquiries in past 6 months (excluding auto and mortgage inquiries)"
      ],
      "text/plain": [
       "<IPython.core.display.Markdown object>"
      ]
     },
     "metadata": {},
     "output_type": "display_data"
    },
    {
     "name": "stdout",
     "output_type": "stream",
     "text": [
      "\tType: \t\t\tfloat64\n",
      "\tMissing Values: \t0 (0.0%)\n",
      "\tMean: \t\t\t0.74\n",
      "\tRange: \t\t\t(0.00, 8.00)\n"
     ]
    },
    {
     "data": {
      "image/png": "[encoded data removed]",
      "text/plain": [
       "<Figure size 720x144 with 1 Axes>"
      ]
     },
     "metadata": {},
     "output_type": "display_data"
    },
    {
     "data": {
      "text/markdown": [
       "\n"
      ],
      "text/plain": [
       "<IPython.core.display.Markdown object>"
      ]
     },
     "metadata": {},
     "output_type": "display_data"
    },
    {
     "data": {
      "text/markdown": [
       "**installment**: The monthly payment owed by the borrower if the loan originates."
      ],
      "text/plain": [
       "<IPython.core.display.Markdown object>"
      ]
     },
     "metadata": {},
     "output_type": "display_data"
    },
    {
     "name": "stdout",
     "output_type": "stream",
     "text": [
      "\tType: \t\t\tfloat64\n",
      "\tMissing Values: \t0 (0.0%)\n",
      "\tMean: \t\t\t425.16\n",
      "\tRange: \t\t\t(14.01, 1362.15)\n"
     ]
    },
    {
     "data": {
      "image/png": "[encoded data removed]",
      "text/plain": [
       "<Figure size 720x144 with 1 Axes>"
      ]
     },
     "metadata": {},
     "output_type": "display_data"
    },
    {
     "data": {
      "text/markdown": [
       "\n"
      ],
      "text/plain": [
       "<IPython.core.display.Markdown object>"
      ]
     },
     "metadata": {},
     "output_type": "display_data"
    },
    {
     "data": {
      "text/markdown": [
       "**int_rate**: Interest Rate on the loan"
      ],
      "text/plain": [
       "<IPython.core.display.Markdown object>"
      ]
     },
     "metadata": {},
     "output_type": "display_data"
    },
    {
     "name": "stdout",
     "output_type": "stream",
     "text": [
      "\tType: \t\t\tfloat64\n",
      "\tMissing Values: \t0 (0.0%)\n",
      "\tMean: \t\t\t12.62\n",
      "\tRange: \t\t\t(5.93, 23.40)\n"
     ]
    },
    {
     "data": {
      "image/png": "[encoded data removed]",
      "text/plain": [
       "<Figure size 720x144 with 1 Axes>"
      ]
     },
     "metadata": {},
     "output_type": "display_data"
    },
    {
     "data": {
      "text/markdown": [
       "\n"
      ],
      "text/plain": [
       "<IPython.core.display.Markdown object>"
      ]
     },
     "metadata": {},
     "output_type": "display_data"
    },
    {
     "data": {
      "text/markdown": [
       "**loan_amnt**: The listed amount of the loan applied for by the borrower. If at some point in time, the credit department reduces the loan amount, then it will be reflected in this value."
      ],
      "text/plain": [
       "<IPython.core.display.Markdown object>"
      ]
     },
     "metadata": {},
     "output_type": "display_data"
    },
    {
     "name": "stdout",
     "output_type": "stream",
     "text": [
      "\tType: \t\t\tfloat64\n",
      "\tMissing Values: \t0 (0.0%)\n",
      "\tMean: \t\t\t12877.13\n",
      "\tRange: \t\t\t(1000.00, 35000.00)\n"
     ]
    },
    {
     "data": {
      "image/png": "[encoded data removed]",
      "text/plain": [
       "<Figure size 720x144 with 1 Axes>"
      ]
     },
     "metadata": {},
     "output_type": "display_data"
    },
    {
     "data": {
      "text/markdown": [
       "\n"
      ],
      "text/plain": [
       "<IPython.core.display.Markdown object>"
      ]
     },
     "metadata": {},
     "output_type": "display_data"
    },
    {
     "data": {
      "text/markdown": [
       "**mo_sin_old_il_acct_R**: Reciprocal of the number of months since oldest bank installment account opened"
      ],
      "text/plain": [
       "<IPython.core.display.Markdown object>"
      ]
     },
     "metadata": {},
     "output_type": "display_data"
    },
    {
     "name": "stdout",
     "output_type": "stream",
     "text": [
      "\tType: \t\t\tfloat64\n",
      "\tMissing Values: \t13193 (3.8%) <-- Zero Imputation Applied\n",
      "\tMean: \t\t\t0.01\n",
      "\tRange: \t\t\t(0.00, 1.00)\n"
     ]
    },
    {
     "data": {
      "image/png": "[encoded data removed]",
      "text/plain": [
       "<Figure size 720x144 with 1 Axes>"
      ]
     },
     "metadata": {},
     "output_type": "display_data"
    },
    {
     "data": {
      "text/markdown": [
       "\n"
      ],
      "text/plain": [
       "<IPython.core.display.Markdown object>"
      ]
     },
     "metadata": {},
     "output_type": "display_data"
    },
    {
     "data": {
      "text/markdown": [
       "**mo_sin_old_rev_tl_op_R**: Reciprocal of the number of months since oldest revolving account opened"
      ],
      "text/plain": [
       "<IPython.core.display.Markdown object>"
      ]
     },
     "metadata": {},
     "output_type": "display_data"
    },
    {
     "name": "stdout",
     "output_type": "stream",
     "text": [
      "\tType: \t\t\tfloat64\n",
      "\tMissing Values: \t0 (0.0%)\n",
      "\tMean: \t\t\t0.01\n",
      "\tRange: \t\t\t(0.00, 0.20)\n"
     ]
    },
    {
     "data": {
      "image/png": "[encoded data removed]",
      "text/plain": [
       "<Figure size 720x144 with 1 Axes>"
      ]
     },
     "metadata": {},
     "output_type": "display_data"
    },
    {
     "data": {
      "text/markdown": [
       "\n"
      ],
      "text/plain": [
       "<IPython.core.display.Markdown object>"
      ]
     },
     "metadata": {},
     "output_type": "display_data"
    },
    {
     "data": {
      "text/markdown": [
       "**mo_sin_rcnt_rev_tl_op_R**: Reciprocal of the number of months since most recent revolving account opened"
      ],
      "text/plain": [
       "<IPython.core.display.Markdown object>"
      ]
     },
     "metadata": {},
     "output_type": "display_data"
    },
    {
     "name": "stdout",
     "output_type": "stream",
     "text": [
      "\tType: \t\t\tfloat64\n",
      "\tMissing Values: \t0 (0.0%)\n",
      "\tMean: \t\t\t0.16\n",
      "\tRange: \t\t\t(0.00, 1.00)\n"
     ]
    },
    {
     "data": {
      "image/png": "[encoded data removed]",
      "text/plain": [
       "<Figure size 720x144 with 1 Axes>"
      ]
     },
     "metadata": {},
     "output_type": "display_data"
    },
    {
     "data": {
      "text/markdown": [
       "\n"
      ],
      "text/plain": [
       "<IPython.core.display.Markdown object>"
      ]
     },
     "metadata": {},
     "output_type": "display_data"
    },
    {
     "data": {
      "text/markdown": [
       "**mo_sin_rcnt_tl_R**: Reciprocal of the number of months since most recent account opened"
      ],
      "text/plain": [
       "<IPython.core.display.Markdown object>"
      ]
     },
     "metadata": {},
     "output_type": "display_data"
    },
    {
     "name": "stdout",
     "output_type": "stream",
     "text": [
      "\tType: \t\t\tfloat64\n",
      "\tMissing Values: \t0 (0.0%)\n",
      "\tMean: \t\t\t0.20\n",
      "\tRange: \t\t\t(0.00, 1.00)\n"
     ]
    },
    {
     "data": {
      "image/png": "[encoded data removed]",
      "text/plain": [
       "<Figure size 720x144 with 1 Axes>"
      ]
     },
     "metadata": {},
     "output_type": "display_data"
    },
    {
     "data": {
      "text/markdown": [
       "\n"
      ],
      "text/plain": [
       "<IPython.core.display.Markdown object>"
      ]
     },
     "metadata": {},
     "output_type": "display_data"
    },
    {
     "data": {
      "text/markdown": [
       "**mort_acc**: Number of mortgage accounts."
      ],
      "text/plain": [
       "<IPython.core.display.Markdown object>"
      ]
     },
     "metadata": {},
     "output_type": "display_data"
    },
    {
     "name": "stdout",
     "output_type": "stream",
     "text": [
      "\tType: \t\t\tfloat64\n",
      "\tMissing Values: \t0 (0.0%)\n",
      "\tMean: \t\t\t1.71\n",
      "\tRange: \t\t\t(0.00, 34.00)\n"
     ]
    },
    {
     "data": {
      "image/png": "[encoded data removed]",
      "text/plain": [
       "<Figure size 720x144 with 1 Axes>"
      ]
     },
     "metadata": {},
     "output_type": "display_data"
    },
    {
     "data": {
      "text/markdown": [
       "\n"
      ],
      "text/plain": [
       "<IPython.core.display.Markdown object>"
      ]
     },
     "metadata": {},
     "output_type": "display_data"
    },
    {
     "data": {
      "text/markdown": [
       "**mths_since_last_delinq_R**: Reciprocal of the number of months since the borrower's last delinquency."
      ],
      "text/plain": [
       "<IPython.core.display.Markdown object>"
      ]
     },
     "metadata": {},
     "output_type": "display_data"
    },
    {
     "name": "stdout",
     "output_type": "stream",
     "text": [
      "\tType: \t\t\tfloat64\n",
      "\tMissing Values: \t176305 (51.2%) <-- Zero Imputation Applied\n",
      "\tMean: \t\t\t0.03\n",
      "\tRange: \t\t\t(0.00, 1.00)\n"
     ]
    },
    {
     "data": {
      "image/png": "[encoded data removed]",
      "text/plain": [
       "<Figure size 720x144 with 1 Axes>"
      ]
     },
     "metadata": {},
     "output_type": "display_data"
    },
    {
     "data": {
      "text/markdown": [
       "\n"
      ],
      "text/plain": [
       "<IPython.core.display.Markdown object>"
      ]
     },
     "metadata": {},
     "output_type": "display_data"
    },
    {
     "data": {
      "text/markdown": [
       "**mths_since_last_major_derog_R**: Reciprocal of the number of months since most recent 90-day or worse rating"
      ],
      "text/plain": [
       "<IPython.core.display.Markdown object>"
      ]
     },
     "metadata": {},
     "output_type": "display_data"
    },
    {
     "name": "stdout",
     "output_type": "stream",
     "text": [
      "\tType: \t\t\tfloat64\n",
      "\tMissing Values: \t254556 (73.9%) <-- Zero Imputation Applied\n",
      "\tMean: \t\t\t0.01\n",
      "\tRange: \t\t\t(0.00, 1.00)\n"
     ]
    },
    {
     "data": {
      "image/png": "[encoded data removed]",
      "text/plain": [
       "<Figure size 720x144 with 1 Axes>"
      ]
     },
     "metadata": {},
     "output_type": "display_data"
    },
    {
     "data": {
      "text/markdown": [
       "\n"
      ],
      "text/plain": [
       "<IPython.core.display.Markdown object>"
      ]
     },
     "metadata": {},
     "output_type": "display_data"
    },
    {
     "data": {
      "text/markdown": [
       "**mths_since_last_record_R**: Reciprocal of the number of months since the last public record."
      ],
      "text/plain": [
       "<IPython.core.display.Markdown object>"
      ]
     },
     "metadata": {},
     "output_type": "display_data"
    },
    {
     "name": "stdout",
     "output_type": "stream",
     "text": [
      "\tType: \t\t\tfloat64\n",
      "\tMissing Values: \t290340 (84.3%) <-- Zero Imputation Applied\n",
      "\tMean: \t\t\t0.00\n",
      "\tRange: \t\t\t(0.00, 1.00)\n"
     ]
    },
    {
     "data": {
      "image/png": "[encoded data removed]",
      "text/plain": [
       "<Figure size 720x144 with 1 Axes>"
      ]
     },
     "metadata": {},
     "output_type": "display_data"
    },
    {
     "data": {
      "text/markdown": [
       "\n"
      ],
      "text/plain": [
       "<IPython.core.display.Markdown object>"
      ]
     },
     "metadata": {},
     "output_type": "display_data"
    },
    {
     "data": {
      "text/markdown": [
       "**mths_since_recent_bc_R**: Reciprocal of the number of months since most recent bankcard account opened."
      ],
      "text/plain": [
       "<IPython.core.display.Markdown object>"
      ]
     },
     "metadata": {},
     "output_type": "display_data"
    },
    {
     "name": "stdout",
     "output_type": "stream",
     "text": [
      "\tType: \t\t\tfloat64\n",
      "\tMissing Values: \t2027 (0.6%) <-- Zero Imputation Applied\n",
      "\tMean: \t\t\t0.11\n",
      "\tRange: \t\t\t(0.00, 1.00)\n"
     ]
    },
    {
     "data": {
      "image/png": "[encoded data removed]",
      "text/plain": [
       "<Figure size 720x144 with 1 Axes>"
      ]
     },
     "metadata": {},
     "output_type": "display_data"
    },
    {
     "data": {
      "text/markdown": [
       "\n"
      ],
      "text/plain": [
       "<IPython.core.display.Markdown object>"
      ]
     },
     "metadata": {},
     "output_type": "display_data"
    },
    {
     "data": {
      "text/markdown": [
       "**mths_since_recent_bc_dlq_R**: Reciprocal of the number of months since most recent bankcard delinquency"
      ],
      "text/plain": [
       "<IPython.core.display.Markdown object>"
      ]
     },
     "metadata": {},
     "output_type": "display_data"
    },
    {
     "name": "stdout",
     "output_type": "stream",
     "text": [
      "\tType: \t\t\tfloat64\n",
      "\tMissing Values: \t256984 (74.6%) <-- Zero Imputation Applied\n",
      "\tMean: \t\t\t0.01\n",
      "\tRange: \t\t\t(0.00, 1.00)\n"
     ]
    },
    {
     "data": {
      "image/png": "[encoded data removed]",
      "text/plain": [
       "<Figure size 720x144 with 1 Axes>"
      ]
     },
     "metadata": {},
     "output_type": "display_data"
    },
    {
     "data": {
      "text/markdown": [
       "\n"
      ],
      "text/plain": [
       "<IPython.core.display.Markdown object>"
      ]
     },
     "metadata": {},
     "output_type": "display_data"
    },
    {
     "data": {
      "text/markdown": [
       "**mths_since_recent_inq_R**: Reciprocal of the number of months since most recent inquiry."
      ],
      "text/plain": [
       "<IPython.core.display.Markdown object>"
      ]
     },
     "metadata": {},
     "output_type": "display_data"
    },
    {
     "name": "stdout",
     "output_type": "stream",
     "text": [
      "\tType: \t\t\tfloat64\n",
      "\tMissing Values: \t35743 (10.4%) <-- Zero Imputation Applied\n",
      "\tMean: \t\t\t0.23\n",
      "\tRange: \t\t\t(0.00, 1.00)\n"
     ]
    },
    {
     "data": {
      "image/png": "[encoded data removed]",
      "text/plain": [
       "<Figure size 720x144 with 1 Axes>"
      ]
     },
     "metadata": {},
     "output_type": "display_data"
    },
    {
     "data": {
      "text/markdown": [
       "\n"
      ],
      "text/plain": [
       "<IPython.core.display.Markdown object>"
      ]
     },
     "metadata": {},
     "output_type": "display_data"
    },
    {
     "data": {
      "text/markdown": [
       "**mths_since_recent_revol_delinq_R**: Reciprocal of the number of months since most recent revolving delinquency."
      ],
      "text/plain": [
       "<IPython.core.display.Markdown object>"
      ]
     },
     "metadata": {},
     "output_type": "display_data"
    },
    {
     "name": "stdout",
     "output_type": "stream",
     "text": [
      "\tType: \t\t\tfloat64\n",
      "\tMissing Values: \t225741 (65.5%) <-- Zero Imputation Applied\n",
      "\tMean: \t\t\t0.02\n",
      "\tRange: \t\t\t(0.00, 1.00)\n"
     ]
    },
    {
     "data": {
      "image/png": "[encoded data removed]",
      "text/plain": [
       "<Figure size 720x144 with 1 Axes>"
      ]
     },
     "metadata": {},
     "output_type": "display_data"
    },
    {
     "data": {
      "text/markdown": [
       "\n"
      ],
      "text/plain": [
       "<IPython.core.display.Markdown object>"
      ]
     },
     "metadata": {},
     "output_type": "display_data"
    },
    {
     "data": {
      "text/markdown": [
       "**num_accts_ever_120_pd**: Number of accounts ever 120 or more days past due"
      ],
      "text/plain": [
       "<IPython.core.display.Markdown object>"
      ]
     },
     "metadata": {},
     "output_type": "display_data"
    },
    {
     "name": "stdout",
     "output_type": "stream",
     "text": [
      "\tType: \t\t\tfloat64\n",
      "\tMissing Values: \t0 (0.0%)\n",
      "\tMean: \t\t\t0.46\n",
      "\tRange: \t\t\t(0.00, 35.00)\n"
     ]
    },
    {
     "data": {
      "image/png": "[encoded data removed]",
      "text/plain": [
       "<Figure size 720x144 with 1 Axes>"
      ]
     },
     "metadata": {},
     "output_type": "display_data"
    },
    {
     "data": {
      "text/markdown": [
       "\n"
      ],
      "text/plain": [
       "<IPython.core.display.Markdown object>"
      ]
     },
     "metadata": {},
     "output_type": "display_data"
    },
    {
     "data": {
      "text/markdown": [
       "**num_actv_bc_tl**: Number of currently active bankcard accounts"
      ],
      "text/plain": [
       "<IPython.core.display.Markdown object>"
      ]
     },
     "metadata": {},
     "output_type": "display_data"
    },
    {
     "name": "stdout",
     "output_type": "stream",
     "text": [
      "\tType: \t\t\tfloat64\n",
      "\tMissing Values: \t0 (0.0%)\n",
      "\tMean: \t\t\t3.67\n",
      "\tRange: \t\t\t(0.00, 30.00)\n"
     ]
    },
    {
     "data": {
      "image/png": "[encoded data removed]",
      "text/plain": [
       "<Figure size 720x144 with 1 Axes>"
      ]
     },
     "metadata": {},
     "output_type": "display_data"
    },
    {
     "data": {
      "text/markdown": [
       "\n"
      ],
      "text/plain": [
       "<IPython.core.display.Markdown object>"
      ]
     },
     "metadata": {},
     "output_type": "display_data"
    },
    {
     "data": {
      "text/markdown": [
       "**num_actv_rev_tl**: Number of currently active revolving trades"
      ],
      "text/plain": [
       "<IPython.core.display.Markdown object>"
      ]
     },
     "metadata": {},
     "output_type": "display_data"
    },
    {
     "name": "stdout",
     "output_type": "stream",
     "text": [
      "\tType: \t\t\tfloat64\n",
      "\tMissing Values: \t0 (0.0%)\n",
      "\tMean: \t\t\t5.67\n",
      "\tRange: \t\t\t(0.00, 41.00)\n"
     ]
    },
    {
     "data": {
      "image/png": "[encoded data removed]",
      "text/plain": [
       "<Figure size 720x144 with 1 Axes>"
      ]
     },
     "metadata": {},
     "output_type": "display_data"
    },
    {
     "data": {
      "text/markdown": [
       "\n"
      ],
      "text/plain": [
       "<IPython.core.display.Markdown object>"
      ]
     },
     "metadata": {},
     "output_type": "display_data"
    },
    {
     "data": {
      "text/markdown": [
       "**num_bc_sats**: Number of satisfactory bankcard accounts"
      ],
      "text/plain": [
       "<IPython.core.display.Markdown object>"
      ]
     },
     "metadata": {},
     "output_type": "display_data"
    },
    {
     "name": "stdout",
     "output_type": "stream",
     "text": [
      "\tType: \t\t\tfloat64\n",
      "\tMissing Values: \t0 (0.0%)\n",
      "\tMean: \t\t\t4.63\n",
      "\tRange: \t\t\t(0.00, 46.00)\n"
     ]
    },
    {
     "data": {
      "image/png": "[encoded data removed]",
      "text/plain": [
       "<Figure size 720x144 with 1 Axes>"
      ]
     },
     "metadata": {},
     "output_type": "display_data"
    },
    {
     "data": {
      "text/markdown": [
       "\n"
      ],
      "text/plain": [
       "<IPython.core.display.Markdown object>"
      ]
     },
     "metadata": {},
     "output_type": "display_data"
    },
    {
     "data": {
      "text/markdown": [
       "**num_bc_tl**: Number of bankcard accounts"
      ],
      "text/plain": [
       "<IPython.core.display.Markdown object>"
      ]
     },
     "metadata": {},
     "output_type": "display_data"
    },
    {
     "name": "stdout",
     "output_type": "stream",
     "text": [
      "\tType: \t\t\tfloat64\n",
      "\tMissing Values: \t0 (0.0%)\n",
      "\tMean: \t\t\t8.63\n",
      "\tRange: \t\t\t(0.00, 65.00)\n"
     ]
    },
    {
     "data": {
      "image/png": "[encoded data removed]",
      "text/plain": [
       "<Figure size 720x144 with 1 Axes>"
      ]
     },
     "metadata": {},
     "output_type": "display_data"
    },
    {
     "data": {
      "text/markdown": [
       "\n"
      ],
      "text/plain": [
       "<IPython.core.display.Markdown object>"
      ]
     },
     "metadata": {},
     "output_type": "display_data"
    },
    {
     "data": {
      "text/markdown": [
       "**num_il_tl**: Number of installment accounts"
      ],
      "text/plain": [
       "<IPython.core.display.Markdown object>"
      ]
     },
     "metadata": {},
     "output_type": "display_data"
    },
    {
     "name": "stdout",
     "output_type": "stream",
     "text": [
      "\tType: \t\t\tfloat64\n",
      "\tMissing Values: \t0 (0.0%)\n",
      "\tMean: \t\t\t7.99\n",
      "\tRange: \t\t\t(0.00, 150.00)\n"
     ]
    },
    {
     "data": {
      "image/png": "[encoded data removed]",
      "text/plain": [
       "<Figure size 720x144 with 1 Axes>"
      ]
     },
     "metadata": {},
     "output_type": "display_data"
    },
    {
     "data": {
      "text/markdown": [
       "\n"
      ],
      "text/plain": [
       "<IPython.core.display.Markdown object>"
      ]
     },
     "metadata": {},
     "output_type": "display_data"
    },
    {
     "data": {
      "text/markdown": [
       "**num_op_rev_tl**: Number of open revolving accounts"
      ],
      "text/plain": [
       "<IPython.core.display.Markdown object>"
      ]
     },
     "metadata": {},
     "output_type": "display_data"
    },
    {
     "name": "stdout",
     "output_type": "stream",
     "text": [
      "\tType: \t\t\tfloat64\n",
      "\tMissing Values: \t0 (0.0%)\n",
      "\tMean: \t\t\t8.12\n",
      "\tRange: \t\t\t(0.00, 62.00)\n"
     ]
    },
    {
     "data": {
      "image/png": "[encoded data removed]",
      "text/plain": [
       "<Figure size 720x144 with 1 Axes>"
      ]
     },
     "metadata": {},
     "output_type": "display_data"
    },
    {
     "data": {
      "text/markdown": [
       "\n"
      ],
      "text/plain": [
       "<IPython.core.display.Markdown object>"
      ]
     },
     "metadata": {},
     "output_type": "display_data"
    },
    {
     "data": {
      "text/markdown": [
       "**num_rev_accts**: Number of revolving accounts"
      ],
      "text/plain": [
       "<IPython.core.display.Markdown object>"
      ]
     },
     "metadata": {},
     "output_type": "display_data"
    },
    {
     "name": "stdout",
     "output_type": "stream",
     "text": [
      "\tType: \t\t\tfloat64\n",
      "\tMissing Values: \t0 (0.0%)\n",
      "\tMean: \t\t\t14.96\n",
      "\tRange: \t\t\t(1.00, 105.00)\n"
     ]
    },
    {
     "data": {
      "image/png": "[encoded data removed]",
      "text/plain": [
       "<Figure size 720x144 with 1 Axes>"
      ]
     },
     "metadata": {},
     "output_type": "display_data"
    },
    {
     "data": {
      "text/markdown": [
       "\n"
      ],
      "text/plain": [
       "<IPython.core.display.Markdown object>"
      ]
     },
     "metadata": {},
     "output_type": "display_data"
    },
    {
     "data": {
      "text/markdown": [
       "**num_rev_tl_bal_gt_0**: Number of revolving trades with balance >0"
      ],
      "text/plain": [
       "<IPython.core.display.Markdown object>"
      ]
     },
     "metadata": {},
     "output_type": "display_data"
    },
    {
     "name": "stdout",
     "output_type": "stream",
     "text": [
      "\tType: \t\t\tfloat64\n",
      "\tMissing Values: \t0 (0.0%)\n",
      "\tMean: \t\t\t5.65\n",
      "\tRange: \t\t\t(0.00, 38.00)\n"
     ]
    },
    {
     "data": {
      "image/png": "[encoded data removed]",
      "text/plain": [
       "<Figure size 720x144 with 1 Axes>"
      ]
     },
     "metadata": {},
     "output_type": "display_data"
    },
    {
     "data": {
      "text/markdown": [
       "\n"
      ],
      "text/plain": [
       "<IPython.core.display.Markdown object>"
      ]
     },
     "metadata": {},
     "output_type": "display_data"
    },
    {
     "data": {
      "text/markdown": [
       "**num_sats**: Number of satisfactory accounts"
      ],
      "text/plain": [
       "<IPython.core.display.Markdown object>"
      ]
     },
     "metadata": {},
     "output_type": "display_data"
    },
    {
     "name": "stdout",
     "output_type": "stream",
     "text": [
      "\tType: \t\t\tfloat64\n",
      "\tMissing Values: \t0 (0.0%)\n",
      "\tMean: \t\t\t11.25\n",
      "\tRange: \t\t\t(0.00, 84.00)\n"
     ]
    },
    {
     "data": {
      "image/png": "[encoded data removed]",
      "text/plain": [
       "<Figure size 720x144 with 1 Axes>"
      ]
     },
     "metadata": {},
     "output_type": "display_data"
    },
    {
     "data": {
      "text/markdown": [
       "\n"
      ],
      "text/plain": [
       "<IPython.core.display.Markdown object>"
      ]
     },
     "metadata": {},
     "output_type": "display_data"
    },
    {
     "data": {
      "text/markdown": [
       "**num_tl_120dpd_2m**: Number of accounts currently 120 days past due (updated in past 2 months)"
      ],
      "text/plain": [
       "<IPython.core.display.Markdown object>"
      ]
     },
     "metadata": {},
     "output_type": "display_data"
    },
    {
     "name": "stdout",
     "output_type": "stream",
     "text": [
      "\tType: \t\t\tfloat64\n",
      "\tMissing Values: \t8410 (2.4%) <-- Zero Imputation Applied\n",
      "\tMean: \t\t\t0.00\n",
      "\tRange: \t\t\t(0.00, 3.00)\n"
     ]
    },
    {
     "data": {
      "image/png": "[encoded data removed]",
      "text/plain": [
       "<Figure size 720x144 with 1 Axes>"
      ]
     },
     "metadata": {},
     "output_type": "display_data"
    },
    {
     "data": {
      "text/markdown": [
       "\n"
      ],
      "text/plain": [
       "<IPython.core.display.Markdown object>"
      ]
     },
     "metadata": {},
     "output_type": "display_data"
    },
    {
     "data": {
      "text/markdown": [
       "**num_tl_30dpd**: Number of accounts currently 30 days past due (updated in past 2 months)"
      ],
      "text/plain": [
       "<IPython.core.display.Markdown object>"
      ]
     },
     "metadata": {},
     "output_type": "display_data"
    },
    {
     "name": "stdout",
     "output_type": "stream",
     "text": [
      "\tType: \t\t\tfloat64\n",
      "\tMissing Values: \t0 (0.0%)\n",
      "\tMean: \t\t\t0.00\n",
      "\tRange: \t\t\t(0.00, 4.00)\n"
     ]
    },
    {
     "data": {
      "image/png": "[encoded data removed]",
      "text/plain": [
       "<Figure size 720x144 with 1 Axes>"
      ]
     },
     "metadata": {},
     "output_type": "display_data"
    },
    {
     "data": {
      "text/markdown": [
       "\n"
      ],
      "text/plain": [
       "<IPython.core.display.Markdown object>"
      ]
     },
     "metadata": {},
     "output_type": "display_data"
    },
    {
     "data": {
      "text/markdown": [
       "**num_tl_90g_dpd_24m**: Number of accounts 90 or more days past due in last 24 months"
      ],
      "text/plain": [
       "<IPython.core.display.Markdown object>"
      ]
     },
     "metadata": {},
     "output_type": "display_data"
    },
    {
     "name": "stdout",
     "output_type": "stream",
     "text": [
      "\tType: \t\t\tfloat64\n",
      "\tMissing Values: \t0 (0.0%)\n",
      "\tMean: \t\t\t0.09\n",
      "\tRange: \t\t\t(0.00, 24.00)\n"
     ]
    },
    {
     "data": {
      "image/png": "[encoded data removed]",
      "text/plain": [
       "<Figure size 720x144 with 1 Axes>"
      ]
     },
     "metadata": {},
     "output_type": "display_data"
    },
    {
     "data": {
      "text/markdown": [
       "\n"
      ],
      "text/plain": [
       "<IPython.core.display.Markdown object>"
      ]
     },
     "metadata": {},
     "output_type": "display_data"
    },
    {
     "data": {
      "text/markdown": [
       "**num_tl_op_past_12m**: Number of accounts opened in past 12 months"
      ],
      "text/plain": [
       "<IPython.core.display.Markdown object>"
      ]
     },
     "metadata": {},
     "output_type": "display_data"
    },
    {
     "name": "stdout",
     "output_type": "stream",
     "text": [
      "\tType: \t\t\tfloat64\n",
      "\tMissing Values: \t0 (0.0%)\n",
      "\tMean: \t\t\t1.93\n",
      "\tRange: \t\t\t(0.00, 26.00)\n"
     ]
    },
    {
     "data": {
      "image/png": "[encoded data removed]",
      "text/plain": [
       "<Figure size 720x144 with 1 Axes>"
      ]
     },
     "metadata": {},
     "output_type": "display_data"
    },
    {
     "data": {
      "text/markdown": [
       "\n"
      ],
      "text/plain": [
       "<IPython.core.display.Markdown object>"
      ]
     },
     "metadata": {},
     "output_type": "display_data"
    },
    {
     "data": {
      "text/markdown": [
       "**open_acc**: The number of open credit lines in the borrower's credit file."
      ],
      "text/plain": [
       "<IPython.core.display.Markdown object>"
      ]
     },
     "metadata": {},
     "output_type": "display_data"
    },
    {
     "name": "stdout",
     "output_type": "stream",
     "text": [
      "\tType: \t\t\tfloat64\n",
      "\tMissing Values: \t0 (0.0%)\n",
      "\tMean: \t\t\t11.29\n",
      "\tRange: \t\t\t(0.00, 84.00)\n"
     ]
    },
    {
     "data": {
      "image/png": "[encoded data removed]",
      "text/plain": [
       "<Figure size 720x144 with 1 Axes>"
      ]
     },
     "metadata": {},
     "output_type": "display_data"
    },
    {
     "data": {
      "text/markdown": [
       "\n"
      ],
      "text/plain": [
       "<IPython.core.display.Markdown object>"
      ]
     },
     "metadata": {},
     "output_type": "display_data"
    },
    {
     "data": {
      "text/markdown": [
       "**pct_tl_nvr_dlq**: Percent of trades never delinquent"
      ],
      "text/plain": [
       "<IPython.core.display.Markdown object>"
      ]
     },
     "metadata": {},
     "output_type": "display_data"
    },
    {
     "name": "stdout",
     "output_type": "stream",
     "text": [
      "\tType: \t\t\tfloat64\n",
      "\tMissing Values: \t114 (0.0%) <-- Mean Imputation Applied\n",
      "\tMean: \t\t\t94.43\n",
      "\tRange: \t\t\t(7.70, 100.00)\n"
     ]
    },
    {
     "data": {
      "image/png": "[encoded data removed]",
      "text/plain": [
       "<Figure size 720x144 with 1 Axes>"
      ]
     },
     "metadata": {},
     "output_type": "display_data"
    },
    {
     "data": {
      "text/markdown": [
       "\n"
      ],
      "text/plain": [
       "<IPython.core.display.Markdown object>"
      ]
     },
     "metadata": {},
     "output_type": "display_data"
    },
    {
     "data": {
      "text/markdown": [
       "**percent_bc_gt_75**: Percentage of all bankcard accounts > 75% of limit."
      ],
      "text/plain": [
       "<IPython.core.display.Markdown object>"
      ]
     },
     "metadata": {},
     "output_type": "display_data"
    },
    {
     "name": "stdout",
     "output_type": "stream",
     "text": [
      "\tType: \t\t\tfloat64\n",
      "\tMissing Values: \t2451 (0.7%) <-- Zero Imputation Applied\n",
      "\tMean: \t\t\t49.92\n",
      "\tRange: \t\t\t(0.00, 100.00)\n"
     ]
    },
    {
     "data": {
      "image/png": "[encoded data removed]",
      "text/plain": [
       "<Figure size 720x144 with 1 Axes>"
      ]
     },
     "metadata": {},
     "output_type": "display_data"
    },
    {
     "data": {
      "text/markdown": [
       "\n"
      ],
      "text/plain": [
       "<IPython.core.display.Markdown object>"
      ]
     },
     "metadata": {},
     "output_type": "display_data"
    },
    {
     "data": {
      "text/markdown": [
       "**pub_rec**: Number of derogatory public records"
      ],
      "text/plain": [
       "<IPython.core.display.Markdown object>"
      ]
     },
     "metadata": {},
     "output_type": "display_data"
    },
    {
     "name": "stdout",
     "output_type": "stream",
     "text": [
      "\tType: \t\t\tfloat64\n",
      "\tMissing Values: \t0 (0.0%)\n",
      "\tMean: \t\t\t0.20\n",
      "\tRange: \t\t\t(0.00, 63.00)\n"
     ]
    },
    {
     "data": {
      "image/png": "[encoded data removed]",
      "text/plain": [
       "<Figure size 720x144 with 1 Axes>"
      ]
     },
     "metadata": {},
     "output_type": "display_data"
    },
    {
     "data": {
      "text/markdown": [
       "\n"
      ],
      "text/plain": [
       "<IPython.core.display.Markdown object>"
      ]
     },
     "metadata": {},
     "output_type": "display_data"
    },
    {
     "data": {
      "text/markdown": [
       "**pub_rec_bankruptcies**: Number of public record bankruptcies"
      ],
      "text/plain": [
       "<IPython.core.display.Markdown object>"
      ]
     },
     "metadata": {},
     "output_type": "display_data"
    },
    {
     "name": "stdout",
     "output_type": "stream",
     "text": [
      "\tType: \t\t\tfloat64\n",
      "\tMissing Values: \t0 (0.0%)\n",
      "\tMean: \t\t\t0.13\n",
      "\tRange: \t\t\t(0.00, 12.00)\n"
     ]
    },
    {
     "data": {
      "image/png": "[encoded data removed]",
      "text/plain": [
       "<Figure size 720x144 with 1 Axes>"
      ]
     },
     "metadata": {},
     "output_type": "display_data"
    },
    {
     "data": {
      "text/markdown": [
       "\n"
      ],
      "text/plain": [
       "<IPython.core.display.Markdown object>"
      ]
     },
     "metadata": {},
     "output_type": "display_data"
    },
    {
     "data": {
      "text/markdown": [
       "**revol_bal**: Total credit revolving balance"
      ],
      "text/plain": [
       "<IPython.core.display.Markdown object>"
      ]
     },
     "metadata": {},
     "output_type": "display_data"
    },
    {
     "name": "stdout",
     "output_type": "stream",
     "text": [
      "\tType: \t\t\tfloat64\n",
      "\tMissing Values: \t0 (0.0%)\n",
      "\tMean: \t\t\t15667.71\n",
      "\tRange: \t\t\t(0.00, 2568995.00)\n"
     ]
    },
    {
     "data": {
      "image/png": "[encoded data removed]",
      "text/plain": [
       "<Figure size 720x144 with 1 Axes>"
      ]
     },
     "metadata": {},
     "output_type": "display_data"
    },
    {
     "data": {
      "text/markdown": [
       "\n"
      ],
      "text/plain": [
       "<IPython.core.display.Markdown object>"
      ]
     },
     "metadata": {},
     "output_type": "display_data"
    },
    {
     "data": {
      "text/markdown": [
       "**revol_util**: Revolving line utilization rate, or the amount of credit the borrower is using relative to all available revolving credit."
      ],
      "text/plain": [
       "<IPython.core.display.Markdown object>"
      ]
     },
     "metadata": {},
     "output_type": "display_data"
    },
    {
     "name": "stdout",
     "output_type": "stream",
     "text": [
      "\tType: \t\t\tfloat64\n",
      "\tMissing Values: \t106 (0.0%) <-- Zero Imputation Applied\n",
      "\tMean: \t\t\t55.46\n",
      "\tRange: \t\t\t(0.00, 892.30)\n"
     ]
    },
    {
     "data": {
      "image/png": "[encoded data removed]",
      "text/plain": [
       "<Figure size 720x144 with 1 Axes>"
      ]
     },
     "metadata": {},
     "output_type": "display_data"
    },
    {
     "data": {
      "text/markdown": [
       "\n"
      ],
      "text/plain": [
       "<IPython.core.display.Markdown object>"
      ]
     },
     "metadata": {},
     "output_type": "display_data"
    },
    {
     "data": {
      "text/markdown": [
       "**sub_grade**: LC assigned loan subgrade"
      ],
      "text/plain": [
       "<IPython.core.display.Markdown object>"
      ]
     },
     "metadata": {},
     "output_type": "display_data"
    },
    {
     "name": "stdout",
     "output_type": "stream",
     "text": [
      "\tType: \t\t\tfloat64\n",
      "\tMissing Values: \t0 (0.0%)\n",
      "\tMean: \t\t\t10.27\n",
      "\tRange: \t\t\t(1.00, 25.00)\n"
     ]
    },
    {
     "data": {
      "image/png": "[encoded data removed]",
      "text/plain": [
       "<Figure size 720x144 with 1 Axes>"
      ]
     },
     "metadata": {},
     "output_type": "display_data"
    },
    {
     "data": {
      "text/markdown": [
       "\n"
      ],
      "text/plain": [
       "<IPython.core.display.Markdown object>"
      ]
     },
     "metadata": {},
     "output_type": "display_data"
    },
    {
     "data": {
      "text/markdown": [
       "**tax_liens**: Number of tax liens"
      ],
      "text/plain": [
       "<IPython.core.display.Markdown object>"
      ]
     },
     "metadata": {},
     "output_type": "display_data"
    },
    {
     "name": "stdout",
     "output_type": "stream",
     "text": [
      "\tType: \t\t\tfloat64\n",
      "\tMissing Values: \t0 (0.0%)\n",
      "\tMean: \t\t\t0.04\n",
      "\tRange: \t\t\t(0.00, 63.00)\n"
     ]
    },
    {
     "data": {
      "image/png": "[encoded data removed]",
      "text/plain": [
       "<Figure size 720x144 with 1 Axes>"
      ]
     },
     "metadata": {},
     "output_type": "display_data"
    },
    {
     "data": {
      "text/markdown": [
       "\n"
      ],
      "text/plain": [
       "<IPython.core.display.Markdown object>"
      ]
     },
     "metadata": {},
     "output_type": "display_data"
    },
    {
     "data": {
      "text/markdown": [
       "**tot_coll_amt**: Total collection amounts ever owed"
      ],
      "text/plain": [
       "<IPython.core.display.Markdown object>"
      ]
     },
     "metadata": {},
     "output_type": "display_data"
    },
    {
     "name": "stdout",
     "output_type": "stream",
     "text": [
      "\tType: \t\t\tfloat64\n",
      "\tMissing Values: \t0 (0.0%)\n",
      "\tMean: \t\t\t214.08\n",
      "\tRange: \t\t\t(0.00, 9152545.00)\n"
     ]
    },
    {
     "data": {
      "image/png": "[encoded data removed]",
      "text/plain": [
       "<Figure size 720x144 with 1 Axes>"
      ]
     },
     "metadata": {},
     "output_type": "display_data"
    },
    {
     "data": {
      "text/markdown": [
       "\n"
      ],
      "text/plain": [
       "<IPython.core.display.Markdown object>"
      ]
     },
     "metadata": {},
     "output_type": "display_data"
    },
    {
     "data": {
      "text/markdown": [
       "**tot_cur_bal**: Total current balance of all accounts"
      ],
      "text/plain": [
       "<IPython.core.display.Markdown object>"
      ]
     },
     "metadata": {},
     "output_type": "display_data"
    },
    {
     "name": "stdout",
     "output_type": "stream",
     "text": [
      "\tType: \t\t\tfloat64\n",
      "\tMissing Values: \t0 (0.0%)\n",
      "\tMean: \t\t\t128972.49\n",
      "\tRange: \t\t\t(0.00, 8000078.00)\n"
     ]
    },
    {
     "data": {
      "image/png": "[encoded data removed]",
      "text/plain": [
       "<Figure size 720x144 with 1 Axes>"
      ]
     },
     "metadata": {},
     "output_type": "display_data"
    },
    {
     "data": {
      "text/markdown": [
       "\n"
      ],
      "text/plain": [
       "<IPython.core.display.Markdown object>"
      ]
     },
     "metadata": {},
     "output_type": "display_data"
    },
    {
     "data": {
      "text/markdown": [
       "**tot_hi_cred_lim**: Total high credit/credit limit"
      ],
      "text/plain": [
       "<IPython.core.display.Markdown object>"
      ]
     },
     "metadata": {},
     "output_type": "display_data"
    },
    {
     "name": "stdout",
     "output_type": "stream",
     "text": [
      "\tType: \t\t\tfloat64\n",
      "\tMissing Values: \t0 (0.0%)\n",
      "\tMean: \t\t\t158161.62\n",
      "\tRange: \t\t\t(0.00, 9999999.00)\n"
     ]
    },
    {
     "data": {
      "image/png": "[encoded data removed]",
      "text/plain": [
       "<Figure size 720x144 with 1 Axes>"
      ]
     },
     "metadata": {},
     "output_type": "display_data"
    },
    {
     "data": {
      "text/markdown": [
       "\n"
      ],
      "text/plain": [
       "<IPython.core.display.Markdown object>"
      ]
     },
     "metadata": {},
     "output_type": "display_data"
    },
    {
     "data": {
      "text/markdown": [
       "**total_acc**: The total number of credit lines currently in the borrower's credit file"
      ],
      "text/plain": [
       "<IPython.core.display.Markdown object>"
      ]
     },
     "metadata": {},
     "output_type": "display_data"
    },
    {
     "name": "stdout",
     "output_type": "stream",
     "text": [
      "\tType: \t\t\tfloat64\n",
      "\tMissing Values: \t0 (0.0%)\n",
      "\tMean: \t\t\t24.95\n",
      "\tRange: \t\t\t(2.00, 162.00)\n"
     ]
    },
    {
     "data": {
      "image/png": "[encoded data removed]",
      "text/plain": [
       "<Figure size 720x144 with 1 Axes>"
      ]
     },
     "metadata": {},
     "output_type": "display_data"
    },
    {
     "data": {
      "text/markdown": [
       "\n"
      ],
      "text/plain": [
       "<IPython.core.display.Markdown object>"
      ]
     },
     "metadata": {},
     "output_type": "display_data"
    },
    {
     "data": {
      "text/markdown": [
       "**total_bal_ex_mort**: Total credit balance excluding mortgage"
      ],
      "text/plain": [
       "<IPython.core.display.Markdown object>"
      ]
     },
     "metadata": {},
     "output_type": "display_data"
    },
    {
     "name": "stdout",
     "output_type": "stream",
     "text": [
      "\tType: \t\t\tfloat64\n",
      "\tMissing Values: \t0 (0.0%)\n",
      "\tMean: \t\t\t44398.18\n",
      "\tRange: \t\t\t(0.00, 2688920.00)\n"
     ]
    },
    {
     "data": {
      "image/png": "[encoded data removed]",
      "text/plain": [
       "<Figure size 720x144 with 1 Axes>"
      ]
     },
     "metadata": {},
     "output_type": "display_data"
    },
    {
     "data": {
      "text/markdown": [
       "\n"
      ],
      "text/plain": [
       "<IPython.core.display.Markdown object>"
      ]
     },
     "metadata": {},
     "output_type": "display_data"
    },
    {
     "data": {
      "text/markdown": [
       "**total_bc_limit**: Total bankcard high credit/credit limit"
      ],
      "text/plain": [
       "<IPython.core.display.Markdown object>"
      ]
     },
     "metadata": {},
     "output_type": "display_data"
    },
    {
     "name": "stdout",
     "output_type": "stream",
     "text": [
      "\tType: \t\t\tfloat64\n",
      "\tMissing Values: \t0 (0.0%)\n",
      "\tMean: \t\t\t19759.53\n",
      "\tRange: \t\t\t(0.00, 760000.00)\n"
     ]
    },
    {
     "data": {
      "image/png": "[encoded data removed]",
      "text/plain": [
       "<Figure size 720x144 with 1 Axes>"
      ]
     },
     "metadata": {},
     "output_type": "display_data"
    },
    {
     "data": {
      "text/markdown": [
       "\n"
      ],
      "text/plain": [
       "<IPython.core.display.Markdown object>"
      ]
     },
     "metadata": {},
     "output_type": "display_data"
    },
    {
     "data": {
      "text/markdown": [
       "**total_il_high_credit_limit**: Total installment high credit/credit limit"
      ],
      "text/plain": [
       "<IPython.core.display.Markdown object>"
      ]
     },
     "metadata": {},
     "output_type": "display_data"
    },
    {
     "name": "stdout",
     "output_type": "stream",
     "text": [
      "\tType: \t\t\tfloat64\n",
      "\tMissing Values: \t0 (0.0%)\n",
      "\tMean: \t\t\t36340.74\n",
      "\tRange: \t\t\t(0.00, 1241783.00)\n"
     ]
    },
    {
     "data": {
      "image/png": "[encoded data removed]",
      "text/plain": [
       "<Figure size 720x144 with 1 Axes>"
      ]
     },
     "metadata": {},
     "output_type": "display_data"
    },
    {
     "data": {
      "text/markdown": [
       "\n"
      ],
      "text/plain": [
       "<IPython.core.display.Markdown object>"
      ]
     },
     "metadata": {},
     "output_type": "display_data"
    },
    {
     "data": {
      "text/markdown": [
       "**total_rev_hi_lim**: Total revolving high credit/credit limit"
      ],
      "text/plain": [
       "<IPython.core.display.Markdown object>"
      ]
     },
     "metadata": {},
     "output_type": "display_data"
    },
    {
     "name": "stdout",
     "output_type": "stream",
     "text": [
      "\tType: \t\t\tfloat64\n",
      "\tMissing Values: \t0 (0.0%)\n",
      "\tMean: \t\t\t29633.92\n",
      "\tRange: \t\t\t(0.00, 9999999.00)\n"
     ]
    },
    {
     "data": {
      "image/png": "[encoded data removed]",
      "text/plain": [
       "<Figure size 720x144 with 1 Axes>"
      ]
     },
     "metadata": {},
     "output_type": "display_data"
    },
    {
     "data": {
      "text/markdown": [
       "\n"
      ],
      "text/plain": [
       "<IPython.core.display.Markdown object>"
      ]
     },
     "metadata": {},
     "output_type": "display_data"
    }
   ],
   "source": [
    "dummies = ls.columns[ls.columns.str.contains('D_')]\n",
    "numeric_cols = set(ls.columns) - set(dummies) - set(outcome_cols)\n",
    "for attr in sorted(numeric_cols):\n",
    "    EDA_attr(attr)"
   ]
  },
  {
   "cell_type": "code",
   "execution_count": 25,
   "metadata": {
    "hide": true
   },
   "outputs": [],
   "source": [
    "############ EXPORTING ##############\n",
    "ls.to_hdf(directory + 'ls_CLEAN.h5', 'ls_CLEAN')"
   ]
  }
 ],
 "metadata": {
  "celltoolbar": "Edit Metadata",
  "kernelspec": {
   "display_name": "Python 3",
   "language": "python",
   "name": "python3"
  },
  "language_info": {
   "codemirror_mode": {
    "name": "ipython",
    "version": 3
   },
   "file_extension": ".py",
   "mimetype": "text/x-python",
   "name": "python",
   "nbconvert_exporter": "python",
   "pygments_lexer": "ipython3",
   "version": "3.6.5"
  }
 },
 "nbformat": 4,
 "nbformat_minor": 2
}
