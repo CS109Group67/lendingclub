{
 "cells": [
  {
   "cell_type": "markdown",
   "metadata": {},
   "source": [
    "# Investment Strategy"
   ]
  },
  {
   "cell_type": "code",
   "execution_count": null,
   "metadata": {
    "hide": true
   },
   "outputs": [],
   "source": [
    "#IMPORTS\n",
    "import numpy as np\n",
    "import pandas as pd\n",
    "import matplotlib.pyplot as plt\n",
    "import seaborn as sns; sns.set(font_scale=1.15)\n",
    "import warnings; warnings.filterwarnings('ignore')\n",
    "from IPython.display import Markdown, display, SVG\n",
    "from sklearn.dummy import DummyClassifier, DummyRegressor\n",
    "from sklearn.model_selection import cross_val_score\n",
    "from sklearn.linear_model import LinearRegression, LogisticRegressionCV, RidgeCV, LassoCV\n",
    "from sklearn.metrics import confusion_matrix, classification_report, roc_curve\n",
    "from sklearn.preprocessing import StandardScaler, PolynomialFeatures\n",
    "from sklearn.tree import DecisionTreeRegressor, export_graphviz\n",
    "from sklearn.ensemble import RandomForestRegressor\n",
    "# from graphviz import Source\n",
    "pd.options.display.max_rows = 50\n",
    "pd.options.display.max_columns = 50\n",
    "pd.options.display.float_format = '{:.3f}'.format\n",
    "plt.rcParams['figure.figsize'] = (12, 4)"
   ]
  },
  {
   "cell_type": "code",
   "execution_count": null,
   "metadata": {
    "hide": true
   },
   "outputs": [],
   "source": [
    "#LOAD LOANSTATS\n",
    "directory = '../../data/clean/'\n",
    "ls = pd.read_hdf(directory + 'ls_CLEAN.h5', 'ls_CLEAN')\n",
    "ls.sort_index(axis=1, inplace=True)"
   ]
  },
  {
   "cell_type": "code",
   "execution_count": null,
   "metadata": {
    "hide": true
   },
   "outputs": [],
   "source": [
    "def model_scoring(model, feature, target, modeltype='C', cv=5):\n",
    "    \"\"\"Displays model evaluation for regression and classification modeling\"\"\"\n",
    "    scores = ['accuracy', 'precision', 'recall']\n",
    "    if modeltype=='R': # regression\n",
    "        scores = ['neg_mean_squared_error', 'r2']\n",
    "    for score in scores:\n",
    "        cv_score = cross_val_score(model, feature, target, scoring=score, cv=cv).mean()\n",
    "        print('\\tCross-validation {}: {:.4}'.format(score, cv_score))"
   ]
  },
  {
   "cell_type": "code",
   "execution_count": null,
   "metadata": {
    "hide": true
   },
   "outputs": [],
   "source": [
    "from sklearn.model_selection import train_test_split\n",
    "ls_train, ls_test = train_test_split(ls, test_size=0.2, stratify=ls['OUT_Class'], random_state=1)"
   ]
  },
  {
   "cell_type": "code",
   "execution_count": null,
   "metadata": {
    "hide": true
   },
   "outputs": [],
   "source": [
    "#STANDARD SCALING\n",
    "scaler = StandardScaler()\n",
    "\n",
    "#separate features and targets\n",
    "outcome_var_list = sorted(out_var for out_var in ls.columns if \"OUT_\" in out_var)\n",
    "\n",
    "#train features\n",
    "X_train = ls_train[sorted(set(ls.columns)-set(outcome_var_list))]\n",
    "X_train_scaled = pd.DataFrame(scaler.fit_transform(X_train),index=X_train.index, columns=X_train.columns)\n",
    "\n",
    "#test features\n",
    "X_test = ls_test[sorted(set(ls.columns)-set(outcome_var_list))]\n",
    "X_test_scaled = pd.DataFrame(scaler.transform(X_test),index=X_test.index, columns=X_test.columns)\n",
    "\n",
    "#train targets\n",
    "y_train = ls_train[sorted(outcome_var_list)]\n",
    "OUT_Class_train = y_train.iloc[:,0]\n",
    "OUT_Principle_Repaid_Percentage_train = y_train.iloc[:,1]\n",
    "OUT_Monthly_Rate_Of_Return_train = y_train.iloc[:,2]\n",
    "\n",
    "#test targets\n",
    "y_test = ls_test[sorted(outcome_var_list)]\n",
    "OUT_Class_test = y_test.iloc[:,0]\n",
    "OUT_Principle_Repaid_Percentage_test = y_test.iloc[:,1]\n",
    "OUT_Monthly_Rate_Of_Return_test = y_test.iloc[:,2]"
   ]
  },
  {
   "cell_type": "code",
   "execution_count": null,
   "metadata": {
    "hide": true
   },
   "outputs": [],
   "source": [
    "#GET POLYNOMIALS\n",
    "dummy_var_list = sorted(dummy for dummy in ls.columns if \"D_\" in dummy)\n",
    "numeric_var_list = sorted(set(ls.columns) - set(outcome_var_list) - set(dummy_var_list))\n",
    "poly_2 = pd.DataFrame(np.hstack((X_train.iloc[:,22:]**(i+1) for i in range(2))),\n",
    "                      index=X_train.index, \n",
    "                      columns=numeric_var_list+[s+'_2' for s in numeric_var_list])\n",
    "X_train_2 = pd.concat([ls_train[dummy_var_list], poly_2], axis=1).sort_index(axis=1)\n",
    "poly_2 = pd.DataFrame(np.hstack((X_test.iloc[:,22:]**(i+1) for i in range(2))),\n",
    "                      index=X_test.index, \n",
    "                      columns=numeric_var_list+[s+'_2' for s in numeric_var_list])\n",
    "X_test_2 = pd.concat([ls_test[dummy_var_list], poly_2], axis=1).sort_index(axis=1)\n",
    "\n",
    "#STANDARD SCALING\n",
    "scaler = StandardScaler()\n",
    "X_train_scaled_2 = pd.DataFrame(scaler.fit_transform(X_train_2),index=X_train_2.index, columns=X_train_2.columns)\n",
    "X_test_scaled_2 = pd.DataFrame(scaler.transform(X_test_2),index=X_test_2.index, columns=X_test_2.columns)"
   ]
  },
  {
   "cell_type": "code",
   "execution_count": null,
   "metadata": {
    "hide": true
   },
   "outputs": [],
   "source": [
    "#CLASSIFIERS\n",
    "dummy_cls = DummyClassifier(strategy='uniform', random_state=1)\n",
    "dummy_cls.fit(X_train_scaled, OUT_Class_train)\n",
    "log_cls = LogisticRegressionCV(Cs=8, solver='lbfgs', max_iter=10000, class_weight='balanced', random_state=0, fit_intercept=False)\n",
    "log_cls.fit(X_train_scaled, OUT_Class_train)\n",
    "\n",
    "#REGRESSORS PRP\n",
    "ridge_reg_PRP = RidgeCV(fit_intercept=False)\n",
    "ridge_reg_PRP.fit(X_train_scaled, OUT_Principle_Repaid_Percentage_train)\n",
    "lasso_reg_PRP = LassoCV(fit_intercept=False)\n",
    "lasso_reg_PRP.fit(X_train_scaled, OUT_Principle_Repaid_Percentage_train)\n",
    "lasso_reg2_PRP = LassoCV(fit_intercept=False)\n",
    "lasso_reg2_PRP.fit(X_train_scaled_2, OUT_Principle_Repaid_Percentage_train)\n",
    "\n",
    "#REGRESSORS MRR\n",
    "ridge_reg_MRR = RidgeCV(fit_intercept=False)\n",
    "ridge_reg_MRR.fit(X_train_scaled, OUT_Monthly_Rate_Of_Return_train)\n",
    "lasso_reg_MRR = LassoCV(fit_intercept=False)\n",
    "lasso_reg_MRR.fit(X_train_scaled, OUT_Monthly_Rate_Of_Return_train)\n",
    "lasso_reg2_MRR = LassoCV(fit_intercept=False)\n",
    "lasso_reg2_MRR.fit(X_train_scaled_2,OUT_Monthly_Rate_Of_Return_train)\n",
    "x=0"
   ]
  },
  {
   "cell_type": "markdown",
   "metadata": {},
   "source": [
    "## 1. Modeling Summary"
   ]
  },
  {
   "cell_type": "code",
   "execution_count": null,
   "metadata": {
    "hide": true
   },
   "outputs": [],
   "source": [
    "results = pd.read_excel(directory + 'ModelResults.xlsx', sheet_name=[0,1,2], header=[0,1])\n",
    "OUT_Class_results = results[0]\n",
    "OUT_PRP_results = results[1]\n",
    "OUT_MRR_results = results[2]"
   ]
  },
  {
   "cell_type": "markdown",
   "metadata": {},
   "source": [
    "In the [Modeling](https://cs109group67.github.io/lendingclub/Modeling.html) section we preformed a variety of classifiction and regression models on the three outcome features. A summary of the model scoring metrics is as follows:"
   ]
  },
  {
   "cell_type": "code",
   "execution_count": null,
   "metadata": {
    "hide": true
   },
   "outputs": [],
   "source": [
    "display(Markdown('**`OUT_Class`:**'))\n",
    "OUT_Class_results"
   ]
  },
  {
   "cell_type": "code",
   "execution_count": null,
   "metadata": {
    "hide": true
   },
   "outputs": [],
   "source": [
    "display(Markdown('**`OUT_Principle_Repaid`:**'))\n",
    "OUT_PRP_results"
   ]
  },
  {
   "cell_type": "code",
   "execution_count": null,
   "metadata": {
    "hide": true
   },
   "outputs": [],
   "source": [
    "display(Markdown('**`OUT_Monthly_Rate_Of_Return`:**'))\n",
    "OUT_MRR_results"
   ]
  },
  {
   "cell_type": "markdown",
   "metadata": {},
   "source": [
    "The classification and regression models did not perform well at predicting the target features, but they did provide important information about which variables potentially hold the most inferential information for a prospective investor. The visualizations below display cofficients assigned across the models. The focus is on features that have the most significant magnitude across distinct models."
   ]
  },
  {
   "cell_type": "code",
   "execution_count": null,
   "metadata": {
    "hide": true
   },
   "outputs": [],
   "source": [
    "def plot_coefficients(feature_train, models, title, thresh=(0.0025,4), figsize=(10,4)):\n",
    "    \"\"\"Plots the coefficients assigned by the model to each feature\"\"\"\n",
    "    # create DataFrame with coefficient names and values \n",
    "    names = feature_train.columns.tolist()\n",
    "    coefs = pd.DataFrame(names, columns=['coefs'])\n",
    "    for k,m in models.items():\n",
    "        coefs[k] = m.coef_.flatten()\n",
    "    coefs = coefs.sort_values(by='coefs', ascending=False)\n",
    "\n",
    "    # plot coefficients for each feature\n",
    "    coefs = coefs[(coefs > thresh[0]) | (coefs < -thresh[0])]\n",
    "    coefs.sort_index(inplace=True, ascending=False)\n",
    "    coefs.dropna(thresh=thresh[1], inplace=True)\n",
    "    fig, ax = plt.subplots(nrows=1, ncols=1, figsize=figsize)\n",
    "    for k,m in models.items():\n",
    "        ax.scatter(coefs[k], coefs['coefs'], alpha=0.5, label=k, s=80)\n",
    "    ax.legend(fontsize=10)\n",
    "    ax.set_xlabel('Coefficient Value')\n",
    "    ax.set_ylabel('Features')\n",
    "    ax.set_title('Coefficients Assigned Across the {}'.format(title))\n",
    "    ax.axvline(0, color='black')\n",
    "    plt.show()\n",
    "    return coefs"
   ]
  },
  {
   "cell_type": "code",
   "execution_count": null,
   "metadata": {
    "hide": true
   },
   "outputs": [],
   "source": [
    "models = dict(Logistic_Classification=log_cls,)\n",
    "coefs1 = plot_coefficients(X_train_scaled, models=models, thresh=(0.15,2), title='Classification Model')"
   ]
  },
  {
   "cell_type": "code",
   "execution_count": null,
   "metadata": {
    "hide": true
   },
   "outputs": [],
   "source": [
    "models = dict(Ridge_Regression_PRP=ridge_reg_PRP,\n",
    "              Lasso_Regression_PRP=lasso_reg_PRP,\n",
    "              Ridge_Regression_MRR=ridge_reg_MRR,\n",
    "              Lasso_Regression_MRR=lasso_reg_MRR)\n",
    "coefs2 = plot_coefficients(X_train_scaled, models=models, thresh=(0.0025,3), title='Regression Models')"
   ]
  },
  {
   "cell_type": "code",
   "execution_count": null,
   "metadata": {
    "hide": true
   },
   "outputs": [],
   "source": [
    "models = dict(\n",
    "          Poly_Regression_PRP=lasso_reg2_PRP,\n",
    "          Poly_Regression_MRR=lasso_reg2_MRR)\n",
    "coefs3 = plot_coefficients(X_train_scaled_2, models=models, thresh=(0.0003,3), title='Polynomial Models')"
   ]
  },
  {
   "cell_type": "markdown",
   "metadata": {},
   "source": [
    "## 2. Key Variables Driving Investment Decisions"
   ]
  },
  {
   "cell_type": "markdown",
   "metadata": {},
   "source": [
    "The modeling has revealed key variables that should power the investment decisions: those which have significant coefficients across the distinct classification and regression models. These form the subset for our investment strategy formulation. This will aid interpretation and understanding for the investor at the loss of minimal investment efficacy. "
   ]
  },
  {
   "cell_type": "markdown",
   "metadata": {
    "hide": true
   },
   "source": [
    "**Top 10 Key Variables**:"
   ]
  },
  {
   "cell_type": "code",
   "execution_count": null,
   "metadata": {
    "hide": true
   },
   "outputs": [],
   "source": [
    "key_variables = coefs2['coefs'].sort_values().reset_index(drop=True)\n",
    "key_variables.name = 'key_variables'\n",
    "X_train_key = X_train_scaled[key_variables]\n",
    "print(key_variables)"
   ]
  },
  {
   "cell_type": "markdown",
   "metadata": {},
   "source": [
    "With the key variables established, we examine decision tree and random forest analysis on this key subset to establish the investment strategy. We focus on the most comprehensive outcome feature of `OUT_Monthly_Rate_Of_Return` since this feature takes into account the total amount repeiad with interest for the effective term of the loan. We visualize both a larger tree (for completeness and demonstrative purposes) and a simplified tree. "
   ]
  },
  {
   "cell_type": "code",
   "execution_count": null,
   "metadata": {
    "hide": true
   },
   "outputs": [],
   "source": [
    "keydecisiontree = DecisionTreeRegressor(random_state=0, \n",
    "                                     max_depth=10, \n",
    "                                     min_samples_split=.05)\n",
    "keydecisiontree.fit(X_train_key, OUT_Monthly_Rate_Of_Return_train)\n",
    "display(Markdown('**FULL Key Feaure Decision Tree**:'))\n",
    "print(keydecisiontree)\n",
    "graph = Source(export_graphviz(keydecisiontree, \n",
    "                               feature_names=X_train_key.columns,\n",
    "                               out_file=None, \n",
    "                               filled = True))\n",
    "display(SVG(graph.pipe(format='svg')))\n",
    "print()"
   ]
  },
  {
   "cell_type": "code",
   "execution_count": null,
   "metadata": {
    "hide": true
   },
   "outputs": [],
   "source": [
    "keydecisiontree = DecisionTreeRegressor(random_state=0, \n",
    "                                     max_depth=10, \n",
    "                                     min_samples_split=.05,\n",
    "                                     max_leaf_nodes=10)\n",
    "keydecisiontree.fit(X_train_key, OUT_Monthly_Rate_Of_Return_train)\n",
    "display(Markdown('**SIMPLIFIED Key Feature Decision Tree**:'))\n",
    "print(keydecisiontree)\n",
    "graph = Source(export_graphviz(keydecisiontree, \n",
    "                               feature_names=X_train_key.columns,\n",
    "                               out_file=None, \n",
    "                               filled = True))\n",
    "display(SVG(graph.pipe(format='svg')))\n",
    "print()"
   ]
  },
  {
   "cell_type": "code",
   "execution_count": null,
   "metadata": {
    "hide": true
   },
   "outputs": [],
   "source": [
    "keyrandomforest = RandomForestRegressor(n_estimators=10)\n",
    "keyrandomforest.fit(X_train_key, OUT_Monthly_Rate_Of_Return_train)\n",
    "display(Markdown('**Key Feature Random Forest**:'))\n",
    "print(keyrandomforest)\n",
    "importances = keyrandomforest.feature_importances_\n",
    "indices = np.argsort(importances)[::-1]\n",
    "plt.figure()\n",
    "plt.title(\"Feature Importance of Key Features\")\n",
    "plt.bar(range(X_train_key.shape[1]), importances[indices])\n",
    "plt.xticks(range(X_train_key.shape[1]), X_train_key.columns, rotation=90)\n",
    "plt.show()"
   ]
  },
  {
   "cell_type": "markdown",
   "metadata": {},
   "source": [
    "## 3. Investment Strategy"
   ]
  },
  {
   "cell_type": "markdown",
   "metadata": {},
   "source": [
    "Based on the completed analysis, we postulate the following simple investment strategy to only invest in loans that meet the following criteria. To reduce risk and get the full benefit of diversification, we recommended that the mimimun qualifying investment should be made across as many qualifying loans as possible."
   ]
  },
  {
   "cell_type": "markdown",
   "metadata": {},
   "source": [
    "#### Non-Renter"
   ]
  },
  {
   "cell_type": "markdown",
   "metadata": {},
   "source": [
    "Only invest in applications from non-renters."
   ]
  },
  {
   "cell_type": "code",
   "execution_count": null,
   "metadata": {},
   "outputs": [],
   "source": [
    "non_renters = (ls['D_home_ownership_RENT'] == 1)"
   ]
  },
  {
   "cell_type": "markdown",
   "metadata": {},
   "source": [
    "#### Shorter Term"
   ]
  },
  {
   "cell_type": "markdown",
   "metadata": {},
   "source": [
    "Only invest in applications with term of 36 months."
   ]
  },
  {
   "cell_type": "code",
   "execution_count": null,
   "metadata": {},
   "outputs": [],
   "source": [
    "short_term = (ls['D_term_ 36 months'] == 1)"
   ]
  },
  {
   "cell_type": "markdown",
   "metadata": {},
   "source": [
    "#### Few Recent Accounts Opened"
   ]
  },
  {
   "cell_type": "markdown",
   "metadata": {},
   "source": [
    "Only invest in applications from borrowers with less than 4 accounts opened in the last 24 months."
   ]
  },
  {
   "cell_type": "code",
   "execution_count": null,
   "metadata": {},
   "outputs": [],
   "source": [
    "few_recent_accounts = (ls['acc_open_past_24mths'] < 4)"
   ]
  },
  {
   "cell_type": "markdown",
   "metadata": {},
   "source": [
    "#### Low Debt-to-Income Ratio"
   ]
  },
  {
   "cell_type": "markdown",
   "metadata": {},
   "source": [
    "Only invest in applications from borrowers with debt-to-equity ratios of less than 20%."
   ]
  },
  {
   "cell_type": "code",
   "execution_count": null,
   "metadata": {},
   "outputs": [],
   "source": [
    "low_dti = (ls['dti'] < 20)"
   ]
  },
  {
   "cell_type": "markdown",
   "metadata": {},
   "source": [
    "#### Solidly Employed"
   ]
  },
  {
   "cell_type": "markdown",
   "metadata": {},
   "source": [
    "Only invest in applications from borrowers who have been employed over 5 years."
   ]
  },
  {
   "cell_type": "code",
   "execution_count": null,
   "metadata": {},
   "outputs": [],
   "source": [
    "solid_emp = (ls['emp_length'] > 5)"
   ]
  },
  {
   "cell_type": "markdown",
   "metadata": {},
   "source": [
    "#### Low Grade"
   ]
  },
  {
   "cell_type": "markdown",
   "metadata": {},
   "source": [
    "Only invest in loans of grade A, B, C or D"
   ]
  },
  {
   "cell_type": "code",
   "execution_count": null,
   "metadata": {},
   "outputs": [],
   "source": [
    "low_grade = ls['sub_grade'] <= 20"
   ]
  },
  {
   "cell_type": "markdown",
   "metadata": {},
   "source": [
    "## 4. Predictive Quality of Strategy"
   ]
  },
  {
   "cell_type": "code",
   "execution_count": null,
   "metadata": {},
   "outputs": [],
   "source": [
    "good_loans = np.all([non_renters, short_term, few_recent_accounts, low_dti, solid_emp, low_grade], axis=0)\n",
    "num_good_loans = np.sum(good_loans)\n",
    "print('num good loans: {}'.format(num_good_loans))"
   ]
  },
  {
   "cell_type": "code",
   "execution_count": null,
   "metadata": {},
   "outputs": [],
   "source": [
    "mean_good_loan = np.mean(ls['OUT_Principle_Repaid_Percentage'][good_loans])\n",
    "mean_good_loan"
   ]
  },
  {
   "cell_type": "code",
   "execution_count": null,
   "metadata": {},
   "outputs": [],
   "source": [
    "np.random.seed(0)\n",
    "rand_loan = np.random.choice(ls.index.values, size=num_good_loans, replace=False)\n",
    "\n",
    "mean_rand_loan = np.mean(ls['OUT_Principle_Repaid_Percentage'][rand_loan])\n",
    "mean_rand_loan"
   ]
  },
  {
   "cell_type": "code",
   "execution_count": null,
   "metadata": {},
   "outputs": [],
   "source": [
    "mean_gain = mean_good_loan/mean_rand_loan - 1\n",
    "mean_gain*100"
   ]
  }
 ],
 "metadata": {
  "celltoolbar": "Edit Metadata",
  "kernelspec": {
   "display_name": "Python 3",
   "language": "python",
   "name": "python3"
  },
  "language_info": {
   "codemirror_mode": {
    "name": "ipython",
    "version": 3
   },
   "file_extension": ".py",
   "mimetype": "text/x-python",
   "name": "python",
   "nbconvert_exporter": "python",
   "pygments_lexer": "ipython3",
   "version": "3.6.7"
  }
 },
 "nbformat": 4,
 "nbformat_minor": 2
}
