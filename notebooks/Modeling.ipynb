{
 "cells": [
  {
   "cell_type": "markdown",
   "metadata": {},
   "source": [
    "# Modeling"
   ]
  },
  {
   "cell_type": "code",
   "execution_count": 51,
   "metadata": {
    "hide": true
   },
   "outputs": [],
   "source": [
    "#IMPORTS\n",
    "import numpy as np\n",
    "import pandas as pd\n",
    "import matplotlib.pyplot as plt\n",
    "import seaborn as sns; sns.set(font_scale=1.15)\n",
    "from sklearn.dummy import DummyClassifier, DummyRegressor\n",
    "from sklearn.model_selection import cross_val_score\n",
    "from sklearn.linear_model import LinearRegression, LogisticRegression\n",
    "from sklearn.metrics import confusion_matrix, classification_report, roc_curve\n",
    "from sklearn.preprocessing import StandardScaler, PolynomialFeatures\n",
    "pd.options.display.max_rows = 50\n",
    "pd.options.display.max_columns = 50\n",
    "pd.options.display.float_format = '{:.10f}'.format\n",
    "plt.rcParams['figure.figsize'] = (8, 4)"
   ]
  },
  {
   "cell_type": "code",
   "execution_count": 52,
   "metadata": {
    "hide": true
   },
   "outputs": [],
   "source": [
    "#LOAD LOANSTATS\n",
    "directory = '../../data/'\n",
    "ls = pd.read_hdf(directory + 'ls_CLEAN.h5', 'ls_CLEAN')\n",
    "ls.sort_index(axis=1, inplace=True)"
   ]
  },
  {
   "cell_type": "markdown",
   "metadata": {},
   "source": [
    "This section presents the modeling we have undertaken to determine which loan features are most predictive of loan outcomes. A discussion of the results and implications follows in the [Investment Strategy](https://cs109group67.github.io/lendingclub/Strategy.html) section."
   ]
  },
  {
   "cell_type": "markdown",
   "metadata": {},
   "source": [
    "## 1. Preprocessing"
   ]
  },
  {
   "cell_type": "markdown",
   "metadata": {},
   "source": [
    "### 1A. Train-Test Split"
   ]
  },
  {
   "cell_type": "markdown",
   "metadata": {},
   "source": [
    "Before we begin modeling, we set aside a test set that we will use later to evaluate the predictive quality of our investment strategy. We do this in a stratified fashion ensuring that the outcome classes (fully paid loans and not fully paid loans) are equally represented in the train and test sets. For the splitting algorithm, we use `sklearn`'s `train_test_split` function. This function creates random train and test subsets of the dataset. The flag `stratify` ensures that both classes are equally represented in each set. "
   ]
  },
  {
   "cell_type": "code",
   "execution_count": 53,
   "metadata": {},
   "outputs": [],
   "source": [
    "from sklearn.model_selection import train_test_split\n",
    "ls_train, ls_test = train_test_split(ls, test_size=0.2, stratify=ls['OUT_Class'], random_state=1)"
   ]
  },
  {
   "cell_type": "markdown",
   "metadata": {},
   "source": [
    "### 1B. Standard Scaling"
   ]
  },
  {
   "cell_type": "markdown",
   "metadata": {},
   "source": [
    "The models used in the next sections assume that the features are on similar scales. To achieve this, we transform the numeric variables to a standard scale with mean 0 and standard deviation 1 using sklearn's `StandardScaler` function."
   ]
  },
  {
   "cell_type": "code",
   "execution_count": 54,
   "metadata": {},
   "outputs": [],
   "source": [
    "#SEPARATE OUTCOME, DUMMY AND NUMERIC VARIABLES\n",
    "var_list = ls.columns\n",
    "outcome_var_list = sorted(out_var for out_var in var_list if \"OUT_\" in out_var)\n",
    "dummy_var_list = sorted(dummy for dummy in var_list if \"D_\" in dummy)\n",
    "numeric_var_list = sorted(set(var_list) - set(outcome_var_list) - set(dummy_var_list))\n",
    "\n",
    "#train target\n",
    "outcome_train = ls_train[sorted(outcome_var_list)]\n",
    "OUT_Class_train = outcome_train.iloc[:,0]\n",
    "OUT_Principle_Repaid_Percentage_train = outcome_train.iloc[:,1]\n",
    "OUT_Monthly_Rate_Of_Return_train = outcome_train.iloc[:,2]\n",
    "\n",
    "#test target\n",
    "outcome_test = ls_test[sorted(outcome_var_list)]\n",
    "OUT_Class_test = pd.DataFrame(outcome_test.iloc[:,0])\n",
    "OUT_Principle_Repaid_Percentage_test = outcome_test.iloc[:,1]\n",
    "OUT_Monthly_Rate_Of_Return_test = outcome_test.iloc[:,2]"
   ]
  },
  {
   "cell_type": "code",
   "execution_count": 55,
   "metadata": {},
   "outputs": [],
   "source": [
    "#STANDARD SCALING\n",
    "scaler = StandardScaler()\n",
    "\n",
    "#train data -> fit_transform\n",
    "train_vars_scaled = pd.DataFrame(scaler.fit_transform(ls_train[numeric_var_list]),\n",
    "                                 index=ls_train.index, columns=ls_train[numeric_var_list].columns)\n",
    "feature_train = pd.concat([train_vars_scaled, ls_train[dummy_var_list]], axis=1).sort_index(axis=1)\n",
    "\n",
    "#test data -> transform\n",
    "test_vars_scaled = pd.DataFrame(scaler.transform(ls_test[numeric_var_list]),\n",
    "                                index=ls_test.index, columns=ls_test[numeric_var_list].columns)\n",
    "feature_test = pd.concat([test_vars_scaled, ls_test[dummy_var_list]], axis=1).sort_index(axis=1)"
   ]
  },
  {
   "cell_type": "markdown",
   "metadata": {},
   "source": [
    "### 1C. Model Evaluation Functions"
   ]
  },
  {
   "cell_type": "code",
   "execution_count": 56,
   "metadata": {},
   "outputs": [],
   "source": [
    "def model_scoring(model, feature, target, modeltype='C', cv=5):\n",
    "    \"\"\"Displays model evaluation for regression and classification modeling\"\"\"\n",
    "    scoring = ['accuracy', 'precision', 'recall']\n",
    "    if modeltype=='R': # regression\n",
    "        scoring = ['neg_mean_squared_error', 'r2']\n",
    "    for score in scoring:\n",
    "        cv_score = cross_val_score(model, feature, target, scoring=score, cv=cv).mean()\n",
    "        print('Cross-validation {}: {:.4}'.format(score, cv_score))"
   ]
  },
  {
   "cell_type": "code",
   "execution_count": 57,
   "metadata": {},
   "outputs": [],
   "source": [
    "class_names = ['Fully Repaid', 'Not Fully Repaid']\n",
    "def display_confusion_matrix(target, target_predicted):\n",
    "    \"\"\"Displays confusion matrix for classification models\"\"\"\n",
    "    fig, ax = plt.subplots(figsize=(8,4))\n",
    "    matrix = pd.DataFrame(confusion_matrix(target, target_predicted),\n",
    "                      index=class_names,\n",
    "                      columns=class_names)\n",
    "    sns.heatmap(matrix, annot=True, fmt='g', cbar=None, cmap='Blues')\n",
    "    plt.title('Confusion Matrix'), plt.ylabel('True Class'), plt.xlabel('Predicted Class')\n",
    "    ax.set_xticklabels(['Charged Off', 'Fully Repaid'], va='center')\n",
    "    ax.set_yticklabels(['Charged Off', 'Fully Repaid'], va='center')\n",
    "    plt.tight_layout()\n",
    "    plt.show()"
   ]
  },
  {
   "cell_type": "code",
   "execution_count": 58,
   "metadata": {},
   "outputs": [],
   "source": [
    "def display_ROC_curve(target, target_probabilities):\n",
    "    \"\"\"Displays the ROC curve for classification models\"\"\"\n",
    "    fig, ax = plt.subplots(figsize=(10,4))\n",
    "    true_pr, false_pr, threshold = roc_curve(target, target_probabilities)\n",
    "\n",
    "    ax.plot(false_pr, true_pr, label='ROC')\n",
    "    ax.plot([0,1], ls='--',label='random')\n",
    "    ax.plot([0,0],[1,0], c='.7', ), plt.plot([1,1], c='.7', label='perfect')\n",
    "    ax.set_title('Reciever Operating Characterisic')\n",
    "    ax.set_ylabel('True Positive Rate')\n",
    "    ax.set_xlabel('False Positive Rate')\n",
    "    plt.legend()\n",
    "    plt.show()"
   ]
  },
  {
   "cell_type": "markdown",
   "metadata": {},
   "source": [
    "## 2. `OUT_Class` Modeling"
   ]
  },
  {
   "cell_type": "markdown",
   "metadata": {},
   "source": [
    "### 2A. Baseline Classifier\n",
    "It is insightful to create some very simple models that we can use as a baseline to compare against our actual model. A basic measure of a classifier's performance is how much it improves on random guessing. Using sklearn's `dummyclassifer` with flag `strategy='uniform'` generates predictions uniformly at random between the training set's two classes."
   ]
  },
  {
   "cell_type": "code",
   "execution_count": 59,
   "metadata": {},
   "outputs": [
    {
     "name": "stdout",
     "output_type": "stream",
     "text": [
      "Cross-validation accuracy: 0.7653\n",
      "Cross-validation precision: 0.8643\n",
      "Cross-validation recall: 0.8642\n"
     ]
    }
   ],
   "source": [
    "#DUMMY CLASSIFIER OF 'OUT_Class' \n",
    "dummy_classifier = DummyClassifier(strategy='stratified', random_state=1)\n",
    "dummy_classifier.fit(feature_train, OUT_Class_train)\n",
    "model_scoring(dummy_classifier, feature_train, OUT_Class_train)"
   ]
  },
  {
   "cell_type": "markdown",
   "metadata": {},
   "source": [
    "### 2B. Logistic Regression Classifier"
   ]
  },
  {
   "cell_type": "markdown",
   "metadata": {},
   "source": [
    "This model is a logistic regression on the outcome variable `OUT_class` which is the binary classification for loans are either fully repaid (1) or charged off (0). The flag `class_weight='balanced'` ensures that both classes are equally represented in each set. "
   ]
  },
  {
   "cell_type": "code",
   "execution_count": 60,
   "metadata": {},
   "outputs": [
    {
     "name": "stdout",
     "output_type": "stream",
     "text": [
      "Cross-validation accuracy: 0.6314\n",
      "Cross-validation precision: 0.9168\n",
      "Cross-validation recall: 0.6309\n"
     ]
    }
   ],
   "source": [
    "#LOGISTIC REGRESSION\n",
    "classifier = LogisticRegression(solver='lbfgs', max_iter=10000, class_weight='balanced', random_state=0)\n",
    "classifier.fit(feature_train, OUT_Class_train)\n",
    "model_scoring(classifier, feature_train, OUT_Class_train, modeltype='C')"
   ]
  },
  {
   "cell_type": "code",
   "execution_count": 61,
   "metadata": {},
   "outputs": [
    {
     "name": "stdout",
     "output_type": "stream",
     "text": [
      "                  precision    recall  f1-score   support\n",
      "\n",
      "    Fully Repaid       0.21      0.63      0.32      9337\n",
      "Not Fully Repaid       0.92      0.63      0.75     59566\n",
      "\n",
      "       micro avg       0.63      0.63      0.63     68903\n",
      "       macro avg       0.56      0.63      0.53     68903\n",
      "    weighted avg       0.82      0.63      0.69     68903\n",
      "\n"
     ]
    }
   ],
   "source": [
    "print(classification_report(OUT_Class_test, classifier.predict(feature_test), target_names=class_names))"
   ]
  },
  {
   "cell_type": "code",
   "execution_count": 62,
   "metadata": {},
   "outputs": [
    {
     "data": {
      "image/png": "[encoded data removed]",
      "text/plain": [
       "<Figure size 576x288 with 1 Axes>"
      ]
     },
     "metadata": {},
     "output_type": "display_data"
    }
   ],
   "source": [
    "#CONFUSION MATRIX\n",
    "display_confusion_matrix(OUT_Class_test, classifier.predict(feature_test))"
   ]
  },
  {
   "cell_type": "code",
   "execution_count": 63,
   "metadata": {},
   "outputs": [
    {
     "data": {
      "image/png": "[encoded data removed]",
      "text/plain": [
       "<Figure size 720x288 with 1 Axes>"
      ]
     },
     "metadata": {},
     "output_type": "display_data"
    }
   ],
   "source": [
    "#ROC CURVE\n",
    "display_ROC_curve(OUT_Class_test, classifier.predict_proba(feature_test)[:,0])"
   ]
  },
  {
   "cell_type": "markdown",
   "metadata": {},
   "source": [
    "## 3 `OUT_Principle_Repaid_Percentage` Modeling"
   ]
  },
  {
   "cell_type": "markdown",
   "metadata": {},
   "source": [
    "### 3A. Baseline Regression\n",
    "A basic measure of a regressor's performance is how much better it is than a very simple model that makes constant predictions. Using sklearn's `DummyRegressor` with the flag `strategy='mean'` we get baseline predictions of the mean value in the training set."
   ]
  },
  {
   "cell_type": "code",
   "execution_count": 64,
   "metadata": {},
   "outputs": [
    {
     "name": "stdout",
     "output_type": "stream",
     "text": [
      "Cross-validation neg_mean_squared_error: -0.00223\n",
      "Cross-validation r2: -1.209e-05\n"
     ]
    }
   ],
   "source": [
    "#DUMMY REGRESSOR OF 'OUT_Principle_Repaid_Percentage' \n",
    "dummy_regression = DummyRegressor(strategy='mean')\n",
    "dummy_regression.fit(feature_train, OUT_Principle_Repaid_Percentage_train)\n",
    "model_scoring(dummy_regression, feature_train, OUT_Principle_Repaid_Percentage_train, modeltype='R')"
   ]
  },
  {
   "cell_type": "markdown",
   "metadata": {},
   "source": [
    "### 3B. Linear Regression\n",
    "Linear regression assumes that the relationship between the features and the outcome vector is approximately linear. We use the flag `fit_intercept=False` because by applying one-hot encoding for the dummy variables without discarding one dummy variable we have already inplicitly added an intercept term."
   ]
  },
  {
   "cell_type": "code",
   "execution_count": 65,
   "metadata": {},
   "outputs": [
    {
     "name": "stdout",
     "output_type": "stream",
     "text": [
      "Cross-validation neg_mean_squared_error: -0.002212\n",
      "Cross-validation r2: 0.007783\n"
     ]
    }
   ],
   "source": [
    "linear_regression = LinearRegression(fit_intercept=False)\n",
    "linear_regression.fit(feature_train, OUT_Principle_Repaid_Percentage_train)\n",
    "model_scoring(linear_regression, feature_train, OUT_Principle_Repaid_Percentage_train, modeltype='R')"
   ]
  },
  {
   "cell_type": "markdown",
   "metadata": {},
   "source": [
    "### 3C. Polynomial Regression\n",
    "Polynomial regression is an extension of linear regression to model non-linear relationships. "
   ]
  },
  {
   "cell_type": "markdown",
   "metadata": {},
   "source": [
    "#### Degree 2 (no interaction terms)"
   ]
  },
  {
   "cell_type": "code",
   "execution_count": 66,
   "metadata": {},
   "outputs": [],
   "source": [
    "train_2 = pd.DataFrame(np.hstack((feature_train.iloc[:,22:]**(i+1) for i in range(2))),\n",
    "                      index=feature_train.index, \n",
    "                      columns=numeric_var_list+[s+'_2' for s in numeric_var_list])\n",
    "feature_train_2 = pd.concat([ls_train[dummy_var_list], train_2], axis=1).sort_index(axis=1)"
   ]
  },
  {
   "cell_type": "code",
   "execution_count": 67,
   "metadata": {},
   "outputs": [],
   "source": [
    "test_2 = pd.DataFrame(np.hstack((feature_test.iloc[:,22:]**(i+1) for i in range(2))),\n",
    "                      index=feature_test.index, \n",
    "                      columns=numeric_var_list+[s+'_2' for s in numeric_var_list])\n",
    "feature_test_2 = pd.concat([ls_test[dummy_var_list], test_2], axis=1).sort_index(axis=1)"
   ]
  },
  {
   "cell_type": "code",
   "execution_count": 68,
   "metadata": {},
   "outputs": [
    {
     "name": "stdout",
     "output_type": "stream",
     "text": [
      "Cross-validation neg_mean_squared_error: -0.002568\n",
      "Cross-validation r2: -0.1488\n"
     ]
    }
   ],
   "source": [
    "poly2_regression = LinearRegression(fit_intercept=False)\n",
    "poly2_regression.fit(feature_train_2, OUT_Principle_Repaid_Percentage_train)\n",
    "model_scoring(poly2_regression, feature_train_2, OUT_Principle_Repaid_Percentage_train, modeltype='R')"
   ]
  },
  {
   "cell_type": "markdown",
   "metadata": {},
   "source": [
    "#### Degree 3 (no interaction terms)"
   ]
  },
  {
   "cell_type": "code",
   "execution_count": 69,
   "metadata": {},
   "outputs": [],
   "source": [
    "feature_train_3 = pd.DataFrame(np.hstack((feature_train.iloc[:,22:]**(i+1) for i in range(3))),\n",
    "                               index=feature_train.index, \n",
    "                               columns=numeric_var_list+[s+'_'+str(i) for i in range(2,4) for s in numeric_var_list])\n",
    "feature_train_3 = pd.concat([ls_train[dummy_var_list], feature_train_3], axis=1).sort_index(axis=1)"
   ]
  },
  {
   "cell_type": "code",
   "execution_count": 70,
   "metadata": {},
   "outputs": [],
   "source": [
    "feature_test_3 = pd.DataFrame(np.hstack((feature_test.iloc[:,22:]**(i+1) for i in range(3))),\n",
    "                               index=feature_test.index, \n",
    "                               columns=numeric_var_list+[s+'_'+str(i) for i in range(2,4) for s in numeric_var_list])\n",
    "feature_test_3 = pd.concat([ls_train[dummy_var_list], feature_test_3], axis=1).sort_index(axis=1)"
   ]
  },
  {
   "cell_type": "code",
   "execution_count": 71,
   "metadata": {},
   "outputs": [
    {
     "name": "stdout",
     "output_type": "stream",
     "text": [
      "Cross-validation neg_mean_squared_error: -8.682e+05\n",
      "Cross-validation r2: -3.952e+08\n"
     ]
    }
   ],
   "source": [
    "poly3_regression = LinearRegression(fit_intercept=False)\n",
    "poly3_regression.fit(feature_train_3, OUT_Principle_Repaid_Percentage_train)\n",
    "model_scoring(poly3_regression, feature_train_3, OUT_Principle_Repaid_Percentage_train, modeltype='R')"
   ]
  },
  {
   "cell_type": "markdown",
   "metadata": {},
   "source": [
    "## 4. `OUT_Monthly_Rate_Of_Return` Modeling"
   ]
  },
  {
   "cell_type": "markdown",
   "metadata": {},
   "source": [
    "### 4A. Baseline Regression"
   ]
  },
  {
   "cell_type": "code",
   "execution_count": 74,
   "metadata": {},
   "outputs": [
    {
     "name": "stdout",
     "output_type": "stream",
     "text": [
      "Cross-validation neg_mean_squared_error: -0.04668\n",
      "Cross-validation r2: -1.986e-05\n"
     ]
    }
   ],
   "source": [
    "#DUMMY REGRESSOR OF  `OUT_Monthly_Rate_Of_Return`\n",
    "dummy_regression = DummyRegressor(strategy='mean')\n",
    "dummy_regression.fit(feature_train, OUT_Monthly_Rate_Of_Return_train)\n",
    "model_scoring(dummy_regression, feature_train, OUT_Monthly_Rate_Of_Return_train, modeltype='R')"
   ]
  },
  {
   "cell_type": "markdown",
   "metadata": {},
   "source": [
    "### 4B. Linear Regression"
   ]
  },
  {
   "cell_type": "code",
   "execution_count": 75,
   "metadata": {},
   "outputs": [
    {
     "name": "stdout",
     "output_type": "stream",
     "text": [
      "Cross-validation neg_mean_squared_error: -0.04429\n",
      "Cross-validation r2: 0.05122\n"
     ]
    }
   ],
   "source": [
    "linear_regression = LinearRegression(fit_intercept=False)\n",
    "linear_regression.fit(feature_train, OUT_Monthly_Rate_Of_Return_train)\n",
    "model_scoring(linear_regression, feature_train, OUT_Monthly_Rate_Of_Return_train, modeltype='R')"
   ]
  },
  {
   "cell_type": "markdown",
   "metadata": {},
   "source": [
    "### 4C. Polynomial Regression"
   ]
  },
  {
   "cell_type": "markdown",
   "metadata": {},
   "source": [
    "#### Degree 2 (no interaction terms)"
   ]
  },
  {
   "cell_type": "code",
   "execution_count": 76,
   "metadata": {},
   "outputs": [],
   "source": [
    "train_2 = pd.DataFrame(np.hstack((feature_train.iloc[:,22:]**(i+1) for i in range(2))),\n",
    "                      index=feature_train.index, \n",
    "                      columns=numeric_var_list+[s+'_2' for s in numeric_var_list])\n",
    "feature_train_2 = pd.concat([ls_train[dummy_var_list], train_2], axis=1).sort_index(axis=1)"
   ]
  },
  {
   "cell_type": "code",
   "execution_count": 77,
   "metadata": {},
   "outputs": [],
   "source": [
    "test_2 = pd.DataFrame(np.hstack((feature_test.iloc[:,22:]**(i+1) for i in range(2))),\n",
    "                      index=feature_test.index, \n",
    "                      columns=numeric_var_list+[s+'_2' for s in numeric_var_list])\n",
    "feature_test_2 = pd.concat([ls_test[dummy_var_list], test_2], axis=1).sort_index(axis=1)"
   ]
  },
  {
   "cell_type": "code",
   "execution_count": 78,
   "metadata": {},
   "outputs": [
    {
     "name": "stdout",
     "output_type": "stream",
     "text": [
      "Cross-validation neg_mean_squared_error: -0.04538\n",
      "Cross-validation r2: 0.02776\n"
     ]
    }
   ],
   "source": [
    "poly2_regression = LinearRegression(fit_intercept=False)\n",
    "poly2_regression.fit(feature_train_2, OUT_Monthly_Rate_Of_Return_train)\n",
    "model_scoring(poly2_regression, feature_train_2, OUT_Monthly_Rate_Of_Return_train, modeltype='R')"
   ]
  },
  {
   "cell_type": "markdown",
   "metadata": {},
   "source": [
    "#### Degree 3 (no interaction terms)"
   ]
  },
  {
   "cell_type": "code",
   "execution_count": 79,
   "metadata": {},
   "outputs": [],
   "source": [
    "feature_train_3 = pd.DataFrame(np.hstack((feature_train.iloc[:,22:]**(i+1) for i in range(3))),\n",
    "                               index=feature_train.index, \n",
    "                               columns=numeric_var_list+[s+'_'+str(i) for i in range(2,4) for s in numeric_var_list])\n",
    "feature_train_3 = pd.concat([ls_train[dummy_var_list], feature_train_3], axis=1).sort_index(axis=1)"
   ]
  },
  {
   "cell_type": "code",
   "execution_count": 80,
   "metadata": {},
   "outputs": [],
   "source": [
    "feature_test_3 = pd.DataFrame(np.hstack((feature_test.iloc[:,22:]**(i+1) for i in range(3))),\n",
    "                               index=feature_test.index, \n",
    "                               columns=numeric_var_list+[s+'_'+str(i) for i in range(2,4) for s in numeric_var_list])\n",
    "feature_test_3 = pd.concat([ls_train[dummy_var_list], feature_test_3], axis=1).sort_index(axis=1)"
   ]
  },
  {
   "cell_type": "code",
   "execution_count": 81,
   "metadata": {},
   "outputs": [
    {
     "name": "stdout",
     "output_type": "stream",
     "text": [
      "Cross-validation neg_mean_squared_error: -3.298e+07\n",
      "Cross-validation r2: -7.097e+08\n"
     ]
    }
   ],
   "source": [
    "poly3_regression = LinearRegression(fit_intercept=False)\n",
    "poly3_regression.fit(feature_train_3, OUT_Principle_Repaid_Percentage_train)\n",
    "model_scoring(poly3_regression, feature_train_3, OUT_Monthly_Rate_Of_Return_train, modeltype='R')"
   ]
  }
 ],
 "metadata": {
  "kernelspec": {
   "display_name": "Python 3",
   "language": "python",
   "name": "python3"
  },
  "language_info": {
   "codemirror_mode": {
    "name": "ipython",
    "version": 3
   },
   "file_extension": ".py",
   "mimetype": "text/x-python",
   "name": "python",
   "nbconvert_exporter": "python",
   "pygments_lexer": "ipython3",
   "version": "3.6.5"
  }
 },
 "nbformat": 4,
 "nbformat_minor": 2
}
