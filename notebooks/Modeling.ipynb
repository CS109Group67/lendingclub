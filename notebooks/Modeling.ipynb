{
 "cells": [
  {
   "cell_type": "markdown",
   "metadata": {},
   "source": [
    "# Modeling"
   ]
  },
  {
   "cell_type": "code",
   "execution_count": 1,
   "metadata": {
    "hide": true
   },
   "outputs": [],
   "source": [
    "#IMPORTS\n",
    "import numpy as np\n",
    "import pandas as pd\n",
    "import matplotlib.pyplot as plt\n",
    "import seaborn as sns; sns.set(font_scale=1.15)\n",
    "from sklearn.dummy import DummyClassifier, DummyRegressor\n",
    "from sklearn.model_selection import cross_val_score\n",
    "from sklearn.linear_model import LogisticRegression\n",
    "from sklearn.metrics import confusion_matrix\n",
    "from sklearn.metrics import roc_curve, roc_auc_score\n",
    "from sklearn.preprocessing import StandardScaler\n",
    "pd.options.display.max_rows = 100\n",
    "pd.options.display.max_columns = 100\n",
    "pd.options.display.float_format = '{:.10f}'.format\n",
    "plt.rcParams['figure.figsize'] = (8, 4)"
   ]
  },
  {
   "cell_type": "code",
   "execution_count": 2,
   "metadata": {
    "hide": true
   },
   "outputs": [],
   "source": [
    "#LOAD LOANSTATS\n",
    "directory = '../../data/'\n",
    "ls = pd.read_hdf(directory + 'ls_CLEAN.h5', 'ls_CLEAN')\n",
    "ls.sort_index(axis=1, inplace=True)"
   ]
  },
  {
   "cell_type": "markdown",
   "metadata": {},
   "source": [
    "## 1. Preprocessing"
   ]
  },
  {
   "cell_type": "markdown",
   "metadata": {},
   "source": [
    "### 1A. Train-Test Split"
   ]
  },
  {
   "cell_type": "markdown",
   "metadata": {},
   "source": [
    "Before we begin modeling, we set aside a test set that we will use later to evaluate the predictive quality of our investment strategy. We do this in a stratified fashion ensuring that the outcome classes (fully paid loans and not fully paid loans) are equally represented in the train and test sets. For the splitting algorithm, we use `sklearn`'s `train_test_split` function. This function creates random train and test subsets of the dataset. The flag `stratify` ensures that both classes are equally represented in each set. "
   ]
  },
  {
   "cell_type": "code",
   "execution_count": 3,
   "metadata": {},
   "outputs": [],
   "source": [
    "from sklearn.model_selection import train_test_split\n",
    "ls_train, ls_test = train_test_split(ls, test_size=0.2, stratify=ls['OUT_Class'], random_state=1)"
   ]
  },
  {
   "cell_type": "markdown",
   "metadata": {},
   "source": [
    "### 1B. Standard Scaling"
   ]
  },
  {
   "cell_type": "markdown",
   "metadata": {},
   "source": [
    "The models used in the next sections assume that the features are on similar scales. To achieve this, we transform the numeric variables to a standard scale with mean 0 and standard deviation 1 using sklearn's `StandardScaler` function."
   ]
  },
  {
   "cell_type": "code",
   "execution_count": 4,
   "metadata": {},
   "outputs": [],
   "source": [
    "#IDENTIFY THE OUTCOME, DUMMY AND NUMERIC VARIABLES\n",
    "var_list = set(ls.columns)\n",
    "outcome_var_list = set(out_var for out_var in var_list if \"OUT_\" in out_var)\n",
    "dummy_var_list = set(dummy for dummy in var_list if \"D_\" in dummy)\n",
    "numeric_var_list = var_list - outcome_var_list - dummy_var_list"
   ]
  },
  {
   "cell_type": "code",
   "execution_count": 5,
   "metadata": {},
   "outputs": [],
   "source": [
    "#STANDARD SCALER\n",
    "scaler = StandardScaler()"
   ]
  },
  {
   "cell_type": "code",
   "execution_count": 6,
   "metadata": {},
   "outputs": [],
   "source": [
    "#SCALE THE TRAINING SETS (fit_transform)\n",
    "train_vars_scaled = pd.DataFrame(scaler.fit_transform(ls_train[list(numeric_var_list)]),\n",
    "                                 index=ls_train.index, \n",
    "                                 columns=ls_train[list(numeric_var_list)].columns)\n",
    "feature_train = pd.concat([train_vars_scaled, ls_train[list(dummy_var_list)]], axis=1).sort_index(axis=1)"
   ]
  },
  {
   "cell_type": "code",
   "execution_count": 7,
   "metadata": {},
   "outputs": [],
   "source": [
    "#STANDARDIZE THE TEST SET (transform)\n",
    "test_vars_scaled = pd.DataFrame(scaler.transform(ls_test[list(numeric_var_list)]),\n",
    "                                index=ls_test.index, \n",
    "                                columns=ls_test[list(numeric_var_list)].columns)\n",
    "feature_test = pd.concat([test_vars_scaled, ls_test[list(dummy_var_list)]], axis=1).sort_index(axis=1)"
   ]
  },
  {
   "cell_type": "code",
   "execution_count": 8,
   "metadata": {},
   "outputs": [],
   "source": [
    "#SET TARGET VARIABLES\n",
    "outcome_train = ls_train[sorted(outcome_var_list)]\n",
    "OUT_Class_train = outcome_train.iloc[:,0]\n",
    "OUT_Principle_Repaid_Percentage_train = outcome_train.iloc[:,1]\n",
    "OUT_Monthly_Rate_Of_Return_train = outcome_train.iloc[:,2]\n",
    "\n",
    "outcome_test = ls_test[sorted(outcome_var_list)]\n",
    "OUT_Class_test = pd.DataFrame(outcome_test.iloc[:,0])\n",
    "OUT_Principle_Repaid_Percentage_test = outcome_test.iloc[:,1]\n",
    "OUT_Monthly_Rate_Of_Return_test = outcome_test.iloc[:,2]"
   ]
  },
  {
   "cell_type": "markdown",
   "metadata": {},
   "source": [
    "### 1C. Model Evaluation Functions"
   ]
  },
  {
   "cell_type": "code",
   "execution_count": 9,
   "metadata": {},
   "outputs": [],
   "source": [
    "def model_scoring(model, feature, target, modeltype='C', cv=5):\n",
    "    \"\"\"Displays model evaluation for regression and classification modeling\"\"\"\n",
    "    scoring = ['accuracy', 'precision', 'recall']\n",
    "    if modeltype=='R': # regression\n",
    "        scoring = ['neg_mean_squared_error', 'r2']\n",
    "    for score in scoring:\n",
    "        cv_score = cross_val_score(model, feature, target, scoring=score, cv=cv).mean()\n",
    "        print('Cross-validation {}: {:.4}'.format(score, cv_score))"
   ]
  },
  {
   "cell_type": "code",
   "execution_count": 10,
   "metadata": {},
   "outputs": [],
   "source": [
    "def display_confusion_matrix(target, target_predicted):\n",
    "    \"\"\"Displays confusion matrix for classification models\"\"\"\n",
    "    fig, ax = plt.subplots(figsize=(8,4))\n",
    "    matrix = pd.DataFrame(confusion_matrix(target, target_predicted),\n",
    "                      index=['Fully Repaid', 'Not Fully Repaid'],\n",
    "                      columns=['Fully Repaid', 'Not Fully Repaid'])\n",
    "    sns.heatmap(matrix, annot=True, fmt='g', cbar=None, cmap='Blues')\n",
    "    plt.title('Confusion Matrix'), plt.ylabel('True Class'), plt.xlabel('Predicted Class')\n",
    "    ax.set_xticklabels(['Charged Off', 'Fully Repaid'], va='center')\n",
    "    ax.set_yticklabels(['Charged Off', 'Fully Repaid'], va='center')\n",
    "    plt.tight_layout()\n",
    "    plt.show()"
   ]
  },
  {
   "cell_type": "code",
   "execution_count": 11,
   "metadata": {},
   "outputs": [],
   "source": [
    "def display_ROC_curve(target, target_probabilities):\n",
    "    \"\"\"Displays the ROC curve for classification models\"\"\"\n",
    "    fig, ax = plt.subplots(figsize=(10,4))\n",
    "    true_pr, false_pr, threshold = roc_curve(target, target_probabilities)\n",
    "\n",
    "    ax.plot(false_pr, true_pr, label='ROC')\n",
    "    ax.plot([0,1], ls='--',label='random')\n",
    "    ax.plot([0,0],[1,0], c='.7', ), plt.plot([1,1], c='.7', label='perfect')\n",
    "    ax.set_title('Reciever Operating Characterisic')\n",
    "    ax.set_ylabel('True Positive Rate')\n",
    "    ax.set_xlabel('False Positive Rate')\n",
    "    plt.legend()\n",
    "    plt.show()"
   ]
  },
  {
   "cell_type": "markdown",
   "metadata": {},
   "source": [
    "## 2. Baseline Models\n",
    "\n",
    "It is insightful to create some very simple models that we can use as a baseline to compare against our actual model. sklearn's `DummyClassifier` and `DummyRegressor` allow us to concretely state the the benefits of usings a machine learning approach."
   ]
  },
  {
   "cell_type": "markdown",
   "metadata": {},
   "source": [
    "### 2A. Baseline Classification\n",
    "\n",
    "A basic measure of a classifier's performance is how much it improves on random guessing. Using sklearn's `dummyclassifer` with flag `strategy='uniform'` generates predictions uniformly at random between the training set's two classes."
   ]
  },
  {
   "cell_type": "code",
   "execution_count": 12,
   "metadata": {},
   "outputs": [
    {
     "name": "stdout",
     "output_type": "stream",
     "text": [
      "Cross-validation accuracy: 0.7653\n",
      "Cross-validation precision: 0.8643\n",
      "Cross-validation recall: 0.8642\n"
     ]
    }
   ],
   "source": [
    "#DUMMY CLASSIFIER OF 'OUT_Class' \n",
    "dummy_classifier = DummyClassifier(strategy='stratified', random_state=1)\n",
    "dummy_classifier.fit(feature_train, OUT_Class_train)\n",
    "model_scoring(dummy_classifier, feature_train, OUT_Class_train)"
   ]
  },
  {
   "cell_type": "markdown",
   "metadata": {},
   "source": [
    "### 2B. Baseline Regression\n",
    "\n",
    "A basic measure of a regressor's performance is how much better it is than a very simple model that makes constant predictions. Using sklearn's `DummyRegressor` with the flag `strategy='mean'` we get baseline predictions of the mean value in the training set."
   ]
  },
  {
   "cell_type": "code",
   "execution_count": 13,
   "metadata": {},
   "outputs": [
    {
     "name": "stdout",
     "output_type": "stream",
     "text": [
      "Cross-validation neg_mean_squared_error: -0.00223\n",
      "Cross-validation r2: -1.209e-05\n"
     ]
    }
   ],
   "source": [
    "#DUMMY REGRESSOR OF 'OUT_Principle_Repaid_Percentage' \n",
    "dummy_regressor = DummyRegressor(strategy='mean')\n",
    "dummy_regressor.fit(feature_train, OUT_Principle_Repaid_Percentage_train)\n",
    "model_scoring(dummy_regressor, feature_train, OUT_Principle_Repaid_Percentage_train, modeltype='R')"
   ]
  },
  {
   "cell_type": "code",
   "execution_count": 14,
   "metadata": {},
   "outputs": [
    {
     "name": "stdout",
     "output_type": "stream",
     "text": [
      "Cross-validation neg_mean_squared_error: -0.04668\n",
      "Cross-validation r2: -1.986e-05\n"
     ]
    }
   ],
   "source": [
    "#DUMMY REGRESSOR OF 'OUT_Monthly_Rate_Of_Return' \n",
    "dummy_regressor = DummyRegressor(strategy='mean')\n",
    "dummy_regressor.fit(feature_train, OUT_Monthly_Rate_Of_Return_train)\n",
    "model_scoring(dummy_regressor, feature_train, OUT_Monthly_Rate_Of_Return_train, modeltype='R')"
   ]
  },
  {
   "cell_type": "markdown",
   "metadata": {},
   "source": [
    "## 2. Binary Classifier"
   ]
  },
  {
   "cell_type": "markdown",
   "metadata": {},
   "source": [
    "This model is a logistic regression on the outcome variable `OUT_class` which is the binary classification for loans are either fully repaid (1) or charged off (0). The flag `class_weight='balanced'` ensures that both classes are equally represented in each set. "
   ]
  },
  {
   "cell_type": "code",
   "execution_count": 17,
   "metadata": {},
   "outputs": [
    {
     "name": "stdout",
     "output_type": "stream",
     "text": [
      "Cross-validation accuracy: 0.6314\n",
      "Cross-validation precision: 0.9168\n",
      "Cross-validation recall: 0.6309\n"
     ]
    }
   ],
   "source": [
    "#LOGISTIC REGRESSION\n",
    "classifier = LogisticRegression(solver='lbfgs', max_iter=10000, class_weight='balanced', random_state=0)\n",
    "classifier.fit(feature_train, OUT_Class_train)\n",
    "model_scoring(classifier, feature_train, OUT_Class_train, modeltype='C')"
   ]
  },
  {
   "cell_type": "code",
   "execution_count": 18,
   "metadata": {},
   "outputs": [
    {
     "data": {
      "image/png": "[encoded data removed]",
      "text/plain": [
       "<Figure size 576x288 with 1 Axes>"
      ]
     },
     "metadata": {},
     "output_type": "display_data"
    }
   ],
   "source": [
    "#CONFUSION MATRIX\n",
    "display_confusion_matrix(OUT_Class_test, classifier.predict(feature_test))"
   ]
  },
  {
   "cell_type": "code",
   "execution_count": 19,
   "metadata": {},
   "outputs": [
    {
     "data": {
      "image/png": "[encoded data removed]",
      "text/plain": [
       "<Figure size 720x288 with 1 Axes>"
      ]
     },
     "metadata": {},
     "output_type": "display_data"
    }
   ],
   "source": [
    "#ROC CURVE\n",
    "display_ROC_curve(OUT_Class_test, classifier.predict_proba(feature_test)[:,0])"
   ]
  },
  {
   "cell_type": "markdown",
   "metadata": {},
   "source": [
    "## 3. Linear Regression"
   ]
  },
  {
   "cell_type": "code",
   "execution_count": null,
   "metadata": {},
   "outputs": [],
   "source": []
  },
  {
   "cell_type": "code",
   "execution_count": null,
   "metadata": {},
   "outputs": [],
   "source": []
  },
  {
   "cell_type": "markdown",
   "metadata": {},
   "source": [
    "## 4. Trees and Forest"
   ]
  },
  {
   "cell_type": "code",
   "execution_count": null,
   "metadata": {},
   "outputs": [],
   "source": []
  },
  {
   "cell_type": "code",
   "execution_count": null,
   "metadata": {},
   "outputs": [],
   "source": []
  },
  {
   "cell_type": "markdown",
   "metadata": {},
   "source": [
    "## 5. K-Nearest Neighbors"
   ]
  },
  {
   "cell_type": "code",
   "execution_count": null,
   "metadata": {},
   "outputs": [],
   "source": []
  },
  {
   "cell_type": "code",
   "execution_count": null,
   "metadata": {},
   "outputs": [],
   "source": []
  },
  {
   "cell_type": "code",
   "execution_count": null,
   "metadata": {},
   "outputs": [],
   "source": [
    "#target_train_predicted = classifier.predict(feature_train)\n",
    "#target_train_probabilities = classifier.predict_proba(feature_train)[:,0]\n",
    "#target_test_predicted = classifier.predict(feature_test)\n",
    "#target_test_probabilities = classifier.predict_proba(feature_test)[:,0]"
   ]
  },
  {
   "cell_type": "code",
   "execution_count": null,
   "metadata": {},
   "outputs": [],
   "source": [
    "##ACCURACY\n",
    "#train_set_accuracy = dummy_classifier.score(feature_train, target_train)\n",
    "#print('Train Set Accuracy: {:.4}'.format(train_set_accuracy))\n",
    "\n",
    "##ACCURACY\n",
    "#test_set_accuracy = dummy_classifier.score(feature_test, target_test)\n",
    "#print('Test Set Accuracy: {:.4}'.format(test_set_accuracy))"
   ]
  }
 ],
 "metadata": {
  "kernelspec": {
   "display_name": "Python 3",
   "language": "python",
   "name": "python3"
  },
  "language_info": {
   "codemirror_mode": {
    "name": "ipython",
    "version": 3
   },
   "file_extension": ".py",
   "mimetype": "text/x-python",
   "name": "python",
   "nbconvert_exporter": "python",
   "pygments_lexer": "ipython3",
   "version": "3.6.5"
  }
 },
 "nbformat": 4,
 "nbformat_minor": 2
}
